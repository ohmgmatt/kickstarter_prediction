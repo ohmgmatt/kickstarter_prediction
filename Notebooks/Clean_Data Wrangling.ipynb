{
 "cells": [
  {
   "cell_type": "code",
   "execution_count": 2,
   "metadata": {},
   "outputs": [],
   "source": [
    "import pandas as pd\n",
    "\n",
    "from os import path\n",
    "import pathlib ##Getting to work in Notebooks\n",
    "import glob\n",
    "import numpy as np\n",
    "import json\n",
    "import matplotlib.pyplot as plt\n",
    "import math\n",
    "import time"
   ]
  },
  {
   "cell_type": "code",
   "execution_count": 3,
   "metadata": {},
   "outputs": [],
   "source": [
    "## Access folder where csv data is stored\n",
    "\n",
    "## Code from previous project; altered to work for jupyter notebooks\n",
    "## For code outside of notebooks, use: \n",
    "##     basepath = path.dirname(__file__)\n",
    "##     filepath = path.abspath(path.join(basepath, \"data\"))\n",
    "\n",
    "basepath = pathlib.Path().resolve()\n",
    "filepath = path.abspath(path.join(basepath,\"data\"))\n",
    "\n",
    "\n",
    "## https://stackoverflow.com/questions/20906474\n",
    "## /import-multiple-csv-files-into-pandas-and-concatenate-into-one-dataframe\n",
    "## Pulling from csvs when they're in a different location\n",
    "\n",
    "files = glob.glob(filepath + \"/*.csv\")\n",
    "\n",
    "sets = []\n",
    "\n",
    "for filename in files:\n",
    "    f = pd.read_csv(filename, index_col = None, header = 0)\n",
    "    sets.append(f)\n",
    "    \n",
    "df = pd.concat(sets, axis = 0, ignore_index = True)"
   ]
  },
  {
   "cell_type": "code",
   "execution_count": 4,
   "metadata": {},
   "outputs": [
    {
     "data": {
      "text/html": [
       "<div>\n",
       "<style scoped>\n",
       "    .dataframe tbody tr th:only-of-type {\n",
       "        vertical-align: middle;\n",
       "    }\n",
       "\n",
       "    .dataframe tbody tr th {\n",
       "        vertical-align: top;\n",
       "    }\n",
       "\n",
       "    .dataframe thead th {\n",
       "        text-align: right;\n",
       "    }\n",
       "</style>\n",
       "<table border=\"1\" class=\"dataframe\">\n",
       "  <thead>\n",
       "    <tr style=\"text-align: right;\">\n",
       "      <th></th>\n",
       "      <th>backers_count</th>\n",
       "      <th>blurb</th>\n",
       "      <th>category</th>\n",
       "      <th>converted_pledged_amount</th>\n",
       "      <th>country</th>\n",
       "      <th>created_at</th>\n",
       "      <th>creator</th>\n",
       "      <th>currency</th>\n",
       "      <th>currency_symbol</th>\n",
       "      <th>currency_trailing_code</th>\n",
       "      <th>...</th>\n",
       "      <th>slug</th>\n",
       "      <th>source_url</th>\n",
       "      <th>spotlight</th>\n",
       "      <th>staff_pick</th>\n",
       "      <th>state</th>\n",
       "      <th>state_changed_at</th>\n",
       "      <th>static_usd_rate</th>\n",
       "      <th>urls</th>\n",
       "      <th>usd_pledged</th>\n",
       "      <th>usd_type</th>\n",
       "    </tr>\n",
       "  </thead>\n",
       "  <tbody>\n",
       "    <tr>\n",
       "      <th>0</th>\n",
       "      <td>23</td>\n",
       "      <td>Ginger KICK! is back for the holidays with ama...</td>\n",
       "      <td>{\"id\":313,\"name\":\"Small Batch\",\"slug\":\"food/sm...</td>\n",
       "      <td>825</td>\n",
       "      <td>US</td>\n",
       "      <td>1509883503</td>\n",
       "      <td>{\"id\":990359968,\"name\":\"Danielle Ackley-McPhai...</td>\n",
       "      <td>USD</td>\n",
       "      <td>$</td>\n",
       "      <td>True</td>\n",
       "      <td>...</td>\n",
       "      <td>ginger-kick-holiday-cheer</td>\n",
       "      <td>https://www.kickstarter.com/discover/categorie...</td>\n",
       "      <td>True</td>\n",
       "      <td>False</td>\n",
       "      <td>successful</td>\n",
       "      <td>1510518809</td>\n",
       "      <td>1.0</td>\n",
       "      <td>{\"web\":{\"project\":\"https://www.kickstarter.com...</td>\n",
       "      <td>825.0</td>\n",
       "      <td>domestic</td>\n",
       "    </tr>\n",
       "    <tr>\n",
       "      <th>1</th>\n",
       "      <td>322</td>\n",
       "      <td>Let's go to the movies on the L.A. River! Help...</td>\n",
       "      <td>{\"id\":298,\"name\":\"Movie Theaters\",\"slug\":\"film...</td>\n",
       "      <td>10545</td>\n",
       "      <td>US</td>\n",
       "      <td>1361914696</td>\n",
       "      <td>{\"id\":860373786,\"name\":\"L.A. River Revitalizat...</td>\n",
       "      <td>USD</td>\n",
       "      <td>$</td>\n",
       "      <td>True</td>\n",
       "      <td>...</td>\n",
       "      <td>la-river-bike-in-movie-theater</td>\n",
       "      <td>https://www.kickstarter.com/discover/categorie...</td>\n",
       "      <td>True</td>\n",
       "      <td>True</td>\n",
       "      <td>successful</td>\n",
       "      <td>1365700816</td>\n",
       "      <td>1.0</td>\n",
       "      <td>{\"web\":{\"project\":\"https://www.kickstarter.com...</td>\n",
       "      <td>10545.0</td>\n",
       "      <td>domestic</td>\n",
       "    </tr>\n",
       "  </tbody>\n",
       "</table>\n",
       "<p>2 rows × 37 columns</p>\n",
       "</div>"
      ],
      "text/plain": [
       "   backers_count                                              blurb  \\\n",
       "0             23  Ginger KICK! is back for the holidays with ama...   \n",
       "1            322  Let's go to the movies on the L.A. River! Help...   \n",
       "\n",
       "                                            category  \\\n",
       "0  {\"id\":313,\"name\":\"Small Batch\",\"slug\":\"food/sm...   \n",
       "1  {\"id\":298,\"name\":\"Movie Theaters\",\"slug\":\"film...   \n",
       "\n",
       "   converted_pledged_amount country  created_at  \\\n",
       "0                       825      US  1509883503   \n",
       "1                     10545      US  1361914696   \n",
       "\n",
       "                                             creator currency currency_symbol  \\\n",
       "0  {\"id\":990359968,\"name\":\"Danielle Ackley-McPhai...      USD               $   \n",
       "1  {\"id\":860373786,\"name\":\"L.A. River Revitalizat...      USD               $   \n",
       "\n",
       "   currency_trailing_code  ...                            slug  \\\n",
       "0                    True  ...       ginger-kick-holiday-cheer   \n",
       "1                    True  ...  la-river-bike-in-movie-theater   \n",
       "\n",
       "                                          source_url  spotlight staff_pick  \\\n",
       "0  https://www.kickstarter.com/discover/categorie...       True      False   \n",
       "1  https://www.kickstarter.com/discover/categorie...       True       True   \n",
       "\n",
       "        state  state_changed_at  static_usd_rate  \\\n",
       "0  successful        1510518809              1.0   \n",
       "1  successful        1365700816              1.0   \n",
       "\n",
       "                                                urls  usd_pledged  usd_type  \n",
       "0  {\"web\":{\"project\":\"https://www.kickstarter.com...        825.0  domestic  \n",
       "1  {\"web\":{\"project\":\"https://www.kickstarter.com...      10545.0  domestic  \n",
       "\n",
       "[2 rows x 37 columns]"
      ]
     },
     "execution_count": 4,
     "metadata": {},
     "output_type": "execute_result"
    }
   ],
   "source": [
    "df.head(2)"
   ]
  },
  {
   "cell_type": "code",
   "execution_count": 4,
   "metadata": {},
   "outputs": [],
   "source": [
    "# df.describe()"
   ]
  },
  {
   "cell_type": "markdown",
   "metadata": {},
   "source": [
    "## Exploration\n",
    "\n",
    "There are 210,088 rows of backer data pulled from https://webrobots.io/kickstarter-datasets/\n",
    "All quantitative fields look to contain all information in some form since their respective counts are 210088. \n",
    "\n",
    "\n",
    "\n",
    "Looking at the backers_count field, it's interesting that the 75th percentile is at 89 while the max is at 105857. Additionally, the mean is at 145. With the mean being higher than the median, we can tell that backers_count is right skewed. This makes sense with Kickstarters and how their projects work. Incredibly popular projects will get way more than their goal and have a higher reach. \n",
    "\n",
    "\n",
    "The fields created_at, deadline, id, launched_at, state_changed_at look to be different data types than the ones presented by .describe()"
   ]
  },
  {
   "cell_type": "code",
   "execution_count": 5,
   "metadata": {},
   "outputs": [],
   "source": [
    "# df.info()"
   ]
  },
  {
   "cell_type": "markdown",
   "metadata": {},
   "source": [
    "There look to be several fields that are missing information.   \n",
    "'blurb', 'friends', 'is_backing', 'is_starred', 'location', 'permissions', 'usd_type'"
   ]
  },
  {
   "cell_type": "code",
   "execution_count": 6,
   "metadata": {},
   "outputs": [],
   "source": [
    "df[df['blurb'].isnull()]\n",
    "# It looks like for these 8, blurb is alright to be left out. Some projects may just leave out\n",
    "# a tiny portion of their information."
   ]
  },
  {
   "cell_type": "code",
   "execution_count": 7,
   "metadata": {},
   "outputs": [],
   "source": [
    "testset = df[df['friends'].notna()]"
   ]
  },
  {
   "cell_type": "code",
   "execution_count": 8,
   "metadata": {},
   "outputs": [],
   "source": [
    "friends_value = testset[testset['friends'] != '[]'].loc[:,'friends'].item()"
   ]
  },
  {
   "cell_type": "code",
   "execution_count": 9,
   "metadata": {},
   "outputs": [],
   "source": [
    "json.loads(friends_value)\n",
    "## From the friends column, it looks like only one row has this information properly filled in. Others just have '[]'\n",
    "## It also looks like this isn't relevant to predicting success of kickstarters. We can omit. "
   ]
  },
  {
   "cell_type": "code",
   "execution_count": 10,
   "metadata": {},
   "outputs": [],
   "source": [
    "df[df['is_backing'].notna()]['is_backing'].describe()\n",
    "# The is_backing column also looks to see if the user is backing the project or not. \n",
    "# This may be related to why several values are at 252 since it's respective to the account \n",
    "# that pulled the data? This may be omitted. \n",
    "# Since the dataset provided does not have a data dictionary, we can only make assumptions about what\n",
    "# the columns are"
   ]
  },
  {
   "cell_type": "code",
   "execution_count": 11,
   "metadata": {},
   "outputs": [],
   "source": [
    "df[df['is_starred'].notna()]['is_starred'].describe()\n",
    "# Same issue with is_starred"
   ]
  },
  {
   "cell_type": "code",
   "execution_count": 12,
   "metadata": {},
   "outputs": [],
   "source": [
    "df[df['location'].isnull()]['location']\n",
    "# For these, we can leave location as nulls. There are only 219 missing values and we may be able to work without them\n",
    "# As of now, there is no need to clean/backfill information"
   ]
  },
  {
   "cell_type": "code",
   "execution_count": 13,
   "metadata": {},
   "outputs": [],
   "source": [
    "df[df['permissions'].notna()]['permissions'].describe()\n",
    "# Same issue as is_backing. It looks like no information is stored however since all 252 values are []. Can omit."
   ]
  },
  {
   "cell_type": "code",
   "execution_count": 14,
   "metadata": {},
   "outputs": [],
   "source": [
    "df[['currency', 'usd_type']].describe()"
   ]
  },
  {
   "cell_type": "code",
   "execution_count": 15,
   "metadata": {},
   "outputs": [],
   "source": [
    "df[df['currency']!='USD']['usd_type'].value_counts()\n",
    "# Initial assumption that usd_type related only to currencies that had USD however it seems incorrect\n",
    "# Another idea could be that this relates to currency and starting country."
   ]
  },
  {
   "cell_type": "markdown",
   "metadata": {},
   "source": [
    "### Further Explorations"
   ]
  },
  {
   "cell_type": "code",
   "execution_count": 16,
   "metadata": {},
   "outputs": [],
   "source": [
    "df['country'].value_counts()\n",
    "# US Projects, followed by GB and CA are the most populous group. \n",
    "# US makes up about 70% of the projects. Top 3 make up 86% of projects. "
   ]
  },
  {
   "cell_type": "code",
   "execution_count": 17,
   "metadata": {},
   "outputs": [],
   "source": [
    "df['currency'].value_counts()\n",
    "# Matches country values. Several countries are grouped into Euros."
   ]
  },
  {
   "cell_type": "code",
   "execution_count": 18,
   "metadata": {},
   "outputs": [],
   "source": [
    "df['goal'].describe().apply(lambda x: format(x, 'f'))"
   ]
  },
  {
   "cell_type": "code",
   "execution_count": 19,
   "metadata": {},
   "outputs": [],
   "source": [
    "fig, ax = plt.subplots()\n",
    "df['goal'].hist(ax=ax, bins=100, bottom=0.1)\n",
    "ax.set_yscale('log')\n",
    "# A majority of projects have reasonably sized goals. A few have incredibly tiny goal (0.01)\n",
    "# and another few have incredibly large goals (100 million?)"
   ]
  },
  {
   "cell_type": "code",
   "execution_count": 20,
   "metadata": {},
   "outputs": [],
   "source": [
    "df[df['goal'] > 90000000].head(3)\n",
    "# It's interesting that these 90 million+ projects were created prior to 2018. \n",
    "# It'll also be interesting to see the categories that these projects are related to and which category pulls\n",
    "# the highest project goal average. "
   ]
  },
  {
   "cell_type": "code",
   "execution_count": 21,
   "metadata": {},
   "outputs": [],
   "source": [
    "df['state'].value_counts()\n",
    "## This number is different from kickstarters own 37% success rate. \n",
    "## Kickstarter also has 400k rows of data vs 200k so that could explain a discrepancy"
   ]
  },
  {
   "cell_type": "code",
   "execution_count": null,
   "metadata": {},
   "outputs": [],
   "source": []
  },
  {
   "cell_type": "code",
   "execution_count": null,
   "metadata": {},
   "outputs": [],
   "source": []
  },
  {
   "cell_type": "code",
   "execution_count": null,
   "metadata": {},
   "outputs": [],
   "source": []
  },
  {
   "cell_type": "code",
   "execution_count": null,
   "metadata": {},
   "outputs": [],
   "source": []
  },
  {
   "cell_type": "markdown",
   "metadata": {},
   "source": [
    "### Data Cleaning\n",
    "\n",
    "#### Cleaning up the times"
   ]
  },
  {
   "cell_type": "code",
   "execution_count": 22,
   "metadata": {},
   "outputs": [],
   "source": [
    "# Looking at the date fields\n",
    "df.head()[['created_at', 'deadline', 'launched_at', 'state_changed_at']]"
   ]
  },
  {
   "cell_type": "markdown",
   "metadata": {},
   "source": [
    "It looks like these are datetime fields and the dataset is storing them in epoch time. "
   ]
  },
  {
   "cell_type": "code",
   "execution_count": 23,
   "metadata": {},
   "outputs": [],
   "source": [
    "# We can import the time module and use either the gmtime or localtime\n",
    "# to converter epoch to the format we'd like.\n",
    "\n",
    "\n",
    "\n",
    "# epochtime = df.iloc[0]['created_at']\n",
    "\n",
    "# struct = time.gmtime(epochtime)\n",
    "# time_string = time.strftime(\"%Y-%m-%d, %H:%M:%S\", struct)\n",
    "# print(epochtime)\n",
    "# print(time_string)"
   ]
  },
  {
   "cell_type": "code",
   "execution_count": 4,
   "metadata": {},
   "outputs": [],
   "source": [
    "def epoch_to_date(epoch):\n",
    "    struct = time.gmtime(epoch)\n",
    "    date_string = time.strftime(\"%Y-%m-%d\", struct)\n",
    "    return date_string\n",
    "def epoch_to_time(epoch):\n",
    "    struct = time.gmtime(epoch)\n",
    "    time_string = time.strftime(\"%H:%M:%S\", struct)\n",
    "    return time_string"
   ]
  },
  {
   "cell_type": "code",
   "execution_count": 5,
   "metadata": {},
   "outputs": [],
   "source": [
    "df['created_at_date'] = df['created_at'].apply(epoch_to_date)\n",
    "df['created_at_time'] = df['created_at'].apply(epoch_to_time)"
   ]
  },
  {
   "cell_type": "code",
   "execution_count": 6,
   "metadata": {},
   "outputs": [],
   "source": [
    "date_fields = ['created_at', 'deadline', 'launched_at', 'state_changed_at']\n",
    "for field in date_fields:\n",
    "    df[field+'_date'] = df[field].apply(epoch_to_date)\n",
    "    df[field+'_time'] = df[field].apply(epoch_to_time)\n",
    "# Deciding to keep the original epoch time in case. Time subtractions will be easier to do w/ epoch time than\n",
    "# w/ string formatted time"
   ]
  },
  {
   "cell_type": "code",
   "execution_count": null,
   "metadata": {},
   "outputs": [],
   "source": []
  },
  {
   "cell_type": "markdown",
   "metadata": {},
   "source": [
    "#### Cleaning up categories"
   ]
  },
  {
   "cell_type": "code",
   "execution_count": 26,
   "metadata": {},
   "outputs": [],
   "source": [
    "# json.loads(df['category'][0])['slug']"
   ]
  },
  {
   "cell_type": "code",
   "execution_count": 27,
   "metadata": {},
   "outputs": [],
   "source": [
    "# json.loads(df['category'][1])['name']"
   ]
  },
  {
   "cell_type": "code",
   "execution_count": null,
   "metadata": {},
   "outputs": [],
   "source": []
  },
  {
   "cell_type": "code",
   "execution_count": 7,
   "metadata": {},
   "outputs": [],
   "source": [
    "def puller(value, category):\n",
    "    try:\n",
    "        return json.loads(value)[category]\n",
    "    except:\n",
    "        return 'N/A'"
   ]
  },
  {
   "cell_type": "code",
   "execution_count": 4,
   "metadata": {},
   "outputs": [],
   "source": [
    "# df['category_name'] = df['category'].apply(puller, category = 'name')\n",
    "# df['category_slug'] = df['category'].apply(puller, category = 'slug')"
   ]
  },
  {
   "cell_type": "code",
   "execution_count": 5,
   "metadata": {},
   "outputs": [],
   "source": [
    "# df[['category', 'category_name', 'category_slug']].head()"
   ]
  },
  {
   "cell_type": "code",
   "execution_count": 8,
   "metadata": {},
   "outputs": [],
   "source": [
    "to_clean = {\n",
    "    'category':['name', 'slug'],\n",
    "    'location':['displayable_name', 'localized_name','country', 'state'],\n",
    "    'profile':['id', 'project_id', 'state'],\n",
    "    'urls':['web']\n",
    "}"
   ]
  },
  {
   "cell_type": "code",
   "execution_count": 9,
   "metadata": {},
   "outputs": [],
   "source": [
    "for key,value in to_clean.items():\n",
    "    for v in value:\n",
    "        df[key+'_'+v] = df[key].apply(puller, category = v)"
   ]
  },
  {
   "cell_type": "code",
   "execution_count": 8,
   "metadata": {},
   "outputs": [],
   "source": [
    "droplist = ['friends', 'is_backing', 'is_starred', 'permissions', \n",
    "           'currency_symbol', #$ related to USD, CAD, AUS etc.\n",
    "           'disable_communication', #? not necessary\n",
    "           'is_starrable', #? not necessary\n",
    "           'photo', #not necessary. no image analysis\n",
    "           'source_url'] #only discover category url, not useful for analysis since we already have category\n",
    "df.drop(droplist, axis = 1, inplace = True)"
   ]
  },
  {
   "cell_type": "code",
   "execution_count": 10,
   "metadata": {
    "collapsed": true
   },
   "outputs": [
    {
     "name": "stdout",
     "output_type": "stream",
     "text": [
      "<class 'pandas.core.frame.DataFrame'>\n",
      "RangeIndex: 210088 entries, 0 to 210087\n",
      "Data columns (total 55 columns):\n",
      "backers_count                210088 non-null int64\n",
      "blurb                        210080 non-null object\n",
      "category                     210088 non-null object\n",
      "converted_pledged_amount     210088 non-null int64\n",
      "country                      210088 non-null object\n",
      "created_at                   210088 non-null int64\n",
      "creator                      210088 non-null object\n",
      "currency                     210088 non-null object\n",
      "currency_symbol              210088 non-null object\n",
      "currency_trailing_code       210088 non-null bool\n",
      "current_currency             210088 non-null object\n",
      "deadline                     210088 non-null int64\n",
      "disable_communication        210088 non-null bool\n",
      "friends                      252 non-null object\n",
      "fx_rate                      210088 non-null float64\n",
      "goal                         210088 non-null float64\n",
      "id                           210088 non-null int64\n",
      "is_backing                   252 non-null object\n",
      "is_starrable                 210088 non-null bool\n",
      "is_starred                   252 non-null object\n",
      "launched_at                  210088 non-null int64\n",
      "location                     209869 non-null object\n",
      "name                         210088 non-null object\n",
      "permissions                  252 non-null object\n",
      "photo                        210088 non-null object\n",
      "pledged                      210088 non-null float64\n",
      "profile                      210088 non-null object\n",
      "slug                         210088 non-null object\n",
      "source_url                   210088 non-null object\n",
      "spotlight                    210088 non-null bool\n",
      "staff_pick                   210088 non-null bool\n",
      "state                        210088 non-null object\n",
      "state_changed_at             210088 non-null int64\n",
      "static_usd_rate              210088 non-null float64\n",
      "urls                         210088 non-null object\n",
      "usd_pledged                  210088 non-null float64\n",
      "usd_type                     209908 non-null object\n",
      "created_at_date              210088 non-null object\n",
      "created_at_time              210088 non-null object\n",
      "deadline_date                210088 non-null object\n",
      "deadline_time                210088 non-null object\n",
      "launched_at_date             210088 non-null object\n",
      "launched_at_time             210088 non-null object\n",
      "state_changed_at_date        210088 non-null object\n",
      "state_changed_at_time        210088 non-null object\n",
      "category_name                210088 non-null object\n",
      "category_slug                210088 non-null object\n",
      "location_displayable_name    210088 non-null object\n",
      "location_localized_name      210088 non-null object\n",
      "location_country             210088 non-null object\n",
      "location_state               210023 non-null object\n",
      "profile_id                   210088 non-null object\n",
      "profile_project_id           210088 non-null object\n",
      "profile_state                210088 non-null object\n",
      "urls_web                     210088 non-null object\n",
      "dtypes: bool(5), float64(5), int64(7), object(38)\n",
      "memory usage: 81.1+ MB\n"
     ]
    }
   ],
   "source": [
    "df.info()"
   ]
  },
  {
   "cell_type": "code",
   "execution_count": 11,
   "metadata": {},
   "outputs": [],
   "source": []
  },
  {
   "cell_type": "code",
   "execution_count": null,
   "metadata": {},
   "outputs": [],
   "source": []
  },
  {
   "cell_type": "code",
   "execution_count": null,
   "metadata": {},
   "outputs": [],
   "source": []
  },
  {
   "cell_type": "code",
   "execution_count": null,
   "metadata": {},
   "outputs": [],
   "source": []
  },
  {
   "cell_type": "code",
   "execution_count": null,
   "metadata": {},
   "outputs": [],
   "source": []
  },
  {
   "cell_type": "code",
   "execution_count": null,
   "metadata": {},
   "outputs": [],
   "source": []
  },
  {
   "cell_type": "code",
   "execution_count": null,
   "metadata": {},
   "outputs": [],
   "source": []
  }
 ],
 "metadata": {
  "kernelspec": {
   "display_name": "Python 3",
   "language": "python",
   "name": "python3"
  },
  "language_info": {
   "codemirror_mode": {
    "name": "ipython",
    "version": 3
   },
   "file_extension": ".py",
   "mimetype": "text/x-python",
   "name": "python",
   "nbconvert_exporter": "python",
   "pygments_lexer": "ipython3",
   "version": "3.7.3"
  }
 },
 "nbformat": 4,
 "nbformat_minor": 2
}
