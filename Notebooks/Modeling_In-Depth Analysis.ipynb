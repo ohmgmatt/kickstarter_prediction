{
 "cells": [
  {
   "cell_type": "code",
   "execution_count": 1,
   "metadata": {},
   "outputs": [],
   "source": [
    "import pandas as pd\n",
    "import numpy as np\n",
    "import seaborn as sns\n",
    "import matplotlib.pyplot as plt\n",
    "from pprint import pprint\n",
    "\n",
    "from sklearn.model_selection import train_test_split\n",
    "from sklearn.linear_model import LogisticRegression\n",
    "from sklearn.metrics import make_scorer, fbeta_score, roc_curve, confusion_matrix, precision_recall_curve\n",
    "\n",
    "from sklearn.model_selection import KFold\n",
    "from sklearn.model_selection import GridSearchCV\n",
    "\n",
    "from sklearn.preprocessing import RobustScaler\n",
    "from sklearn.pipeline import Pipeline\n",
    "\n",
    "from inspect import signature\n",
    "from sklearn.metrics import average_precision_score"
   ]
  },
  {
   "cell_type": "code",
   "execution_count": 2,
   "metadata": {},
   "outputs": [],
   "source": [
    "#############\n",
    "##Making scorers\n",
    "#############\n",
    "f_precision = make_scorer(fbeta_score, beta = .5) ## More weight towards precision\n",
    "f_recall = make_scorer(fbeta_score, beta = 1.1) ## More weight towards recall"
   ]
  },
  {
   "cell_type": "code",
   "execution_count": 3,
   "metadata": {},
   "outputs": [],
   "source": [
    "df = pd.read_pickle('kickstarter_NB.pkl')\n",
    "df = df.dropna()\n",
    "df['MNB_cat'] = df.MNB_cat.astype(int)\n",
    "df['MNB_cat_Desc'] = df.MNB_cat_Desc.astype(int)"
   ]
  },
  {
   "cell_type": "code",
   "execution_count": 4,
   "metadata": {},
   "outputs": [],
   "source": [
    "## Selecting Features\n",
    "features=['country','img_count', 'vid_count',\n",
    "          'usd_goal', 'description_len', 'blurb_len', \n",
    "          'slug_len', 'med_rewards','category_core', \n",
    "          'reward_len', 'created_month', 'created_weekday', \n",
    "          'deadline_month', 'deadline_weekday', \n",
    "          'length_of_project', 'MNB_cat', 'MNB_cat_Desc']\n",
    "dependent=['failed']\n",
    "toscale = ['img_count', 'vid_count', 'usd_goal', 'description_len', \n",
    "           'blurb_len', 'slug_len', \n",
    "           'med_rewards', 'reward_len', 'length_of_project']"
   ]
  },
  {
   "cell_type": "code",
   "execution_count": 5,
   "metadata": {},
   "outputs": [],
   "source": [
    "X=df[features]\n",
    "y=df[dependent]\n",
    "\n",
    "## Getting dummy variables\n",
    "X = pd.get_dummies(X, drop_first = True)\n",
    "y = y.values.ravel()"
   ]
  },
  {
   "cell_type": "code",
   "execution_count": 6,
   "metadata": {},
   "outputs": [],
   "source": [
    "X_train, X_test, y_train, y_test = train_test_split(X, y, \n",
    "                                                   test_size = 0.4, random_state = 42)"
   ]
  },
  {
   "cell_type": "code",
   "execution_count": 7,
   "metadata": {},
   "outputs": [],
   "source": [
    "################################\n",
    "## Implementing A Robust Scaler\n",
    "################################\n",
    "from sklearn.compose import ColumnTransformer\n",
    "robust_transformer = Pipeline(steps = [ ('robust', RobustScaler()) ] )\n",
    "preprocessor = ColumnTransformer(remainder = 'passthrough', \n",
    "                                transformers = [('rb', robust_transformer, toscale)])\n",
    "preprocessor.fit(X)\n",
    "X_scale = preprocessor.transform(X)"
   ]
  },
  {
   "cell_type": "code",
   "execution_count": 8,
   "metadata": {},
   "outputs": [],
   "source": [
    "################################\n",
    "## getting scaled training data\n",
    "################################\n",
    "Xs_train, Xs_test, ys_train, ys_test = train_test_split(X_scale, y, \n",
    "                                                   test_size = 0.3, random_state = 42)"
   ]
  },
  {
   "cell_type": "markdown",
   "metadata": {},
   "source": [
    "# Logistic Regression"
   ]
  },
  {
   "cell_type": "code",
   "execution_count": 161,
   "metadata": {},
   "outputs": [
    {
     "name": "stdout",
     "output_type": "stream",
     "text": [
      "Training acc_score: 75.67 \n",
      "Testing acc_score: 76.25\n"
     ]
    }
   ],
   "source": [
    "###############################\n",
    "## Initial Model using Scaled\n",
    "###############################\n",
    "clf = LogisticRegression(solver='liblinear')\n",
    "clf.fit(Xs_train, ys_train)\n",
    "\n",
    "training = clf.predict(Xs_train)\n",
    "y_pred = clf.predict(Xs_test)\n",
    "\n",
    "train_acc = fbeta_score(ys_train, training, beta = 1.1)\n",
    "test_acc = fbeta_score(ys_test, y_pred, beta = 1.1)\n",
    "\n",
    "print(\"Training acc_score: {:.2f} \\nTesting acc_score: {:.2f}\".format(train_acc*100, test_acc*100))"
   ]
  },
  {
   "cell_type": "code",
   "execution_count": 162,
   "metadata": {},
   "outputs": [
    {
     "name": "stdout",
     "output_type": "stream",
     "text": [
      "Adjusted Threshold Test Score: 77.41\n"
     ]
    }
   ],
   "source": [
    "###############################\n",
    "## adjusting for threshold\n",
    "###############################\n",
    "y_pred_prob = clf.predict_proba(Xs_test)[:,1] > .4\n",
    "fb = fbeta_score(ys_test, y_pred_prob, beta = 1.1)\n",
    "\n",
    "print(\"Adjusted Threshold Test Score: {:.2f}\".format(fb*100))"
   ]
  },
  {
   "cell_type": "code",
   "execution_count": 163,
   "metadata": {},
   "outputs": [
    {
     "name": "stdout",
     "output_type": "stream",
     "text": [
      "The best parameters are: {'C': 10} \n",
      "and the best score is: 75.63\n"
     ]
    }
   ],
   "source": [
    "###########################\n",
    "## Utilizing GridSearchCV; scaled\n",
    "###########################\n",
    "params = {'C':[0.0001, 0.001, 0.1, 1, 10, 100]}\n",
    "clf = LogisticRegression(solver='liblinear')\n",
    "gs_cv = GridSearchCV(clf, param_grid=params, cv = 5, scoring = f_recall)\n",
    "gs_cv.fit(Xs_train, ys_train)\n",
    "\n",
    "print('The best parameters are: {} \\nand the best score is: {:.2f}'.format(gs_cv.best_params_, gs_cv.best_score_*100))"
   ]
  },
  {
   "cell_type": "code",
   "execution_count": 164,
   "metadata": {},
   "outputs": [
    {
     "name": "stdout",
     "output_type": "stream",
     "text": [
      "0.7451779152447037\n"
     ]
    }
   ],
   "source": [
    "#################\n",
    "## Utilizing CV, scaled\n",
    "#################\n",
    "Xs_arr = X_scale\n",
    "final = 0\n",
    "clf = LogisticRegression(solver='liblinear', C=10)\n",
    "for train, test in KFold(n_splits=10).split(Xs_arr):\n",
    "    clf.fit(Xs_arr[train], y[train])\n",
    "    probs = clf.predict_proba(Xs_arr[test])\n",
    "    pred = probs[:,1] > .4\n",
    "    ## using a threshold of .4 and a weight towards recall\n",
    "    acc = fbeta_score(y[test], pred, beta = 1.1)\n",
    "    final += acc\n",
    "    \n",
    "final = final / 10 # n of folds\n",
    "print(final)"
   ]
  },
  {
   "cell_type": "code",
   "execution_count": 165,
   "metadata": {},
   "outputs": [
    {
     "name": "stdout",
     "output_type": "stream",
     "text": [
      "Training acc_score: 0.7865137023473472 \n",
      "Testing acc_score: 0.7907664090983403\n"
     ]
    }
   ],
   "source": [
    "###############################\n",
    "## Initial Model using Scaled & roc_auc\n",
    "###############################\n",
    "training = clf.predict(Xs_train)\n",
    "y_pred = clf.predict(Xs_test)\n",
    "\n",
    "ra_train_acc = roc_auc_score(ys_train, training)\n",
    "ra_test_acc = roc_auc_score(ys_test, y_pred)\n",
    "\n",
    "print(\"Training acc_score: {} \\nTesting acc_score: {}\".format(ra_train_acc, ra_test_acc))"
   ]
  },
  {
   "cell_type": "code",
   "execution_count": 166,
   "metadata": {},
   "outputs": [
    {
     "data": {
      "text/plain": [
       "(0, 1)"
      ]
     },
     "execution_count": 166,
     "metadata": {},
     "output_type": "execute_result"
    },
    {
     "data": {
      "image/png": "[encoded data removed]",
      "text/plain": [
       "<Figure size 432x288 with 1 Axes>"
      ]
     },
     "metadata": {
      "needs_background": "light"
     },
     "output_type": "display_data"
    }
   ],
   "source": [
    "########################\n",
    "## Using Precision/Recall graphically\n",
    "########################\n",
    "## https://stackoverflow.com/questions/28716241/controlling-the-threshold-in-logistic-regression-in-scikit-learn\n",
    "y_pred = clf.predict(Xs_test)\n",
    "y_probs = clf.predict_proba(Xs_test)\n",
    "\n",
    "from sklearn.metrics import precision_recall_curve, auc\n",
    "\n",
    "precision, recall, thresholds = precision_recall_curve(ys_test, y_probs[:,1])\n",
    "\n",
    "plt.title(\"Precision-Recall vs Threshold Chart\")\n",
    "plt.plot(thresholds, precision[: -1], \"b--\", label=\"Precision\")\n",
    "plt.plot(thresholds, recall[: -1], \"r--\", label=\"Recall\")\n",
    "plt.ylabel(\"Precision, Recall\")\n",
    "plt.xlabel(\"Threshold\")\n",
    "plt.legend(loc=\"lower left\")\n",
    "plt.ylim([0,1])"
   ]
  },
  {
   "cell_type": "code",
   "execution_count": 167,
   "metadata": {},
   "outputs": [
    {
     "name": "stdout",
     "output_type": "stream",
     "text": [
      "The best parameters are: {'C': 10} \n",
      "and the best score is: 0.7872904721381669\n"
     ]
    }
   ],
   "source": [
    "###########################\n",
    "## Utilizing GridSearchCV w/ roc_auc\n",
    "###########################\n",
    "r_a = make_scorer(roc_auc_score)\n",
    "\n",
    "params = {'C':[0.0001, 0.001, 0.1, 1, 10, 100]}\n",
    "clf = LogisticRegression(solver='liblinear')\n",
    "gs_cv = GridSearchCV(clf, param_grid=params, scoring = r_a, cv = 5)\n",
    "gs_cv.fit(Xs_train, ys_train)\n",
    "\n",
    "print('The best parameters are: {} \\nand the best score is: {}'.format(gs_cv.best_params_, gs_cv.best_score_))"
   ]
  },
  {
   "cell_type": "code",
   "execution_count": 90,
   "metadata": {},
   "outputs": [
    {
     "name": "stdout",
     "output_type": "stream",
     "text": [
      "The best parameters are: {'C': 0.001} \n",
      "and the best score is: 0.6959720530110544\n"
     ]
    }
   ],
   "source": [
    "#########################\n",
    "## Utilizing GSCV w/ fbeta\n",
    "#########################\n",
    "\n",
    "\n",
    "params = {'C':[0.0001, 0.001, 0.1, 1, 10, 100]}\n",
    "clf = LogisticRegression(solver='liblinear')\n",
    "gs_cv = GridSearchCV(clf, param_grid=params, scoring = f_recall, cv = 5)\n",
    "gs_cv.fit(Xs_train, ys_train)\n",
    "\n",
    "print('The best parameters are: {} \\nand the best score is: {}'.format(gs_cv.best_params_, gs_cv.best_score_))"
   ]
  },
  {
   "cell_type": "code",
   "execution_count": 168,
   "metadata": {},
   "outputs": [
    {
     "name": "stdout",
     "output_type": "stream",
     "text": [
      "CPU times: user 2.81 s, sys: 26.8 ms, total: 2.84 s\n",
      "Wall time: 2.87 s\n",
      "CPU times: user 9.36 ms, sys: 234 µs, total: 9.59 ms\n",
      "Wall time: 4.8 ms\n",
      "0.7740531330389262\n"
     ]
    }
   ],
   "source": [
    "######################\n",
    "## LogReg model using optimal C and scored by fbeta\n",
    "######################\n",
    "\n",
    "logreg = LogisticRegression(solver='liblinear', C=10)\n",
    "%time logreg.fit(Xs_train, ys_train)\n",
    "\n",
    "y_pred = logreg.predict(Xs_test)\n",
    "%time y_probs = logreg.predict_proba(Xs_test)\n",
    "\n",
    "thresh = y_probs[:,1] >= .4\n",
    "\n",
    "score = fbeta_score(ys_test, thresh, beta = 1.1)\n",
    "print(score)"
   ]
  },
  {
   "cell_type": "code",
   "execution_count": 169,
   "metadata": {},
   "outputs": [
    {
     "name": "stdout",
     "output_type": "stream",
     "text": [
      "0.7740410213772531\n"
     ]
    }
   ],
   "source": [
    "## Utilize KFold to split Train set\n",
    "score = 0\n",
    "folds = 10\n",
    "logreg = LogisticRegression(solver='liblinear', C=10)\n",
    "for train, test in KFold(n_splits = folds).split(Xs_train):\n",
    "    logreg.fit(Xs_train[train], ys_train[train])\n",
    "    probs = logreg.predict_proba(Xs_test)\n",
    "    pred = probs[:,1] > .4\n",
    "    fb = fbeta_score(ys_test, pred, beta = 1.1)\n",
    "    score += fb\n",
    "\n",
    "score = score / folds\n",
    "print(score)"
   ]
  },
  {
   "cell_type": "code",
   "execution_count": 171,
   "metadata": {},
   "outputs": [
    {
     "data": {
      "text/plain": [
       "(0, 1)"
      ]
     },
     "execution_count": 171,
     "metadata": {},
     "output_type": "execute_result"
    },
    {
     "data": {
      "image/png": "[encoded data removed]",
      "text/plain": [
       "<Figure size 432x288 with 1 Axes>"
      ]
     },
     "metadata": {
      "needs_background": "light"
     },
     "output_type": "display_data"
    }
   ],
   "source": [
    "logreg = LogisticRegression(solver='liblinear', C=10)\n",
    "logreg.fit(Xs_train, ys_train)\n",
    "y_pred = logreg.predict(Xs_test)\n",
    "y_probs = logreg.predict_proba(Xs_test)\n",
    "\n",
    "from sklearn.metrics import precision_recall_curve, auc\n",
    "\n",
    "precision, recall, thresholds = precision_recall_curve(ys_test, y_probs[:,1])\n",
    "\n",
    "pr_auc = auc(recall, precision)\n",
    "\n",
    "\n",
    "plt.title(\"Precision-Recall vs Threshold Chart\")\n",
    "plt.plot(thresholds, precision[: -1], \"b--\", label=\"Precision\")\n",
    "plt.plot(thresholds, recall[: -1], \"r--\", label=\"Recall\")\n",
    "plt.ylabel(\"Precision, Recall\")\n",
    "plt.xlabel(\"Threshold\")\n",
    "plt.legend(loc=\"lower left\")\n",
    "plt.ylim([0,1])"
   ]
  },
  {
   "cell_type": "markdown",
   "metadata": {},
   "source": [
    "# SVM"
   ]
  },
  {
   "cell_type": "code",
   "execution_count": 9,
   "metadata": {},
   "outputs": [],
   "source": [
    "from sklearn.svm import LinearSVC"
   ]
  },
  {
   "cell_type": "code",
   "execution_count": 10,
   "metadata": {},
   "outputs": [
    {
     "name": "stdout",
     "output_type": "stream",
     "text": [
      "Wall time: 52.7 s\n",
      "Wall time: 13.4 ms\n",
      "0.7631276155260862\n"
     ]
    },
    {
     "name": "stderr",
     "output_type": "stream",
     "text": [
      "C:\\Users\\Kari Benson\\Anaconda3\\lib\\site-packages\\sklearn\\svm\\base.py:922: ConvergenceWarning: Liblinear failed to converge, increase the number of iterations.\n",
      "  \"the number of iterations.\", ConvergenceWarning)\n"
     ]
    }
   ],
   "source": [
    "######################\n",
    "## Initial SVM Model\n",
    "######################\n",
    "svc = LinearSVC()\n",
    "%time svc.fit(Xs_train, ys_train)\n",
    "%time y_pred = svc.predict(Xs_test)\n",
    "\n",
    "score = fbeta_score(ys_test, y_pred, beta = 1.1)\n",
    "print(score)"
   ]
  },
  {
   "cell_type": "code",
   "execution_count": null,
   "metadata": {},
   "outputs": [],
   "source": [
    "######################\n",
    "## Initial SVM Model, adjusting max_iter\n",
    "######################\n",
    "svc = LinearSVC(max_iter = 2000)\n",
    "svc.fit(Xs_train, ys_train)\n",
    "y_pred = svc.predict(Xs_test)\n",
    "\n",
    "score = fbeta_score(ys_test, y_pred, beta = 0.5)\n",
    "print(score)"
   ]
  },
  {
   "cell_type": "code",
   "execution_count": 12,
   "metadata": {},
   "outputs": [
    {
     "name": "stdout",
     "output_type": "stream",
     "text": [
      "Wall time: 3min 21s\n",
      "Wall time: 14.7 ms\n",
      "0.7615199144083941\n"
     ]
    },
    {
     "name": "stderr",
     "output_type": "stream",
     "text": [
      "C:\\Users\\Kari Benson\\Anaconda3\\lib\\site-packages\\sklearn\\svm\\base.py:922: ConvergenceWarning: Liblinear failed to converge, increase the number of iterations.\n",
      "  \"the number of iterations.\", ConvergenceWarning)\n"
     ]
    }
   ],
   "source": [
    "######################\n",
    "## Initial SVM Model, adjusting max_iter, 4000\n",
    "######################\n",
    "svc = LinearSVC(max_iter = 4000)\n",
    "%time svc.fit(Xs_train, ys_train)\n",
    "%time y_pred = svc.predict(Xs_test)\n",
    "\n",
    "score = fbeta_score(ys_test, y_pred, beta = 1.1)\n",
    "print(score)"
   ]
  },
  {
   "cell_type": "markdown",
   "metadata": {},
   "source": [
    "# KNN"
   ]
  },
  {
   "cell_type": "markdown",
   "metadata": {},
   "source": [
    "We'll be using the same scoring system as before: fbeta with a beta of 0.5 to put more weight into precision. "
   ]
  },
  {
   "cell_type": "code",
   "execution_count": 111,
   "metadata": {},
   "outputs": [],
   "source": [
    "from sklearn.neighbors import KNeighborsClassifier"
   ]
  },
  {
   "cell_type": "code",
   "execution_count": 112,
   "metadata": {},
   "outputs": [
    {
     "name": "stdout",
     "output_type": "stream",
     "text": [
      "CPU times: user 898 ms, sys: 81.2 ms, total: 980 ms\n",
      "Wall time: 985 ms\n",
      "CPU times: user 8min 24s, sys: 664 ms, total: 8min 25s\n",
      "Wall time: 8min 25s\n",
      "Score on training: 0.7951996956681366 \n",
      "Score on testing: 0.6700121782219796\n"
     ]
    }
   ],
   "source": [
    "######################\n",
    "## Base KNN classifier\n",
    "######################\n",
    "clf = KNeighborsClassifier()\n",
    "%time clf.fit(Xs_train, ys_train)\n",
    "train_pred = clf.predict(Xs_train)\n",
    "%time y_pred = clf.predict(Xs_test)\n",
    "\n",
    "train_score = fbeta_score(ys_train, train_pred, beta = 0.5)\n",
    "score = fbeta_score(ys_test, y_pred, beta = 0.5)\n",
    "\n",
    "print(\"Score on training: {} \\nScore on testing: {}\".format(train_score, score))"
   ]
  },
  {
   "cell_type": "markdown",
   "metadata": {},
   "source": [
    "# Random Forest"
   ]
  },
  {
   "cell_type": "code",
   "execution_count": 172,
   "metadata": {},
   "outputs": [],
   "source": [
    "from sklearn.ensemble import RandomForestClassifier"
   ]
  },
  {
   "cell_type": "code",
   "execution_count": 173,
   "metadata": {},
   "outputs": [
    {
     "name": "stderr",
     "output_type": "stream",
     "text": [
      "/Users/Matt/anaconda3/lib/python3.7/site-packages/sklearn/ensemble/forest.py:246: FutureWarning: The default value of n_estimators will change from 10 in version 0.20 to 100 in 0.22.\n",
      "  \"10 in version 0.20 to 100 in 0.22.\", FutureWarning)\n"
     ]
    },
    {
     "name": "stdout",
     "output_type": "stream",
     "text": [
      "RF Score on training: 0.9891132960777274 \n",
      "RF Score on testing: 0.7632058606714004\n"
     ]
    }
   ],
   "source": [
    "######################\n",
    "## Base RF classifier\n",
    "######################\n",
    "clf = RandomForestClassifier()\n",
    "clf.fit(X_train, y_train)\n",
    "\n",
    "train_pred = clf.predict_proba(X_train)[:,1] > .4\n",
    "y_pred = clf.predict_proba(X_test)[:,1]>.4\n",
    "\n",
    "train_score = fbeta_score(y_train, train_pred, beta = 1.1)\n",
    "score = fbeta_score(y_test, y_pred, beta = 1.1)\n",
    "\n",
    "print(\"RF Score on training: {} \\nRF Score on testing: {}\".format(train_score, score))\n"
   ]
  },
  {
   "cell_type": "code",
   "execution_count": 174,
   "metadata": {},
   "outputs": [
    {
     "name": "stdout",
     "output_type": "stream",
     "text": [
      "RF Score on training: 0.9993882719131347 \n",
      "RF Score on testing: 0.76529777486911\n"
     ]
    }
   ],
   "source": [
    "######################\n",
    "## RF with changing estimators\n",
    "######################\n",
    "clf = RandomForestClassifier(n_estimators = 100) ##Setting to default in future sklearn versions\n",
    "clf.fit(X_train, y_train)\n",
    "\n",
    "train_pred = clf.predict_proba(X_train)[:,1] > .4\n",
    "y_pred = clf.predict_proba(X_test)[:,1]>.4\n",
    "\n",
    "train_score = fbeta_score(y_train, train_pred, beta = 0.5)\n",
    "score = fbeta_score(y_test, y_pred, beta = 0.5)\n",
    "\n",
    "print(\"RF Score on training: {} \\nRF Score on testing: {}\".format(train_score, score))"
   ]
  },
  {
   "cell_type": "code",
   "execution_count": 139,
   "metadata": {},
   "outputs": [],
   "source": [
    "from sklearn.model_selection import RandomizedSearchCV"
   ]
  },
  {
   "cell_type": "code",
   "execution_count": 179,
   "metadata": {},
   "outputs": [],
   "source": [
    "######################\n",
    "## RF utilizing RandomSearch for hyperparameter tuning\n",
    "######################\n",
    "n_estimators = [int(x) for x in np.linspace(start = 100, stop = 500, num = 5)]\n",
    "max_features = ['auto', 'sqrt']\n",
    "max_depth = [int(x) for x in np.linspace(10, 30, num = 10)]\n",
    "max_depth.append(None)\n",
    "min_samples_split = [2, 5, 10]\n",
    "min_samples_leaf = [1, 2, 4]\n",
    "bootstrap = [True, False]\n",
    "\n",
    "params = {'n_estimators': n_estimators,\n",
    "               'max_features': max_features,\n",
    "               'max_depth': max_depth,\n",
    "               'min_samples_split': min_samples_split,\n",
    "               'min_samples_leaf': min_samples_leaf,\n",
    "               'bootstrap': bootstrap}"
   ]
  },
  {
   "cell_type": "code",
   "execution_count": 180,
   "metadata": {},
   "outputs": [
    {
     "name": "stdout",
     "output_type": "stream",
     "text": [
      "{'bootstrap': [True, False],\n",
      " 'max_depth': [10, 12, 14, 16, 18, 21, 23, 25, 27, 30, None],\n",
      " 'max_features': ['auto', 'sqrt'],\n",
      " 'min_samples_leaf': [1, 2, 4],\n",
      " 'min_samples_split': [2, 5, 10],\n",
      " 'n_estimators': [100, 200, 300, 400, 500]}\n"
     ]
    }
   ],
   "source": [
    "pprint(params)"
   ]
  },
  {
   "cell_type": "code",
   "execution_count": 181,
   "metadata": {},
   "outputs": [],
   "source": [
    "clf = RandomForestClassifier()\n",
    "\n",
    "rf_random = RandomizedSearchCV(estimator=clf,param_distributions=params, \n",
    "                               cv = 3,scoring=f_recall, n_jobs = -1, verbose=3)\n",
    "##f_precision made using make_scorer"
   ]
  },
  {
   "cell_type": "code",
   "execution_count": 182,
   "metadata": {},
   "outputs": [
    {
     "name": "stdout",
     "output_type": "stream",
     "text": [
      "Fitting 3 folds for each of 10 candidates, totalling 30 fits\n"
     ]
    },
    {
     "name": "stderr",
     "output_type": "stream",
     "text": [
      "[Parallel(n_jobs=-1)]: Using backend LokyBackend with 4 concurrent workers.\n",
      "[Parallel(n_jobs=-1)]: Done  30 out of  30 | elapsed: 12.0min finished\n"
     ]
    },
    {
     "data": {
      "text/plain": [
       "RandomizedSearchCV(cv=3, error_score='raise-deprecating',\n",
       "          estimator=RandomForestClassifier(bootstrap=True, class_weight=None, criterion='gini',\n",
       "            max_depth=None, max_features='auto', max_leaf_nodes=None,\n",
       "            min_impurity_decrease=0.0, min_impurity_split=None,\n",
       "            min_samples_leaf=1, min_samples_split=2,\n",
       "            min_weight_fraction_leaf=0.0, n_estimators='warn', n_jobs=None,\n",
       "            oob_score=False, random_state=None, verbose=0,\n",
       "            warm_start=False),\n",
       "          fit_params=None, iid='warn', n_iter=10, n_jobs=-1,\n",
       "          param_distributions={'n_estimators': [100, 200, 300, 400, 500], 'max_features': ['auto', 'sqrt'], 'max_depth': [10, 12, 14, 16, 18, 21, 23, 25, 27, 30, None], 'min_samples_split': [2, 5, 10], 'min_samples_leaf': [1, 2, 4], 'bootstrap': [True, False]},\n",
       "          pre_dispatch='2*n_jobs', random_state=None, refit=True,\n",
       "          return_train_score='warn',\n",
       "          scoring=make_scorer(fbeta_score, beta=1.1), verbose=3)"
      ]
     },
     "execution_count": 182,
     "metadata": {},
     "output_type": "execute_result"
    }
   ],
   "source": [
    "rf_random.fit(X_train, y_train)"
   ]
  },
  {
   "cell_type": "code",
   "execution_count": 183,
   "metadata": {},
   "outputs": [],
   "source": [
    "best = rf_random.best_params_"
   ]
  },
  {
   "cell_type": "code",
   "execution_count": 184,
   "metadata": {},
   "outputs": [
    {
     "name": "stdout",
     "output_type": "stream",
     "text": [
      "{'n_estimators': 500, 'min_samples_split': 2, 'min_samples_leaf': 2, 'max_features': 'auto', 'max_depth': 25, 'bootstrap': False}\n"
     ]
    }
   ],
   "source": [
    "print(best)"
   ]
  },
  {
   "cell_type": "code",
   "execution_count": 185,
   "metadata": {},
   "outputs": [
    {
     "name": "stdout",
     "output_type": "stream",
     "text": [
      "RF Score on training: 0.9623941860649817 \n",
      "RF Score on testing: 0.7918927267260027\n"
     ]
    }
   ],
   "source": [
    "######################\n",
    "## RF with optimized hyperparameters\n",
    "######################\n",
    "clf = RandomForestClassifier(n_estimators = 500, min_samples_split = 2, min_samples_leaf = 2, \n",
    "                            max_features = 'auto', max_depth = 25, bootstrap = False) \n",
    "clf.fit(X_train, y_train)\n",
    "\n",
    "\n",
    "train_pred = clf.predict_proba(X_train)[:,1] > .4\n",
    "y_pred = clf.predict_proba(X_test)[:,1]>.4\n",
    "\n",
    "train_score = fbeta_score(y_train, train_pred, beta = 1.1)\n",
    "score = fbeta_score(y_test, y_pred, beta = 1.1)\n",
    "\n",
    "print(\"RF Score on training: {} \\nRF Score on testing: {}\".format(train_score, score))"
   ]
  },
  {
   "cell_type": "code",
   "execution_count": 150,
   "metadata": {},
   "outputs": [
    {
     "data": {
      "image/png": "[encoded data removed]",
      "text/plain": [
       "<Figure size 432x288 with 1 Axes>"
      ]
     },
     "metadata": {
      "needs_background": "light"
     },
     "output_type": "display_data"
    }
   ],
   "source": [
    "y_probs = clf.predict_proba(X_test)\n",
    "precision, recall, thresholds = precision_recall_curve(y_test, y_probs[:,1])\n",
    "\n",
    "plt.title(\"Precision-Recall vs Threshold Chart\")\n",
    "plt.plot(thresholds, precision[: -1], \"b--\", label=\"Precision\")\n",
    "plt.plot(thresholds, recall[: -1], \"r--\", label=\"Recall\")\n",
    "plt.ylabel(\"Precision, Recall\")\n",
    "plt.xlabel(\"Threshold\")\n",
    "plt.legend(loc=\"lower left\")\n",
    "plt.ylim([0,1])\n",
    "plt.show()"
   ]
  },
  {
   "cell_type": "code",
   "execution_count": 176,
   "metadata": {},
   "outputs": [
    {
     "name": "stdout",
     "output_type": "stream",
     "text": [
      "0.7908032747941258\n",
      "1.5820881321265279\n",
      "2.3726385495779656\n",
      "3.1639167474414553\n",
      "3.954497398600547\n",
      "0.7908994797201094\n"
     ]
    }
   ],
   "source": [
    "## RF: Utilize KFold to split Train set\n",
    "score = 0\n",
    "folds = 5\n",
    "rf = RandomForestClassifier(n_estimators = 500, min_samples_split = 2, min_samples_leaf = 1, \n",
    "                            max_features = 'sqrt', max_depth = 25, bootstrap = False) \n",
    "for train, test in KFold(n_splits = folds).split(X_train.values):\n",
    "    rf.fit(X_train.values[train], y_train[train])\n",
    "    pred = rf.predict_proba(X_test.values)[:,1] > .4\n",
    "    fb = fbeta_score(y_test, pred, beta = 1.1)\n",
    "    score += fb\n",
    "    print(score)\n",
    "\n",
    "score = score / folds\n",
    "print(score)"
   ]
  },
  {
   "cell_type": "code",
   "execution_count": null,
   "metadata": {},
   "outputs": [],
   "source": []
  }
 ],
 "metadata": {
  "kernelspec": {
   "display_name": "Python 3",
   "language": "python",
   "name": "python3"
  },
  "language_info": {
   "codemirror_mode": {
    "name": "ipython",
    "version": 3
   },
   "file_extension": ".py",
   "mimetype": "text/x-python",
   "name": "python",
   "nbconvert_exporter": "python",
   "pygments_lexer": "ipython3",
   "version": "3.7.3"
  }
 },
 "nbformat": 4,
 "nbformat_minor": 2
}
