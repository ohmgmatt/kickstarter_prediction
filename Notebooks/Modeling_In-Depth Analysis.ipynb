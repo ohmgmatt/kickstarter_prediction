{
 "cells": [
  {
   "cell_type": "code",
   "execution_count": 153,
   "metadata": {},
   "outputs": [],
   "source": [
    "import pandas as pd\n",
    "import numpy as np\n",
    "import seaborn as sns\n",
    "import matplotlib.pyplot as plt\n",
    "from pprint import pprint\n",
    "\n",
    "from sklearn.model_selection import train_test_split\n",
    "from sklearn.linear_model import LogisticRegression\n",
    "from sklearn.metrics import make_scorer, fbeta_score, roc_curve, confusion_matrix, precision_recall_curve\n",
    "\n",
    "from sklearn.model_selection import KFold\n",
    "from sklearn.model_selection import GridSearchCV\n",
    "\n",
    "from sklearn.preprocessing import RobustScaler\n",
    "from sklearn.pipeline import Pipeline\n",
    "\n",
    "from inspect import signature\n",
    "from sklearn.metrics import average_precision_score"
   ]
  },
  {
   "cell_type": "code",
   "execution_count": 154,
   "metadata": {},
   "outputs": [],
   "source": [
    "##Making scorers\n",
    "f_recall = make_scorer(fbeta_score, beta = 1.1) ## More weight towards recall"
   ]
  },
  {
   "cell_type": "code",
   "execution_count": 155,
   "metadata": {},
   "outputs": [],
   "source": [
    "df = pd.read_pickle('kickstarter_analysis.pkl')\n",
    "df = df.dropna()"
   ]
  },
  {
   "cell_type": "code",
   "execution_count": 156,
   "metadata": {},
   "outputs": [],
   "source": [
    "## Selecting Features\n",
    "features=['country','img_count', 'vid_count',\n",
    "          'usd_goal', 'description_len', 'blurb_len', \n",
    "          'slug_len', 'med_rewards','category_core', \n",
    "          'reward_len', 'created_month', 'created_weekday', \n",
    "          'deadline_month', 'deadline_weekday', \n",
    "          'length_of_project']\n",
    "dependent=['failed']\n",
    "toscale = ['img_count', 'vid_count', 'usd_goal', 'description_len', \n",
    "           'blurb_len', 'slug_len', \n",
    "           'med_rewards', 'reward_len', 'length_of_project']\n",
    "\n",
    "X=df[features]\n",
    "y=df[dependent]"
   ]
  },
  {
   "cell_type": "code",
   "execution_count": 157,
   "metadata": {},
   "outputs": [],
   "source": [
    "## Getting dummy variables\n",
    "X = pd.get_dummies(X, drop_first = True)\n",
    "y = y.values.ravel()"
   ]
  },
  {
   "cell_type": "code",
   "execution_count": 158,
   "metadata": {},
   "outputs": [],
   "source": [
    "X_train, X_test, y_train, y_test = train_test_split(X, y, \n",
    "                                                   test_size = 0.3, random_state = 42)"
   ]
  },
  {
   "cell_type": "code",
   "execution_count": 159,
   "metadata": {},
   "outputs": [],
   "source": [
    "## Implementing A Robust Scaler\n",
    "from sklearn.compose import ColumnTransformer\n",
    "robust_transformer = Pipeline(steps = [ ('robust', RobustScaler()) ] )\n",
    "preprocessor = ColumnTransformer(remainder = 'passthrough', \n",
    "                                transformers = [('rb', robust_transformer, toscale)])\n",
    "preprocessor.fit(X)\n",
    "X_scale = preprocessor.transform(X)"
   ]
  },
  {
   "cell_type": "code",
   "execution_count": 160,
   "metadata": {},
   "outputs": [],
   "source": [
    "## getting scaled training data\n",
    "Xs_train, Xs_test, ys_train, ys_test = train_test_split(X_scale, y, \n",
    "                                                   test_size = 0.3, random_state = 42)"
   ]
  },
  {
   "cell_type": "markdown",
   "metadata": {},
   "source": [
    "# Logistic Regression"
   ]
  },
  {
   "cell_type": "markdown",
   "metadata": {},
   "source": [
    "### Initial Model"
   ]
  },
  {
   "cell_type": "code",
   "execution_count": 161,
   "metadata": {},
   "outputs": [
    {
     "name": "stdout",
     "output_type": "stream",
     "text": [
      "Training acc_score: 69.55% \n",
      "Testing acc_score: 69.63%\n"
     ]
    }
   ],
   "source": [
    "clf = LogisticRegression(solver='liblinear')\n",
    "clf.fit(Xs_train, ys_train)\n",
    "\n",
    "training = clf.predict(Xs_train)\n",
    "y_pred = clf.predict(Xs_test)\n",
    "\n",
    "train_acc = fbeta_score(ys_train, training, beta = 1.1)\n",
    "test_acc = fbeta_score(ys_test, y_pred, beta = 1.1)\n",
    "\n",
    "print(\"Training acc_score: {:.2f}% \\nTesting acc_score: {:.2f}%\".format(train_acc*100, test_acc*100))"
   ]
  },
  {
   "cell_type": "markdown",
   "metadata": {},
   "source": [
    "### GridSearch on Logistic Regression to find optimal parameters"
   ]
  },
  {
   "cell_type": "code",
   "execution_count": 162,
   "metadata": {},
   "outputs": [
    {
     "name": "stdout",
     "output_type": "stream",
     "text": [
      "The best parameters are: {'C': 0.001} \n",
      "and the best score is: 69.60%\n"
     ]
    }
   ],
   "source": [
    "params = {'C':[0.0001, 0.001, 0.1, 1, 10, 100]}\n",
    "clf = LogisticRegression(solver = 'liblinear')\n",
    "gs_cv = GridSearchCV(clf, param_grid = params, cv = 5, scoring = f_recall)\n",
    "gs_cv.fit(Xs_train, ys_train)\n",
    "\n",
    "\n",
    "print('The best parameters are: {} \\nand the best score is: {:.2f}%'.format(gs_cv.best_params_, gs_cv.best_score_*100))"
   ]
  },
  {
   "cell_type": "markdown",
   "metadata": {},
   "source": [
    "### Using CV with optimal parameters"
   ]
  },
  {
   "cell_type": "code",
   "execution_count": 11,
   "metadata": {},
   "outputs": [
    {
     "name": "stdout",
     "output_type": "stream",
     "text": [
      "CV Score: 69.77%\n"
     ]
    }
   ],
   "source": [
    "X_arr = X_scale\n",
    "final = 0\n",
    "clf = LogisticRegression(solver='liblinear', C=0.001)\n",
    "for train, test in KFold(n_splits=10).split(X_arr):\n",
    "    clf.fit(X_arr[train], y[train])\n",
    "    pred = clf.predict(X_arr[test])\n",
    "    acc = fbeta_score(y[test], pred, beta = 1.1)\n",
    "    final += acc\n",
    "    \n",
    "final = final / 10 # n of folds\n",
    "print(\"CV Score: {:.2f}%\".format(final*100))"
   ]
  },
  {
   "cell_type": "markdown",
   "metadata": {},
   "source": [
    "### Viewing Precision/Recall graphically"
   ]
  },
  {
   "cell_type": "code",
   "execution_count": 12,
   "metadata": {},
   "outputs": [
    {
     "data": {
      "image/png": "[encoded data removed]",
      "text/plain": [
       "<Figure size 432x288 with 1 Axes>"
      ]
     },
     "metadata": {
      "needs_background": "light"
     },
     "output_type": "display_data"
    }
   ],
   "source": [
    "clf = LogisticRegression(solver = 'liblinear', C = 0.001)\n",
    "clf.fit(Xs_train, ys_train)\n",
    "\n",
    "y_probs = clf.predict_proba(Xs_test)\n",
    "\n",
    "precision, recall, thresholds = precision_recall_curve(ys_test, y_probs[:,1])\n",
    "\n",
    "plt.title(\"Precision-Recall vs Threshold Chart\")\n",
    "plt.plot(thresholds, precision[: -1], \"b--\", label=\"Precision\")\n",
    "plt.plot(thresholds, recall[: -1], \"r--\", label=\"Recall\")\n",
    "plt.ylabel(\"Precision, Recall\")\n",
    "plt.xlabel(\"Threshold\")\n",
    "plt.legend(loc=\"lower left\")\n",
    "plt.ylim([0,1])\n",
    "plt.show()\n",
    "\n",
    "## Source\n",
    "## https://stackoverflow.com/questions/28716241/controlling-the-threshold-in-logistic-regression-in-scikit-learn"
   ]
  },
  {
   "cell_type": "markdown",
   "metadata": {},
   "source": [
    "# SVM"
   ]
  },
  {
   "cell_type": "code",
   "execution_count": 13,
   "metadata": {},
   "outputs": [],
   "source": [
    "from sklearn.svm import LinearSVC"
   ]
  },
  {
   "cell_type": "markdown",
   "metadata": {},
   "source": [
    "### Initial SVM model using LinearSVC"
   ]
  },
  {
   "cell_type": "code",
   "execution_count": 14,
   "metadata": {},
   "outputs": [
    {
     "name": "stdout",
     "output_type": "stream",
     "text": [
      "CPU times: user 30.8 s, sys: 167 ms, total: 31 s\n",
      "Wall time: 31.2 s\n",
      "CPU times: user 7.25 ms, sys: 360 µs, total: 7.61 ms\n",
      "Wall time: 4.81 ms\n",
      "Linear SVC Score: 68.92%\n"
     ]
    },
    {
     "name": "stderr",
     "output_type": "stream",
     "text": [
      "/Users/Matt/anaconda3/lib/python3.7/site-packages/sklearn/svm/base.py:931: ConvergenceWarning: Liblinear failed to converge, increase the number of iterations.\n",
      "  \"the number of iterations.\", ConvergenceWarning)\n"
     ]
    }
   ],
   "source": [
    "svc = LinearSVC()\n",
    "%time svc.fit(Xs_train, ys_train)\n",
    "%time y_pred = svc.predict(Xs_test)\n",
    "\n",
    "score = fbeta_score(ys_test, y_pred, beta = 1.1)\n",
    "print(\"Linear SVC Score: {:.2f}%\".format(score*100))"
   ]
  },
  {
   "cell_type": "markdown",
   "metadata": {},
   "source": [
    "### Adjusting maximum iterations to 2000"
   ]
  },
  {
   "cell_type": "code",
   "execution_count": 15,
   "metadata": {},
   "outputs": [
    {
     "name": "stdout",
     "output_type": "stream",
     "text": [
      "CPU times: user 1min 1s, sys: 341 ms, total: 1min 1s\n",
      "Wall time: 1min 3s\n",
      "CPU times: user 7.03 ms, sys: 182 µs, total: 7.21 ms\n",
      "Wall time: 4.39 ms\n",
      "Linear SVC Score: 68.84%\n"
     ]
    },
    {
     "name": "stderr",
     "output_type": "stream",
     "text": [
      "/Users/Matt/anaconda3/lib/python3.7/site-packages/sklearn/svm/base.py:931: ConvergenceWarning: Liblinear failed to converge, increase the number of iterations.\n",
      "  \"the number of iterations.\", ConvergenceWarning)\n"
     ]
    }
   ],
   "source": [
    "svc = LinearSVC(max_iter = 2000)\n",
    "%time svc.fit(Xs_train, ys_train)\n",
    "%time y_pred = svc.predict(Xs_test)\n",
    "\n",
    "score = fbeta_score(ys_test, y_pred, beta = 1.1)\n",
    "print(\"Linear SVC Score: {:.2f}%\".format(score*100))"
   ]
  },
  {
   "cell_type": "markdown",
   "metadata": {},
   "source": [
    "### Adjusting maximum iterations to 4000"
   ]
  },
  {
   "cell_type": "code",
   "execution_count": 16,
   "metadata": {},
   "outputs": [
    {
     "name": "stdout",
     "output_type": "stream",
     "text": [
      "CPU times: user 1min 58s, sys: 580 ms, total: 1min 59s\n",
      "Wall time: 2min\n",
      "CPU times: user 6.52 ms, sys: 211 µs, total: 6.73 ms\n",
      "Wall time: 4.26 ms\n",
      "Linear SVC Score: 68.67%\n"
     ]
    },
    {
     "name": "stderr",
     "output_type": "stream",
     "text": [
      "/Users/Matt/anaconda3/lib/python3.7/site-packages/sklearn/svm/base.py:931: ConvergenceWarning: Liblinear failed to converge, increase the number of iterations.\n",
      "  \"the number of iterations.\", ConvergenceWarning)\n"
     ]
    }
   ],
   "source": [
    "svc = LinearSVC(max_iter = 4000)\n",
    "%time svc.fit(Xs_train, ys_train)\n",
    "%time y_pred = svc.predict(Xs_test)\n",
    "\n",
    "score = fbeta_score(ys_test, y_pred, beta = 1.1)\n",
    "print(\"Linear SVC Score: {:.2f}%\".format(score*100))"
   ]
  },
  {
   "cell_type": "markdown",
   "metadata": {},
   "source": [
    "# KNN"
   ]
  },
  {
   "cell_type": "code",
   "execution_count": 17,
   "metadata": {},
   "outputs": [],
   "source": [
    "from sklearn.neighbors import KNeighborsClassifier"
   ]
  },
  {
   "cell_type": "markdown",
   "metadata": {},
   "source": [
    "### Initial KNN Classifier"
   ]
  },
  {
   "cell_type": "code",
   "execution_count": 18,
   "metadata": {},
   "outputs": [
    {
     "name": "stdout",
     "output_type": "stream",
     "text": [
      "CPU times: user 913 ms, sys: 12.7 ms, total: 925 ms\n",
      "Wall time: 929 ms\n",
      "CPU times: user 8min 43s, sys: 1.26 s, total: 8min 44s\n",
      "Wall time: 8min 46s\n",
      "KNN Score: 62.34%\n"
     ]
    }
   ],
   "source": [
    "knn = KNeighborsClassifier()\n",
    "%time knn.fit(Xs_train, ys_train)\n",
    "%time y_pred = knn.predict(Xs_test)\n",
    "\n",
    "score = fbeta_score(ys_test, y_pred, beta = 1.1)\n",
    "print(\"KNN Score: {:.2f}%\".format(score*100))"
   ]
  },
  {
   "cell_type": "markdown",
   "metadata": {},
   "source": [
    "# Random Forest"
   ]
  },
  {
   "cell_type": "code",
   "execution_count": 9,
   "metadata": {},
   "outputs": [],
   "source": [
    "from sklearn.ensemble import RandomForestClassifier"
   ]
  },
  {
   "cell_type": "markdown",
   "metadata": {},
   "source": [
    "### Initial Random Forest Classifier"
   ]
  },
  {
   "cell_type": "code",
   "execution_count": 10,
   "metadata": {},
   "outputs": [
    {
     "name": "stderr",
     "output_type": "stream",
     "text": [
      "/Users/Matt/anaconda3/lib/python3.7/site-packages/sklearn/ensemble/forest.py:246: FutureWarning: The default value of n_estimators will change from 10 in version 0.20 to 100 in 0.22.\n",
      "  \"10 in version 0.20 to 100 in 0.22.\", FutureWarning)\n"
     ]
    },
    {
     "name": "stdout",
     "output_type": "stream",
     "text": [
      "RF Training Score: 98.19% \n",
      "RF Testing Score: 68.56%\n"
     ]
    }
   ],
   "source": [
    "clf = RandomForestClassifier()\n",
    "clf.fit(X_train, y_train)\n",
    "\n",
    "train_pred = clf.predict(X_train)\n",
    "y_pred = clf.predict(X_test)\n",
    "\n",
    "train_score = fbeta_score(y_train, train_pred, beta = 1.1)\n",
    "score = fbeta_score(y_test, y_pred, beta = 1.1)\n",
    "\n",
    "print(\"RF Training Score: {:.2f}% \\nRF Testing Score: {:.2f}%\".format(train_score*100, score*100))"
   ]
  },
  {
   "cell_type": "markdown",
   "metadata": {},
   "source": [
    "### Changing n_estimators"
   ]
  },
  {
   "cell_type": "code",
   "execution_count": 13,
   "metadata": {},
   "outputs": [
    {
     "name": "stdout",
     "output_type": "stream",
     "text": [
      "RF Training Score: 100.000000% \n",
      "RF Testing Score: 72.57%\n"
     ]
    }
   ],
   "source": [
    "clf = RandomForestClassifier(n_estimators = 100) ##Setting to default in future sklearn versions\n",
    "clf.fit(X_train, y_train)\n",
    "\n",
    "train_pred = clf.predict(X_train)\n",
    "y_pred = clf.predict(X_test)\n",
    "\n",
    "train_score = fbeta_score(y_train, train_pred, beta = 1.1)\n",
    "score = fbeta_score(y_test, y_pred, beta = 1.1)\n",
    "\n",
    "print(\"RF Training Score: {:2f}% \\nRF Testing Score: {:.2f}%\".format(train_score*100, score*100))"
   ]
  },
  {
   "cell_type": "markdown",
   "metadata": {},
   "source": [
    "### Getting best hyperparameters using RandomizedSearchCV"
   ]
  },
  {
   "cell_type": "code",
   "execution_count": 12,
   "metadata": {},
   "outputs": [],
   "source": [
    "from sklearn.model_selection import RandomizedSearchCV"
   ]
  },
  {
   "cell_type": "code",
   "execution_count": 24,
   "metadata": {},
   "outputs": [],
   "source": [
    "n_estimators = [int(x) for x in np.linspace(start = 100, stop = 500, num = 5)]\n",
    "max_features = ['auto', 'sqrt']\n",
    "max_depth = [int(x) for x in np.linspace(10, 30, num = 10)]\n",
    "max_depth.append(None)\n",
    "min_samples_split = [2, 5, 10]\n",
    "min_samples_leaf = [1, 2, 4]\n",
    "bootstrap = [True, False]\n",
    "\n",
    "params = {'n_estimators': n_estimators,\n",
    "               'max_features': max_features,\n",
    "               'max_depth': max_depth,\n",
    "               'min_samples_split': min_samples_split,\n",
    "               'min_samples_leaf': min_samples_leaf,\n",
    "               'bootstrap': bootstrap}"
   ]
  },
  {
   "cell_type": "code",
   "execution_count": 25,
   "metadata": {},
   "outputs": [
    {
     "name": "stdout",
     "output_type": "stream",
     "text": [
      "{'bootstrap': [True, False],\n",
      " 'max_depth': [10, 12, 14, 16, 18, 21, 23, 25, 27, 30, None],\n",
      " 'max_features': ['auto', 'sqrt'],\n",
      " 'min_samples_leaf': [1, 2, 4],\n",
      " 'min_samples_split': [2, 5, 10],\n",
      " 'n_estimators': [100, 200, 300, 400, 500]}\n"
     ]
    }
   ],
   "source": [
    "pprint(params)"
   ]
  },
  {
   "cell_type": "code",
   "execution_count": 26,
   "metadata": {},
   "outputs": [],
   "source": [
    "clf = RandomForestClassifier()\n",
    "\n",
    "rf_random = RandomizedSearchCV(estimator=clf,param_distributions=params, \n",
    "                               cv = 3,scoring=f_recall, n_jobs = -1, verbose=3)"
   ]
  },
  {
   "cell_type": "code",
   "execution_count": 27,
   "metadata": {},
   "outputs": [
    {
     "name": "stdout",
     "output_type": "stream",
     "text": [
      "Fitting 3 folds for each of 10 candidates, totalling 30 fits\n"
     ]
    },
    {
     "name": "stderr",
     "output_type": "stream",
     "text": [
      "[Parallel(n_jobs=-1)]: Using backend LokyBackend with 4 concurrent workers.\n",
      "[Parallel(n_jobs=-1)]: Done  30 out of  30 | elapsed: 10.9min finished\n"
     ]
    },
    {
     "data": {
      "text/plain": [
       "RandomizedSearchCV(cv=3, error_score='raise-deprecating',\n",
       "          estimator=RandomForestClassifier(bootstrap=True, class_weight=None, criterion='gini',\n",
       "            max_depth=None, max_features='auto', max_leaf_nodes=None,\n",
       "            min_impurity_decrease=0.0, min_impurity_split=None,\n",
       "            min_samples_leaf=1, min_samples_split=2,\n",
       "            min_weight_fraction_leaf=0.0, n_estimators='warn', n_jobs=None,\n",
       "            oob_score=False, random_state=None, verbose=0,\n",
       "            warm_start=False),\n",
       "          fit_params=None, iid='warn', n_iter=10, n_jobs=-1,\n",
       "          param_distributions={'n_estimators': [100, 200, 300, 400, 500], 'max_features': ['auto', 'sqrt'], 'max_depth': [10, 12, 14, 16, 18, 21, 23, 25, 27, 30, None], 'min_samples_split': [2, 5, 10], 'min_samples_leaf': [1, 2, 4], 'bootstrap': [True, False]},\n",
       "          pre_dispatch='2*n_jobs', random_state=None, refit=True,\n",
       "          return_train_score='warn',\n",
       "          scoring=make_scorer(fbeta_score, beta=1.1), verbose=3)"
      ]
     },
     "execution_count": 27,
     "metadata": {},
     "output_type": "execute_result"
    }
   ],
   "source": [
    "rf_random.fit(X_train, y_train)"
   ]
  },
  {
   "cell_type": "code",
   "execution_count": 28,
   "metadata": {},
   "outputs": [],
   "source": [
    "best = rf_random.best_params_"
   ]
  },
  {
   "cell_type": "code",
   "execution_count": 29,
   "metadata": {},
   "outputs": [
    {
     "name": "stdout",
     "output_type": "stream",
     "text": [
      "{'n_estimators': 200, 'min_samples_split': 10, 'min_samples_leaf': 1, 'max_features': 'auto', 'max_depth': None, 'bootstrap': True}\n"
     ]
    }
   ],
   "source": [
    "print(best)"
   ]
  },
  {
   "cell_type": "markdown",
   "metadata": {},
   "source": [
    "### RandomForest Classifier using tuned hyperparameters"
   ]
  },
  {
   "cell_type": "code",
   "execution_count": 14,
   "metadata": {},
   "outputs": [
    {
     "name": "stdout",
     "output_type": "stream",
     "text": [
      "RF Training Score: 93.076661% \n",
      "RF Testing Score: 72.84%\n"
     ]
    }
   ],
   "source": [
    "clf = RandomForestClassifier(n_estimators = 200, min_samples_split = 10, min_samples_leaf = 1, \n",
    "                            max_features = 'auto', max_depth = None, bootstrap = True) \n",
    "clf.fit(X_train, y_train)\n",
    "\n",
    "\n",
    "train_pred = clf.predict(X_train)\n",
    "y_pred = clf.predict(X_test)\n",
    "\n",
    "train_score = fbeta_score(y_train, train_pred, beta = 1.1)\n",
    "score = fbeta_score(y_test, y_pred, beta = 1.1)\n",
    "\n",
    "print(\"RF Training Score: {:2f}% \\nRF Testing Score: {:.2f}%\".format(train_score*100, score*100))"
   ]
  },
  {
   "cell_type": "code",
   "execution_count": 15,
   "metadata": {},
   "outputs": [
    {
     "data": {
      "image/png": "[encoded data removed]",
      "text/plain": [
       "<Figure size 432x288 with 1 Axes>"
      ]
     },
     "metadata": {
      "needs_background": "light"
     },
     "output_type": "display_data"
    }
   ],
   "source": [
    "y_probs = clf.predict_proba(X_test)\n",
    "precision, recall, thresholds = precision_recall_curve(y_test, y_probs[:,1])\n",
    "\n",
    "plt.title(\"Precision-Recall vs Threshold Chart\")\n",
    "plt.plot(thresholds, precision[: -1], \"b--\", label=\"Precision\")\n",
    "plt.plot(thresholds, recall[: -1], \"r--\", label=\"Recall\")\n",
    "plt.ylabel(\"Precision, Recall\")\n",
    "plt.xlabel(\"Threshold\")\n",
    "plt.legend(loc=\"lower left\")\n",
    "plt.ylim([0,1])\n",
    "plt.show()"
   ]
  },
  {
   "cell_type": "markdown",
   "metadata": {},
   "source": [
    "### Tuned hyperparameters in kfold test"
   ]
  },
  {
   "cell_type": "code",
   "execution_count": 16,
   "metadata": {},
   "outputs": [
    {
     "name": "stdout",
     "output_type": "stream",
     "text": [
      "0.7275726948129726\n",
      "1.4542324006826486\n",
      "2.1816909602911676\n",
      "2.9100651729865583\n",
      "3.6375951235353186\n",
      "Final score: 72.75%\n"
     ]
    }
   ],
   "source": [
    "score = 0\n",
    "folds = 5\n",
    "rf = RandomForestClassifier(n_estimators = 200, min_samples_split = 10, min_samples_leaf = 1, \n",
    "                            max_features = 'auto', max_depth = None, bootstrap = True) \n",
    "for train, test in KFold(n_splits = folds).split(X_train.values):\n",
    "    rf.fit(X_train.values[train], y_train[train])\n",
    "    pred = rf.predict(X_test.values)\n",
    "    fb = fbeta_score(y_test, pred, beta = 1.1)\n",
    "    score += fb\n",
    "\n",
    "score = score / folds\n",
    "\n",
    "print(\"Final score: {:.2f}%\".format(score * 100))"
   ]
  },
  {
   "cell_type": "code",
   "execution_count": null,
   "metadata": {},
   "outputs": [],
   "source": []
  },
  {
   "cell_type": "code",
   "execution_count": null,
   "metadata": {},
   "outputs": [],
   "source": []
  },
  {
   "cell_type": "code",
   "execution_count": null,
   "metadata": {},
   "outputs": [],
   "source": []
  },
  {
   "cell_type": "markdown",
   "metadata": {},
   "source": [
    "# Analysis on Ensemble Method"
   ]
  },
  {
   "cell_type": "code",
   "execution_count": 163,
   "metadata": {},
   "outputs": [],
   "source": [
    "df = pd.read_pickle('kickstarter_NB.pkl')\n",
    "df = df.dropna()\n",
    "\n",
    "## Clean up from predictions\n",
    "type_ints = ['MNB_Blurb_All', 'MNB_Blurb_Cat', 'MNB_Desc_All', 'MNB_Desc_Cat']\n",
    "for i in type_ints:\n",
    "    df[i] = df[i].astype(int)"
   ]
  },
  {
   "cell_type": "code",
   "execution_count": 164,
   "metadata": {},
   "outputs": [],
   "source": [
    "## Selecting Features\n",
    "base=['country','img_count', 'vid_count',\n",
    "          'usd_goal', 'description_len', 'blurb_len', \n",
    "          'slug_len', 'med_rewards','category_core', \n",
    "          'reward_len', 'created_month', 'created_weekday', \n",
    "          'deadline_month', 'deadline_weekday', \n",
    "          'length_of_project']\n",
    "nb_all = ['MNB_Blurb_All', 'MNB_Desc_All']\n",
    "nb_cat = ['MNB_Blurb_Cat', 'MNB_Desc_Cat']\n",
    "dependent=['failed']"
   ]
  },
  {
   "cell_type": "markdown",
   "metadata": {},
   "source": [
    "### RandomForest Classifier with MNB_All"
   ]
  },
  {
   "cell_type": "code",
   "execution_count": 23,
   "metadata": {},
   "outputs": [],
   "source": [
    "feature = base + nb_all\n",
    "\n",
    "X=df[feature]\n",
    "y=df[dependent]"
   ]
  },
  {
   "cell_type": "code",
   "execution_count": 24,
   "metadata": {},
   "outputs": [],
   "source": [
    "## Getting dummy variables\n",
    "X = pd.get_dummies(X, drop_first = True)\n",
    "y = y.values.ravel()"
   ]
  },
  {
   "cell_type": "code",
   "execution_count": 25,
   "metadata": {},
   "outputs": [],
   "source": [
    "X_train, X_test, y_train, y_test = train_test_split(X, y, \n",
    "                                                   test_size = 0.3, random_state = 42)"
   ]
  },
  {
   "cell_type": "code",
   "execution_count": 28,
   "metadata": {},
   "outputs": [
    {
     "name": "stdout",
     "output_type": "stream",
     "text": [
      "RF Training Score: 92.746600% \n",
      "RF Testing Score: 74.50%\n"
     ]
    }
   ],
   "source": [
    "clf = RandomForestClassifier(n_estimators = 200, min_samples_split = 10, min_samples_leaf = 1, \n",
    "                            max_features = 'auto', max_depth = None, bootstrap = True) \n",
    "clf.fit(X_train, y_train)\n",
    "\n",
    "\n",
    "train_pred = clf.predict(X_train)\n",
    "y_pred = clf.predict(X_test)\n",
    "\n",
    "train_score = fbeta_score(y_train, train_pred, beta = 1.1)\n",
    "score = fbeta_score(y_test, y_pred, beta = 1.1)\n",
    "\n",
    "print(\"RF Training Score: {:2f}% \\nRF Testing Score: {:.2f}%\".format(train_score*100, score*100))"
   ]
  },
  {
   "cell_type": "markdown",
   "metadata": {},
   "source": [
    "### RandomForest Classifier with MNB_Categories"
   ]
  },
  {
   "cell_type": "code",
   "execution_count": 29,
   "metadata": {},
   "outputs": [],
   "source": [
    "feature = base + nb_cat\n",
    "\n",
    "X= pd.get_dummies(df[feature], drop_first = True)\n",
    "y=df[dependent].values.ravel()\n",
    "\n",
    "X_train, X_test, y_train, y_test = train_test_split(X, y, \n",
    "                                                   test_size = 0.3, random_state = 42)"
   ]
  },
  {
   "cell_type": "code",
   "execution_count": 30,
   "metadata": {},
   "outputs": [
    {
     "name": "stdout",
     "output_type": "stream",
     "text": [
      "RF Training Score: 92.393667% \n",
      "RF Testing Score: 77.41%\n"
     ]
    }
   ],
   "source": [
    "clf = RandomForestClassifier(n_estimators = 200, min_samples_split = 10, min_samples_leaf = 1, \n",
    "                            max_features = 'auto', max_depth = None, bootstrap = True) \n",
    "clf.fit(X_train, y_train)\n",
    "\n",
    "\n",
    "train_pred = clf.predict(X_train)\n",
    "y_pred = clf.predict(X_test)\n",
    "\n",
    "train_score = fbeta_score(y_train, train_pred, beta = 1.1)\n",
    "score = fbeta_score(y_test, y_pred, beta = 1.1)\n",
    "\n",
    "print(\"RF Training Score: {:2f}% \\nRF Testing Score: {:.2f}%\".format(train_score*100, score*100))"
   ]
  },
  {
   "cell_type": "code",
   "execution_count": null,
   "metadata": {},
   "outputs": [],
   "source": []
  },
  {
   "cell_type": "code",
   "execution_count": null,
   "metadata": {},
   "outputs": [],
   "source": []
  },
  {
   "cell_type": "code",
   "execution_count": null,
   "metadata": {},
   "outputs": [],
   "source": []
  },
  {
   "cell_type": "markdown",
   "metadata": {},
   "source": [
    "# Threshold Analysis"
   ]
  },
  {
   "cell_type": "code",
   "execution_count": 31,
   "metadata": {},
   "outputs": [],
   "source": [
    "df = pd.read_pickle('kickstarter_NB.pkl')\n",
    "df = df.dropna()\n",
    "\n",
    "## Clean up from predictions\n",
    "type_ints = ['MNB_Blurb_All', 'MNB_Blurb_Cat', 'MNB_Desc_All', 'MNB_Desc_Cat']\n",
    "for i in type_ints:\n",
    "    df[i] = df[i].astype(int)"
   ]
  },
  {
   "cell_type": "code",
   "execution_count": 33,
   "metadata": {},
   "outputs": [],
   "source": [
    "## Selecting Features\n",
    "features=['country','img_count', 'vid_count',\n",
    "          'usd_goal', 'description_len', 'blurb_len', \n",
    "          'slug_len', 'med_rewards','category_core', \n",
    "          'reward_len', 'created_month', 'created_weekday', \n",
    "          'deadline_month', 'deadline_weekday', \n",
    "          'length_of_project','MNB_Blurb_Cat', 'MNB_Desc_Cat']\n",
    "dependent=['failed']"
   ]
  },
  {
   "cell_type": "code",
   "execution_count": 34,
   "metadata": {},
   "outputs": [],
   "source": [
    "X= pd.get_dummies(df[features], drop_first = True)\n",
    "y=df[dependent].values.ravel()\n",
    "\n",
    "X_train, X_test, y_train, y_test = train_test_split(X, y, \n",
    "                                                   test_size = 0.3, random_state = 42)"
   ]
  },
  {
   "cell_type": "code",
   "execution_count": 35,
   "metadata": {},
   "outputs": [],
   "source": [
    "clf = RandomForestClassifier(n_estimators = 200, min_samples_split = 10, min_samples_leaf = 1, \n",
    "                            max_features = 'auto', max_depth = None, bootstrap = True) "
   ]
  },
  {
   "cell_type": "code",
   "execution_count": 36,
   "metadata": {},
   "outputs": [
    {
     "data": {
      "text/plain": [
       "RandomForestClassifier(bootstrap=True, class_weight=None, criterion='gini',\n",
       "            max_depth=None, max_features='auto', max_leaf_nodes=None,\n",
       "            min_impurity_decrease=0.0, min_impurity_split=None,\n",
       "            min_samples_leaf=1, min_samples_split=10,\n",
       "            min_weight_fraction_leaf=0.0, n_estimators=200, n_jobs=None,\n",
       "            oob_score=False, random_state=None, verbose=0,\n",
       "            warm_start=False)"
      ]
     },
     "execution_count": 36,
     "metadata": {},
     "output_type": "execute_result"
    }
   ],
   "source": [
    "clf.fit(X_train, y_train)"
   ]
  },
  {
   "cell_type": "code",
   "execution_count": 130,
   "metadata": {},
   "outputs": [],
   "source": [
    "y_probs = clf.predict_proba(X_test)\n",
    "precision, recall, thresholds = precision_recall_curve(y_test, y_probs[:,1])"
   ]
  },
  {
   "cell_type": "code",
   "execution_count": 131,
   "metadata": {},
   "outputs": [],
   "source": [
    "beta = 1.1\n",
    "betatwo = beta**2\n",
    "\n",
    "fbeta = (1 + betatwo) * precision[:-1] * recall[:-1] / (betatwo * precision[:-1] + recall[:-1])"
   ]
  },
  {
   "cell_type": "code",
   "execution_count": 132,
   "metadata": {},
   "outputs": [
    {
     "name": "stdout",
     "output_type": "stream",
     "text": [
      "Maximum fbeta score: 78.848%\n",
      "Threshold of 0.3840\n"
     ]
    }
   ],
   "source": [
    "print(\"Maximum fbeta score: {:.3f}%\".format(np.amax(fbeta)*100))\n",
    "ind = np.where(fbeta == np.amax(fbeta))[0][0]\n",
    "best_thresh = thresholds[ind]\n",
    "print(\"Threshold of {:.4f}\".format(best_thresh))"
   ]
  },
  {
   "cell_type": "code",
   "execution_count": 146,
   "metadata": {},
   "outputs": [
    {
     "data": {
      "image/png": "[encoded data removed]",
      "text/plain": [
       "<Figure size 432x288 with 1 Axes>"
      ]
     },
     "metadata": {
      "needs_background": "light"
     },
     "output_type": "display_data"
    }
   ],
   "source": [
    "\n",
    "plt.title(\"Precision-Recall  v.  Threshold Chart\")\n",
    "plt.plot(thresholds, fbeta, \"k\", label = 'fbeta scores')\n",
    "plt.plot(thresholds, precision[:-1], \"b--\", label = 'precision')\n",
    "plt.plot(thresholds, recall[:-1], \"r--\", label = 'recall')\n",
    "plt.axvline(x=best_thresh, color='k', linestyle='-.', label='highest scoring threshold')\n",
    "plt.ylabel(\"F-Beta Score\")\n",
    "plt.xlabel(\"Threshold\")\n",
    "plt.legend(loc = 'lower left')\n",
    "plt.ylim([0, 1])\n",
    "plt.show()"
   ]
  },
  {
   "cell_type": "markdown",
   "metadata": {},
   "source": [
    "### RF Classifier with threshold"
   ]
  },
  {
   "cell_type": "code",
   "execution_count": 135,
   "metadata": {},
   "outputs": [
    {
     "name": "stdout",
     "output_type": "stream",
     "text": [
      "RF Training Score: 93.748025% \n",
      "RF Testing Score: 78.8462%\n"
     ]
    }
   ],
   "source": [
    "train_pred = clf.predict_proba(X_train)[:,1] > .384\n",
    "y_pred = clf.predict_proba(X_test)[:,1] > .384\n",
    "\n",
    "train_score = fbeta_score(y_train, train_pred, beta = 1.1)\n",
    "score = fbeta_score(y_test, y_pred, beta = 1.1)\n",
    "\n",
    "print(\"RF Training Score: {:4f}% \\nRF Testing Score: {:.4f}%\".format(train_score*100, score*100))"
   ]
  },
  {
   "cell_type": "markdown",
   "metadata": {},
   "source": [
    "### RF Classifier w/ threshold in kfold test"
   ]
  },
  {
   "cell_type": "code",
   "execution_count": 136,
   "metadata": {},
   "outputs": [
    {
     "name": "stdout",
     "output_type": "stream",
     "text": [
      "Final score: 78.7500%\n"
     ]
    }
   ],
   "source": [
    "score = 0\n",
    "folds = 5\n",
    "rf = RandomForestClassifier(n_estimators = 200, min_samples_split = 10, min_samples_leaf = 1, \n",
    "                            max_features = 'auto', max_depth = None, bootstrap = True) \n",
    "for train, test in KFold(n_splits = folds).split(X_train.values):\n",
    "    rf.fit(X_train.values[train], y_train[train])\n",
    "    pred = rf.predict_proba(X_test.values)[:,1] > .384\n",
    "    fb = fbeta_score(y_test, pred, beta = 1.1)\n",
    "    score += fb\n",
    "\n",
    "score = score / folds\n",
    "\n",
    "print(\"Final score: {:.4f}%\".format(score * 100))"
   ]
  },
  {
   "cell_type": "code",
   "execution_count": null,
   "metadata": {},
   "outputs": [],
   "source": []
  }
 ],
 "metadata": {
  "kernelspec": {
   "display_name": "Python 3",
   "language": "python",
   "name": "python3"
  },
  "language_info": {
   "codemirror_mode": {
    "name": "ipython",
    "version": 3
   },
   "file_extension": ".py",
   "mimetype": "text/x-python",
   "name": "python",
   "nbconvert_exporter": "python",
   "pygments_lexer": "ipython3",
   "version": "3.7.3"
  }
 },
 "nbformat": 4,
 "nbformat_minor": 2
}
