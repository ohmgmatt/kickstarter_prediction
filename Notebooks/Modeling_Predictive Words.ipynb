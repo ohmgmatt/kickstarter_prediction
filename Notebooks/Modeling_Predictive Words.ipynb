{
 "cells": [
  {
   "cell_type": "code",
   "execution_count": 2,
   "metadata": {},
   "outputs": [],
   "source": [
    "import pandas as pd\n",
    "import numpy as np\n",
    "import matplotlib.pyplot as plt\n",
    "\n",
    "from sklearn.model_selection import train_test_split\n",
    "\n",
    "from sklearn.metrics import accuracy_score, confusion_matrix, fbeta_score, precision_recall_curve\n",
    "\n",
    "from sklearn.feature_extraction.text import CountVectorizer, TfidfVectorizer\n",
    "\n",
    "from sklearn.naive_bayes import MultinomialNB\n",
    "\n",
    "import nltk\n",
    "from nltk.stem.snowball import SnowballStemmer\n",
    "from nltk.stem import WordNetLemmatizer"
   ]
  },
  {
   "cell_type": "code",
   "execution_count": 222,
   "metadata": {},
   "outputs": [],
   "source": [
    "df = pd.read_pickle('kickstarter_analysis.pkl')\n",
    "df = df.dropna()"
   ]
  },
  {
   "cell_type": "markdown",
   "metadata": {},
   "source": [
    "# Blurbs"
   ]
  },
  {
   "cell_type": "code",
   "execution_count": 223,
   "metadata": {},
   "outputs": [],
   "source": [
    "y = df['failed'].values\n",
    "words = set(nltk.corpus.words.words())"
   ]
  },
  {
   "cell_type": "code",
   "execution_count": 13,
   "metadata": {},
   "outputs": [],
   "source": [
    "def non_eng(string):\n",
    "    phrase = \" \".join(w for w in nltk.wordpunct_tokenize(string) if w.lower() in words or not w.isalpha())\n",
    "    return phrase"
   ]
  },
  {
   "cell_type": "code",
   "execution_count": 130,
   "metadata": {},
   "outputs": [],
   "source": [
    "## PROCESSESING USING STEMMING\n",
    "#stemmer = SnowballStemmer(\"english\")\n",
    "#df['blurb_fix'] = df['blurb'].str.lower() ##lowercase\n",
    "#df['blurb_fix'] = df['blurb_fix'].apply(non_eng) ##remove non-english words\n",
    "#df['blurb_fix'] = df['blurb_fix'].str.replace(r'[^\\w\\s]+', '') ## remove punctuation\n",
    "#df['blurb_fix'] = df[\"blurb_fix\"].apply(lambda x: [stemmer.stem(y) for y in x.split()]) ##stem words\n",
    "#df['blurb_fix'] = df['blurb_fix'].apply(lambda x: ' '.join(x)) ##put into one string"
   ]
  },
  {
   "cell_type": "code",
   "execution_count": 225,
   "metadata": {},
   "outputs": [],
   "source": [
    "## PROCESSESING USING LEMMATIZATION\n",
    "lemmatizer = WordNetLemmatizer() \n",
    "df['blurb_fix'] = df['blurb'].str.lower() ##lowercase\n",
    "df['blurb_fix'] = df['blurb_fix'].apply(lambda x: [lemmatizer.lemmatize(y) for y in x.split()]) ##get lemma\n",
    "df['blurb_fix'] = df['blurb_fix'].apply(lambda x: ' '.join(x)) ##put into one string\n",
    "df['blurb_fix'] = df['blurb_fix'].apply(non_eng) ##remove non-english words\n",
    "df['blurb_fix'] = df['blurb_fix'].str.replace(r'[^\\w\\s]+', '') ## remove punctuation"
   ]
  },
  {
   "cell_type": "code",
   "execution_count": 226,
   "metadata": {},
   "outputs": [],
   "source": [
    "vectorizer = CountVectorizer(min_df = 10, stop_words='english')\n",
    "X = vectorizer.fit_transform(df['blurb_fix'])"
   ]
  },
  {
   "cell_type": "code",
   "execution_count": 137,
   "metadata": {},
   "outputs": [],
   "source": [
    "X_train, X_test, y_train, y_test = train_test_split(X, y, \n",
    "                                                   test_size = 0.4, random_state = 42)"
   ]
  },
  {
   "cell_type": "code",
   "execution_count": 149,
   "metadata": {},
   "outputs": [
    {
     "name": "stdout",
     "output_type": "stream",
     "text": [
      "train score: 0.6541633212314057\n",
      "test score: 0.6503898088769411\n"
     ]
    },
    {
     "data": {
      "text/html": [
       "<div>\n",
       "<style scoped>\n",
       "    .dataframe tbody tr th:only-of-type {\n",
       "        vertical-align: middle;\n",
       "    }\n",
       "\n",
       "    .dataframe tbody tr th {\n",
       "        vertical-align: top;\n",
       "    }\n",
       "\n",
       "    .dataframe thead th {\n",
       "        text-align: right;\n",
       "    }\n",
       "</style>\n",
       "<table border=\"1\" class=\"dataframe\">\n",
       "  <thead>\n",
       "    <tr style=\"text-align: right;\">\n",
       "      <th>Predicted</th>\n",
       "      <th>False</th>\n",
       "      <th>True</th>\n",
       "      <th>All</th>\n",
       "    </tr>\n",
       "    <tr>\n",
       "      <th>True</th>\n",
       "      <th></th>\n",
       "      <th></th>\n",
       "      <th></th>\n",
       "    </tr>\n",
       "  </thead>\n",
       "  <tbody>\n",
       "    <tr>\n",
       "      <th>0</th>\n",
       "      <td>24889</td>\n",
       "      <td>13259</td>\n",
       "      <td>38148</td>\n",
       "    </tr>\n",
       "    <tr>\n",
       "      <th>1</th>\n",
       "      <td>9157</td>\n",
       "      <td>20488</td>\n",
       "      <td>29645</td>\n",
       "    </tr>\n",
       "    <tr>\n",
       "      <th>All</th>\n",
       "      <td>34046</td>\n",
       "      <td>33747</td>\n",
       "      <td>67793</td>\n",
       "    </tr>\n",
       "  </tbody>\n",
       "</table>\n",
       "</div>"
      ],
      "text/plain": [
       "Predicted  False   True    All\n",
       "True                          \n",
       "0          24889  13259  38148\n",
       "1           9157  20488  29645\n",
       "All        34046  33747  67793"
      ]
     },
     "execution_count": 149,
     "metadata": {},
     "output_type": "execute_result"
    }
   ],
   "source": [
    "clf = MultinomialNB()\n",
    "clf.fit(X_train, y_train)\n",
    "\n",
    "trn = clf.predict(X_train)\n",
    "## tst = clf.predict(X_test)\n",
    "tst = clf.predict_proba(X_test)[:,1] > .4\n",
    "\n",
    "print(\"train score:\", fbeta_score(y_train, trn, beta = 1.1))\n",
    "print(\"test score:\", fbeta_score(y_test, tst, beta = 1.1))\n",
    "\n",
    "pd.crosstab(y_test, tst, rownames=['True'], colnames=['Predicted'], margins=True)"
   ]
  },
  {
   "cell_type": "code",
   "execution_count": null,
   "metadata": {},
   "outputs": [],
   "source": [
    "df['MNB_All'] = clf.predict(X)"
   ]
  },
  {
   "cell_type": "code",
   "execution_count": 140,
   "metadata": {},
   "outputs": [],
   "source": []
  },
  {
   "cell_type": "code",
   "execution_count": 150,
   "metadata": {},
   "outputs": [],
   "source": [
    "vectorizer = TfidfVectorizer(min_df = 10, stop_words='english')\n",
    "Xt = vectorizer.fit_transform(df['blurb_fix'])"
   ]
  },
  {
   "cell_type": "code",
   "execution_count": 151,
   "metadata": {},
   "outputs": [],
   "source": [
    "Xt_train, Xt_test, yt_train, yt_test = train_test_split(Xt, y, \n",
    "                                                   test_size = 0.4, random_state = 42)"
   ]
  },
  {
   "cell_type": "code",
   "execution_count": 165,
   "metadata": {},
   "outputs": [
    {
     "name": "stdout",
     "output_type": "stream",
     "text": [
      "train score: 0.6219979022195797\n",
      "test score: 0.661032017903981\n"
     ]
    },
    {
     "data": {
      "text/html": [
       "<div>\n",
       "<style scoped>\n",
       "    .dataframe tbody tr th:only-of-type {\n",
       "        vertical-align: middle;\n",
       "    }\n",
       "\n",
       "    .dataframe tbody tr th {\n",
       "        vertical-align: top;\n",
       "    }\n",
       "\n",
       "    .dataframe thead th {\n",
       "        text-align: right;\n",
       "    }\n",
       "</style>\n",
       "<table border=\"1\" class=\"dataframe\">\n",
       "  <thead>\n",
       "    <tr style=\"text-align: right;\">\n",
       "      <th>Predicted</th>\n",
       "      <th>False</th>\n",
       "      <th>True</th>\n",
       "      <th>All</th>\n",
       "    </tr>\n",
       "    <tr>\n",
       "      <th>True</th>\n",
       "      <th></th>\n",
       "      <th></th>\n",
       "      <th></th>\n",
       "    </tr>\n",
       "  </thead>\n",
       "  <tbody>\n",
       "    <tr>\n",
       "      <th>0</th>\n",
       "      <td>22673</td>\n",
       "      <td>15475</td>\n",
       "      <td>38148</td>\n",
       "    </tr>\n",
       "    <tr>\n",
       "      <th>1</th>\n",
       "      <td>7733</td>\n",
       "      <td>21912</td>\n",
       "      <td>29645</td>\n",
       "    </tr>\n",
       "    <tr>\n",
       "      <th>All</th>\n",
       "      <td>30406</td>\n",
       "      <td>37387</td>\n",
       "      <td>67793</td>\n",
       "    </tr>\n",
       "  </tbody>\n",
       "</table>\n",
       "</div>"
      ],
      "text/plain": [
       "Predicted  False   True    All\n",
       "True                          \n",
       "0          22673  15475  38148\n",
       "1           7733  21912  29645\n",
       "All        30406  37387  67793"
      ]
     },
     "execution_count": 165,
     "metadata": {},
     "output_type": "execute_result"
    }
   ],
   "source": [
    "clf = MultinomialNB()\n",
    "clf.fit(Xt_train, yt_train)\n",
    "\n",
    "trnt = clf.predict(Xt_train)\n",
    "## tst = clf.predict(X_test)\n",
    "tstt = clf.predict_proba(Xt_test)[:,1] > .4\n",
    "\n",
    "print(\"train score:\", fbeta_score(yt_train, trnt, beta = 1.1))\n",
    "print(\"test score:\", fbeta_score(yt_test, tstt, beta = 1.1))\n",
    "\n",
    "pd.crosstab(yt_test, tstt, rownames=['True'], colnames=['Predicted'], margins=True)"
   ]
  },
  {
   "cell_type": "code",
   "execution_count": 166,
   "metadata": {},
   "outputs": [],
   "source": [
    "df['MNB_All'] = clf.predict(X)"
   ]
  },
  {
   "cell_type": "markdown",
   "metadata": {},
   "source": [
    "# Blurb Categories"
   ]
  },
  {
   "cell_type": "code",
   "execution_count": 5,
   "metadata": {},
   "outputs": [
    {
     "ename": "NameError",
     "evalue": "name 'df' is not defined",
     "output_type": "error",
     "traceback": [
      "\u001b[0;31m---------------------------------------------------------------------------\u001b[0m",
      "\u001b[0;31mNameError\u001b[0m                                 Traceback (most recent call last)",
      "\u001b[0;32m<ipython-input-5-f8e7d685931e>\u001b[0m in \u001b[0;36m<module>\u001b[0;34m\u001b[0m\n\u001b[0;32m----> 1\u001b[0;31m \u001b[0mcats\u001b[0m \u001b[0;34m=\u001b[0m \u001b[0mlist\u001b[0m\u001b[0;34m(\u001b[0m\u001b[0mdf\u001b[0m\u001b[0;34m[\u001b[0m\u001b[0;34m'category_core'\u001b[0m\u001b[0;34m]\u001b[0m\u001b[0;34m.\u001b[0m\u001b[0munique\u001b[0m\u001b[0;34m(\u001b[0m\u001b[0;34m)\u001b[0m\u001b[0;34m)\u001b[0m\u001b[0;34m\u001b[0m\u001b[0;34m\u001b[0m\u001b[0m\n\u001b[0m",
      "\u001b[0;31mNameError\u001b[0m: name 'df' is not defined"
     ]
    }
   ],
   "source": [
    "cats = list(df['category_core'].unique())"
   ]
  },
  {
   "cell_type": "code",
   "execution_count": 228,
   "metadata": {},
   "outputs": [],
   "source": [
    "stored = {}"
   ]
  },
  {
   "cell_type": "code",
   "execution_count": 4,
   "metadata": {},
   "outputs": [
    {
     "ename": "NameError",
     "evalue": "name 'cats' is not defined",
     "output_type": "error",
     "traceback": [
      "\u001b[0;31m---------------------------------------------------------------------------\u001b[0m",
      "\u001b[0;31mNameError\u001b[0m                                 Traceback (most recent call last)",
      "\u001b[0;32m<ipython-input-4-01dadb6083d5>\u001b[0m in \u001b[0;36m<module>\u001b[0;34m\u001b[0m\n\u001b[0;32m----> 1\u001b[0;31m \u001b[0;32mfor\u001b[0m \u001b[0mc\u001b[0m \u001b[0;32min\u001b[0m \u001b[0mcats\u001b[0m\u001b[0;34m:\u001b[0m\u001b[0;34m\u001b[0m\u001b[0;34m\u001b[0m\u001b[0m\n\u001b[0m\u001b[1;32m      2\u001b[0m      \u001b[0mstored\u001b[0m\u001b[0;34m[\u001b[0m\u001b[0mc\u001b[0m\u001b[0;34m]\u001b[0m \u001b[0;34m=\u001b[0m \u001b[0mdf\u001b[0m\u001b[0;34m[\u001b[0m\u001b[0mdf\u001b[0m\u001b[0;34m[\u001b[0m\u001b[0;34m'category_core'\u001b[0m\u001b[0;34m]\u001b[0m \u001b[0;34m==\u001b[0m \u001b[0mc\u001b[0m\u001b[0;34m]\u001b[0m\u001b[0;34m\u001b[0m\u001b[0;34m\u001b[0m\u001b[0m\n",
      "\u001b[0;31mNameError\u001b[0m: name 'cats' is not defined"
     ]
    }
   ],
   "source": [
    "stored = {}\n",
    "for c in cats:\n",
    "     stored[c] = df[df['category_core'] == c]"
   ]
  },
  {
   "cell_type": "code",
   "execution_count": 230,
   "metadata": {},
   "outputs": [],
   "source": [
    "words = set(nltk.corpus.words.words())"
   ]
  },
  {
   "cell_type": "code",
   "execution_count": null,
   "metadata": {},
   "outputs": [],
   "source": []
  },
  {
   "cell_type": "code",
   "execution_count": 231,
   "metadata": {},
   "outputs": [
    {
     "name": "stderr",
     "output_type": "stream",
     "text": [
      "/Users/Matt/anaconda3/lib/python3.7/site-packages/ipykernel_launcher.py:14: SettingWithCopyWarning: \n",
      "A value is trying to be set on a copy of a slice from a DataFrame.\n",
      "Try using .loc[row_indexer,col_indexer] = value instead\n",
      "\n",
      "See the caveats in the documentation: http://pandas.pydata.org/pandas-docs/stable/indexing.html#indexing-view-versus-copy\n",
      "  \n"
     ]
    },
    {
     "name": "stdout",
     "output_type": "stream",
     "text": [
      "THE WORD IS food\n",
      "0 :\n",
      "keto | 0.75\n",
      "bitter | 0.72\n",
      "knife | 0.71\n",
      "butcher | 0.70\n",
      "iconic | 0.69\n",
      "1 :\n",
      "smile | 0.92\n",
      "wonderful | 0.91\n",
      "al | 0.91\n",
      "trying | 0.91\n",
      "pork | 0.90\n"
     ]
    },
    {
     "name": "stderr",
     "output_type": "stream",
     "text": [
      "/Users/Matt/anaconda3/lib/python3.7/site-packages/ipykernel_launcher.py:14: SettingWithCopyWarning: \n",
      "A value is trying to be set on a copy of a slice from a DataFrame.\n",
      "Try using .loc[row_indexer,col_indexer] = value instead\n",
      "\n",
      "See the caveats in the documentation: http://pandas.pydata.org/pandas-docs/stable/indexing.html#indexing-view-versus-copy\n",
      "  \n"
     ]
    },
    {
     "name": "stdout",
     "output_type": "stream",
     "text": [
      "THE WORD IS film & video\n",
      "0 :\n",
      "portrait | 0.93\n",
      "documentary | 0.93\n",
      "stretch | 0.92\n",
      "funeral | 0.88\n",
      "refugee | 0.88\n",
      "1 :\n",
      "healthy | 0.86\n",
      "hey | 0.85\n",
      "cartoon | 0.82\n",
      "screenplay | 0.82\n",
      "wanting | 0.81\n"
     ]
    },
    {
     "name": "stderr",
     "output_type": "stream",
     "text": [
      "/Users/Matt/anaconda3/lib/python3.7/site-packages/ipykernel_launcher.py:14: SettingWithCopyWarning: \n",
      "A value is trying to be set on a copy of a slice from a DataFrame.\n",
      "Try using .loc[row_indexer,col_indexer] = value instead\n",
      "\n",
      "See the caveats in the documentation: http://pandas.pydata.org/pandas-docs/stable/indexing.html#indexing-view-versus-copy\n",
      "  \n"
     ]
    },
    {
     "name": "stdout",
     "output_type": "stream",
     "text": [
      "THE WORD IS publishing\n",
      "0 :\n",
      "letterpress | 0.93\n",
      "mountain | 0.92\n",
      "ocean | 0.91\n",
      "coast | 0.91\n",
      "picture | 0.91\n",
      "1 :\n",
      "outlet | 0.79\n",
      "finance | 0.75\n",
      "proven | 0.73\n",
      "condition | 0.72\n",
      "exposure | 0.71\n"
     ]
    },
    {
     "name": "stderr",
     "output_type": "stream",
     "text": [
      "/Users/Matt/anaconda3/lib/python3.7/site-packages/ipykernel_launcher.py:14: SettingWithCopyWarning: \n",
      "A value is trying to be set on a copy of a slice from a DataFrame.\n",
      "Try using .loc[row_indexer,col_indexer] = value instead\n",
      "\n",
      "See the caveats in the documentation: http://pandas.pydata.org/pandas-docs/stable/indexing.html#indexing-view-versus-copy\n",
      "  \n"
     ]
    },
    {
     "name": "stdout",
     "output_type": "stream",
     "text": [
      "THE WORD IS photography\n",
      "0 :\n",
      "muse | 0.88\n",
      "audience | 0.88\n",
      "mature | 0.88\n",
      "monograph | 0.86\n",
      "contain | 0.84\n",
      "1 :\n",
      "visit | 0.90\n",
      "able | 0.90\n",
      "ich | 0.89\n",
      "drone | 0.89\n",
      "wedding | 0.88\n"
     ]
    },
    {
     "name": "stderr",
     "output_type": "stream",
     "text": [
      "/Users/Matt/anaconda3/lib/python3.7/site-packages/ipykernel_launcher.py:14: SettingWithCopyWarning: \n",
      "A value is trying to be set on a copy of a slice from a DataFrame.\n",
      "Try using .loc[row_indexer,col_indexer] = value instead\n",
      "\n",
      "See the caveats in the documentation: http://pandas.pydata.org/pandas-docs/stable/indexing.html#indexing-view-versus-copy\n",
      "  \n"
     ]
    },
    {
     "name": "stdout",
     "output_type": "stream",
     "text": [
      "THE WORD IS crafts\n",
      "0 :\n",
      "plush | 0.91\n",
      "enamel | 0.88\n",
      "timeless | 0.84\n",
      "giant | 0.82\n",
      "orphan | 0.82\n",
      "1 :\n",
      "furniture | 0.86\n",
      "picture | 0.86\n",
      "open | 0.86\n",
      "led | 0.86\n",
      "soy | 0.86\n"
     ]
    },
    {
     "name": "stderr",
     "output_type": "stream",
     "text": [
      "/Users/Matt/anaconda3/lib/python3.7/site-packages/ipykernel_launcher.py:14: SettingWithCopyWarning: \n",
      "A value is trying to be set on a copy of a slice from a DataFrame.\n",
      "Try using .loc[row_indexer,col_indexer] = value instead\n",
      "\n",
      "See the caveats in the documentation: http://pandas.pydata.org/pandas-docs/stable/indexing.html#indexing-view-versus-copy\n",
      "  \n"
     ]
    },
    {
     "name": "stdout",
     "output_type": "stream",
     "text": [
      "THE WORD IS music\n",
      "0 :\n",
      "folk | 0.94\n",
      "heading | 0.94\n",
      "alt | 0.93\n",
      "printing | 0.93\n",
      "roll | 0.92\n",
      "1 :\n",
      "viral | 0.85\n",
      "skill | 0.84\n",
      "speech | 0.82\n",
      "ist | 0.82\n",
      "aspiring | 0.79\n"
     ]
    },
    {
     "name": "stderr",
     "output_type": "stream",
     "text": [
      "/Users/Matt/anaconda3/lib/python3.7/site-packages/ipykernel_launcher.py:14: SettingWithCopyWarning: \n",
      "A value is trying to be set on a copy of a slice from a DataFrame.\n",
      "Try using .loc[row_indexer,col_indexer] = value instead\n",
      "\n",
      "See the caveats in the documentation: http://pandas.pydata.org/pandas-docs/stable/indexing.html#indexing-view-versus-copy\n",
      "  \n"
     ]
    },
    {
     "name": "stdout",
     "output_type": "stream",
     "text": [
      "THE WORD IS art\n",
      "0 :\n",
      "enamel | 0.93\n",
      "pin | 0.92\n",
      "sketchbook | 0.92\n",
      "coloring | 0.91\n",
      "78 | 0.90\n",
      "1 :\n",
      "passionate | 0.85\n",
      "candle | 0.82\n",
      "active | 0.82\n",
      "geared | 0.81\n",
      "sand | 0.80\n"
     ]
    },
    {
     "name": "stderr",
     "output_type": "stream",
     "text": [
      "/Users/Matt/anaconda3/lib/python3.7/site-packages/ipykernel_launcher.py:14: SettingWithCopyWarning: \n",
      "A value is trying to be set on a copy of a slice from a DataFrame.\n",
      "Try using .loc[row_indexer,col_indexer] = value instead\n",
      "\n",
      "See the caveats in the documentation: http://pandas.pydata.org/pandas-docs/stable/indexing.html#indexing-view-versus-copy\n",
      "  \n"
     ]
    },
    {
     "name": "stdout",
     "output_type": "stream",
     "text": [
      "THE WORD IS fashion\n",
      "0 :\n",
      "adventure | 0.90\n",
      "wallet | 0.88\n",
      "tote | 0.87\n",
      "enamel | 0.87\n",
      "anti | 0.86\n",
      "1 :\n",
      "semi | 0.82\n",
      "precious | 0.81\n",
      "lace | 0.80\n",
      "headband | 0.80\n",
      "user | 0.79\n"
     ]
    },
    {
     "name": "stderr",
     "output_type": "stream",
     "text": [
      "/Users/Matt/anaconda3/lib/python3.7/site-packages/ipykernel_launcher.py:14: SettingWithCopyWarning: \n",
      "A value is trying to be set on a copy of a slice from a DataFrame.\n",
      "Try using .loc[row_indexer,col_indexer] = value instead\n",
      "\n",
      "See the caveats in the documentation: http://pandas.pydata.org/pandas-docs/stable/indexing.html#indexing-view-versus-copy\n",
      "  \n"
     ]
    },
    {
     "name": "stdout",
     "output_type": "stream",
     "text": [
      "THE WORD IS theater\n",
      "0 :\n",
      "identity | 0.88\n",
      "installation | 0.87\n",
      "produced | 0.87\n",
      "satire | 0.87\n",
      "cycle | 0.86\n",
      "1 :\n",
      "gospel | 0.82\n",
      "brother | 0.79\n",
      "message | 0.79\n",
      "pirate | 0.78\n",
      "workout | 0.77\n"
     ]
    },
    {
     "name": "stderr",
     "output_type": "stream",
     "text": [
      "/Users/Matt/anaconda3/lib/python3.7/site-packages/ipykernel_launcher.py:14: SettingWithCopyWarning: \n",
      "A value is trying to be set on a copy of a slice from a DataFrame.\n",
      "Try using .loc[row_indexer,col_indexer] = value instead\n",
      "\n",
      "See the caveats in the documentation: http://pandas.pydata.org/pandas-docs/stable/indexing.html#indexing-view-versus-copy\n",
      "  \n"
     ]
    },
    {
     "name": "stdout",
     "output_type": "stream",
     "text": [
      "THE WORD IS journalism\n",
      "0 :\n",
      "winning | 0.77\n",
      "annual | 0.76\n",
      "och | 0.76\n",
      "award | 0.75\n",
      "edition | 0.72\n",
      "1 :\n",
      "die | 0.92\n",
      "sport | 0.90\n",
      "helping | 0.90\n",
      "latest | 0.88\n",
      "portal | 0.86\n"
     ]
    },
    {
     "name": "stderr",
     "output_type": "stream",
     "text": [
      "/Users/Matt/anaconda3/lib/python3.7/site-packages/ipykernel_launcher.py:14: SettingWithCopyWarning: \n",
      "A value is trying to be set on a copy of a slice from a DataFrame.\n",
      "Try using .loc[row_indexer,col_indexer] = value instead\n",
      "\n",
      "See the caveats in the documentation: http://pandas.pydata.org/pandas-docs/stable/indexing.html#indexing-view-versus-copy\n",
      "  \n"
     ]
    },
    {
     "name": "stdout",
     "output_type": "stream",
     "text": [
      "THE WORD IS technology\n",
      "0 :\n",
      "oscilloscope | 0.85\n",
      "cortex | 0.82\n",
      "toothbrush | 0.79\n",
      "ruler | 0.79\n",
      "nixie | 0.77\n",
      "1 :\n",
      "pour | 0.95\n",
      "para | 0.93\n",
      "dating | 0.93\n",
      "job | 0.93\n",
      "rent | 0.92\n"
     ]
    },
    {
     "name": "stderr",
     "output_type": "stream",
     "text": [
      "/Users/Matt/anaconda3/lib/python3.7/site-packages/ipykernel_launcher.py:14: SettingWithCopyWarning: \n",
      "A value is trying to be set on a copy of a slice from a DataFrame.\n",
      "Try using .loc[row_indexer,col_indexer] = value instead\n",
      "\n",
      "See the caveats in the documentation: http://pandas.pydata.org/pandas-docs/stable/indexing.html#indexing-view-versus-copy\n",
      "  \n"
     ]
    },
    {
     "name": "stdout",
     "output_type": "stream",
     "text": [
      "THE WORD IS games\n",
      "0 :\n",
      "28mm | 0.97\n",
      "novel | 0.95\n",
      "miniature | 0.94\n",
      "5e | 0.94\n",
      "visual | 0.93\n",
      "1 :\n",
      "ball | 0.85\n",
      "rush | 0.83\n",
      "tag | 0.82\n",
      "flag | 0.82\n",
      "golf | 0.81\n"
     ]
    },
    {
     "name": "stderr",
     "output_type": "stream",
     "text": [
      "/Users/Matt/anaconda3/lib/python3.7/site-packages/ipykernel_launcher.py:14: SettingWithCopyWarning: \n",
      "A value is trying to be set on a copy of a slice from a DataFrame.\n",
      "Try using .loc[row_indexer,col_indexer] = value instead\n",
      "\n",
      "See the caveats in the documentation: http://pandas.pydata.org/pandas-docs/stable/indexing.html#indexing-view-versus-copy\n",
      "  \n"
     ]
    },
    {
     "name": "stdout",
     "output_type": "stream",
     "text": [
      "THE WORD IS comics\n",
      "0 :\n",
      "issue | 0.96\n",
      "collected | 0.95\n",
      "collection | 0.93\n",
      "high | 0.93\n",
      "face | 0.93\n",
      "1 :\n",
      "writing | 0.67\n",
      "martial | 0.59\n",
      "web | 0.58\n",
      "purpose | 0.57\n",
      "store | 0.54\n"
     ]
    },
    {
     "name": "stderr",
     "output_type": "stream",
     "text": [
      "/Users/Matt/anaconda3/lib/python3.7/site-packages/ipykernel_launcher.py:14: SettingWithCopyWarning: \n",
      "A value is trying to be set on a copy of a slice from a DataFrame.\n",
      "Try using .loc[row_indexer,col_indexer] = value instead\n",
      "\n",
      "See the caveats in the documentation: http://pandas.pydata.org/pandas-docs/stable/indexing.html#indexing-view-versus-copy\n",
      "  \n"
     ]
    },
    {
     "name": "stdout",
     "output_type": "stream",
     "text": [
      "THE WORD IS dance\n",
      "0 :\n",
      "work | 0.96\n",
      "collaboration | 0.96\n",
      "concert | 0.96\n",
      "length | 0.95\n",
      "premiere | 0.95\n",
      "1 :\n",
      "confidence | 0.77\n",
      "adult | 0.65\n",
      "fit | 0.62\n",
      "purpose | 0.60\n",
      "para | 0.60\n",
      "THE WORD IS design\n",
      "0 :\n",
      "watch | 0.95\n",
      "leather | 0.95\n",
      "pen | 0.95\n",
      "pocket | 0.95\n",
      "bag | 0.94\n",
      "1 :\n",
      "barn | 0.84\n",
      "healing | 0.82\n",
      "related | 0.79\n",
      "retreat | 0.79\n",
      "local | 0.78\n"
     ]
    },
    {
     "name": "stderr",
     "output_type": "stream",
     "text": [
      "/Users/Matt/anaconda3/lib/python3.7/site-packages/ipykernel_launcher.py:14: SettingWithCopyWarning: \n",
      "A value is trying to be set on a copy of a slice from a DataFrame.\n",
      "Try using .loc[row_indexer,col_indexer] = value instead\n",
      "\n",
      "See the caveats in the documentation: http://pandas.pydata.org/pandas-docs/stable/indexing.html#indexing-view-versus-copy\n",
      "  \n"
     ]
    }
   ],
   "source": [
    "for c in cats:\n",
    "    data = stored[c]\n",
    "    y = data['failed'].values\n",
    "    \n",
    "    vectorizer = TfidfVectorizer(min_df = 10, stop_words='english')\n",
    "    X = vectorizer.fit_transform(data['blurb_fix'])\n",
    "\n",
    "    X_train, X_test, y_train, y_test = train_test_split(X, y, \n",
    "                                                   test_size = 0.4, random_state = 42)\n",
    "\n",
    "    clf = MultinomialNB()\n",
    "    clf.fit(X_train, y_train)\n",
    "\n",
    "    stored[c]['MNB_cat'] = clf.predict_proba(X)[:,1]>.4\n",
    "    \n",
    "    print(\"THE WORD IS {}\".format(c))\n",
    "    words = np.array(vectorizer.get_feature_names())\n",
    "    classes = clf.classes_\n",
    "    x = np.eye(X.shape[1])\n",
    "    probs = clf.predict_log_proba(x)\n",
    "    for i, c in enumerate(classes):\n",
    "        prob = probs[:,i]\n",
    "        ind = np.argsort(prob)[::-1]\n",
    "    \n",
    "        good_words = words[ind[:5]]\n",
    "    \n",
    "        good_prob = prob[ind[:5]]\n",
    "    \n",
    "    #print(\"Associated words\\t     P({} | word)\".format(c))\n",
    "    #for w, p in zip(good_words, good_prob):\n",
    "    #    print(\"{:>35}\".format(w), \"{:.2f}\".format(np.exp(p)))\n",
    "        \n",
    "        print(c,\":\")\n",
    "        for w, p in zip(good_words, good_prob):\n",
    "            print(\"{} | {:.2f}\".format(w, np.exp(p)))"
   ]
  },
  {
   "cell_type": "code",
   "execution_count": 248,
   "metadata": {},
   "outputs": [],
   "source": [
    "final = list()\n",
    "for c in cats:\n",
    "    final.append(stored[c])"
   ]
  },
  {
   "cell_type": "code",
   "execution_count": 249,
   "metadata": {},
   "outputs": [],
   "source": [
    "final_all = pd.concat(final)"
   ]
  },
  {
   "cell_type": "code",
   "execution_count": 250,
   "metadata": {},
   "outputs": [],
   "source": [
    "final_all.to_pickle('kickstarter_NB.pkl')"
   ]
  },
  {
   "cell_type": "code",
   "execution_count": null,
   "metadata": {},
   "outputs": [],
   "source": []
  },
  {
   "cell_type": "markdown",
   "metadata": {},
   "source": [
    "# Description"
   ]
  },
  {
   "cell_type": "code",
   "execution_count": 11,
   "metadata": {},
   "outputs": [],
   "source": [
    "df = pd.read_pickle('kickstarter_NB.pkl')\n",
    "df = df.dropna()"
   ]
  },
  {
   "cell_type": "code",
   "execution_count": 12,
   "metadata": {},
   "outputs": [],
   "source": [
    "y = df['failed'].values\n",
    "words = set(nltk.corpus.words.words())"
   ]
  },
  {
   "cell_type": "code",
   "execution_count": 14,
   "metadata": {},
   "outputs": [],
   "source": [
    "## PROCESSESING USING LEMMATIZATION\n",
    "lemmatizer = WordNetLemmatizer() \n",
    "df['desc_fix'] = df['description'].str.lower() ##lowercase\n",
    "df['desc_fix'] = df['desc_fix'].apply(lambda x: [lemmatizer.lemmatize(y) for y in x.split()]) ##get lemma\n",
    "df['desc_fix'] = df['desc_fix'].apply(lambda x: ' '.join(x)) ##put into one string\n",
    "df['desc_fix'] = df['desc_fix'].apply(non_eng) ##remove non-english words\n",
    "df['desc_fix'] = df['desc_fix'].str.replace(r'[^\\w\\s]+', '') ## remove punctuation"
   ]
  },
  {
   "cell_type": "code",
   "execution_count": 15,
   "metadata": {},
   "outputs": [],
   "source": [
    "vectorizer = TfidfVectorizer(min_df = 10, stop_words='english')\n",
    "Xt = vectorizer.fit_transform(df['desc_fix'])"
   ]
  },
  {
   "cell_type": "code",
   "execution_count": 16,
   "metadata": {},
   "outputs": [],
   "source": [
    "Xt_train, Xt_test, yt_train, yt_test = train_test_split(Xt, y, \n",
    "                                                   test_size = 0.4, random_state = 42)"
   ]
  },
  {
   "cell_type": "code",
   "execution_count": 19,
   "metadata": {},
   "outputs": [
    {
     "name": "stdout",
     "output_type": "stream",
     "text": [
      "train score: 0.6420398098711503\n",
      "test score: 0.6891879291271844\n",
      "Predicted  False   True    All\n",
      "True                          \n",
      "0          26354  11743  38097\n",
      "1           8091  21605  29696\n",
      "All        34445  33348  67793\n"
     ]
    }
   ],
   "source": [
    "clf = MultinomialNB()\n",
    "clf.fit(Xt_train, yt_train)\n",
    "\n",
    "trnt = clf.predict(Xt_train)\n",
    "## tst = clf.predict(X_test)\n",
    "tstt = clf.predict_proba(Xt_test)[:,1] > .4\n",
    "\n",
    "print(\"train score:\", fbeta_score(yt_train, trnt, beta = 1.1))\n",
    "print(\"test score:\", fbeta_score(yt_test, tstt, beta = 1.1))\n",
    "\n",
    "print(pd.crosstab(yt_test, tstt, rownames=['True'], colnames=['Predicted'], margins=True))\n",
    "\n",
    "df['MNB_All_Desc'] = clf.predict(Xt)"
   ]
  },
  {
   "cell_type": "code",
   "execution_count": 21,
   "metadata": {},
   "outputs": [],
   "source": [
    "cats = list(df['category_core'].unique())"
   ]
  },
  {
   "cell_type": "code",
   "execution_count": 22,
   "metadata": {},
   "outputs": [],
   "source": [
    "stored = {}\n",
    "for c in cats:\n",
    "     stored[c] = df[df['category_core'] == c]"
   ]
  },
  {
   "cell_type": "code",
   "execution_count": 24,
   "metadata": {},
   "outputs": [
    {
     "name": "stderr",
     "output_type": "stream",
     "text": [
      "/Users/Matt/anaconda3/lib/python3.7/site-packages/ipykernel_launcher.py:14: SettingWithCopyWarning: \n",
      "A value is trying to be set on a copy of a slice from a DataFrame.\n",
      "Try using .loc[row_indexer,col_indexer] = value instead\n",
      "\n",
      "See the caveats in the documentation: http://pandas.pydata.org/pandas-docs/stable/indexing.html#indexing-view-versus-copy\n",
      "  \n"
     ]
    },
    {
     "name": "stdout",
     "output_type": "stream",
     "text": [
      "THE WORD IS food\n",
      "0 :\n",
      "unlocked | 0.66\n",
      "birch | 0.65\n",
      "keto | 0.64\n",
      "bitters | 0.64\n",
      "ketogenic | 0.63\n",
      "1 :\n",
      "ich | 0.94\n",
      "franchise | 0.89\n",
      "ist | 0.89\n",
      "homeless | 0.89\n",
      "da | 0.88\n"
     ]
    },
    {
     "name": "stderr",
     "output_type": "stream",
     "text": [
      "/Users/Matt/anaconda3/lib/python3.7/site-packages/ipykernel_launcher.py:14: SettingWithCopyWarning: \n",
      "A value is trying to be set on a copy of a slice from a DataFrame.\n",
      "Try using .loc[row_indexer,col_indexer] = value instead\n",
      "\n",
      "See the caveats in the documentation: http://pandas.pydata.org/pandas-docs/stable/indexing.html#indexing-view-versus-copy\n",
      "  \n"
     ]
    },
    {
     "name": "stdout",
     "output_type": "stream",
     "text": [
      "THE WORD IS film & video\n",
      "0 :\n",
      "archival | 0.87\n",
      "documentary | 0.87\n",
      "refugee | 0.85\n",
      "deductible | 0.85\n",
      "correction | 0.85\n",
      "1 :\n",
      "marshal | 0.77\n",
      "twitch | 0.75\n",
      "ich | 0.75\n",
      "cartoon | 0.75\n",
      "ruler | 0.74\n"
     ]
    },
    {
     "name": "stderr",
     "output_type": "stream",
     "text": [
      "/Users/Matt/anaconda3/lib/python3.7/site-packages/ipykernel_launcher.py:14: SettingWithCopyWarning: \n",
      "A value is trying to be set on a copy of a slice from a DataFrame.\n",
      "Try using .loc[row_indexer,col_indexer] = value instead\n",
      "\n",
      "See the caveats in the documentation: http://pandas.pydata.org/pandas-docs/stable/indexing.html#indexing-view-versus-copy\n",
      "  \n"
     ]
    },
    {
     "name": "stdout",
     "output_type": "stream",
     "text": [
      "THE WORD IS publishing\n",
      "0 :\n",
      "unlocked | 0.93\n",
      "letterpress | 0.93\n",
      "stretch | 0.92\n",
      "novella | 0.92\n",
      "sherlock | 0.91\n",
      "1 :\n",
      "ich | 0.73\n",
      "medio | 0.65\n",
      "medallion | 0.63\n",
      "algebra | 0.63\n",
      "saber | 0.63\n"
     ]
    },
    {
     "name": "stderr",
     "output_type": "stream",
     "text": [
      "/Users/Matt/anaconda3/lib/python3.7/site-packages/ipykernel_launcher.py:14: SettingWithCopyWarning: \n",
      "A value is trying to be set on a copy of a slice from a DataFrame.\n",
      "Try using .loc[row_indexer,col_indexer] = value instead\n",
      "\n",
      "See the caveats in the documentation: http://pandas.pydata.org/pandas-docs/stable/indexing.html#indexing-view-versus-copy\n",
      "  \n"
     ]
    },
    {
     "name": "stdout",
     "output_type": "stream",
     "text": [
      "THE WORD IS photography\n",
      "0 :\n",
      "surprisingly | 0.80\n",
      "subscribe | 0.78\n",
      "muse | 0.77\n",
      "vol | 0.77\n",
      "residency | 0.76\n",
      "1 :\n",
      "business | 0.84\n",
      "equipment | 0.83\n",
      "drone | 0.82\n",
      "hobby | 0.82\n",
      "wedding | 0.82\n"
     ]
    },
    {
     "name": "stderr",
     "output_type": "stream",
     "text": [
      "/Users/Matt/anaconda3/lib/python3.7/site-packages/ipykernel_launcher.py:14: SettingWithCopyWarning: \n",
      "A value is trying to be set on a copy of a slice from a DataFrame.\n",
      "Try using .loc[row_indexer,col_indexer] = value instead\n",
      "\n",
      "See the caveats in the documentation: http://pandas.pydata.org/pandas-docs/stable/indexing.html#indexing-view-versus-copy\n",
      "  \n"
     ]
    },
    {
     "name": "stdout",
     "output_type": "stream",
     "text": [
      "THE WORD IS crafts\n",
      "0 :\n",
      "plush | 0.94\n",
      "enamel | 0.85\n",
      "burl | 0.85\n",
      "stretch | 0.82\n",
      "pin | 0.81\n",
      "1 :\n",
      "ai | 0.86\n",
      "mon | 0.84\n",
      "pour | 0.83\n",
      "car | 0.83\n",
      "furniture | 0.82\n"
     ]
    },
    {
     "name": "stderr",
     "output_type": "stream",
     "text": [
      "/Users/Matt/anaconda3/lib/python3.7/site-packages/ipykernel_launcher.py:14: SettingWithCopyWarning: \n",
      "A value is trying to be set on a copy of a slice from a DataFrame.\n",
      "Try using .loc[row_indexer,col_indexer] = value instead\n",
      "\n",
      "See the caveats in the documentation: http://pandas.pydata.org/pandas-docs/stable/indexing.html#indexing-view-versus-copy\n",
      "  \n"
     ]
    },
    {
     "name": "stdout",
     "output_type": "stream",
     "text": [
      "THE WORD IS music\n",
      "0 :\n",
      "banjo | 0.93\n",
      "bluegrass | 0.93\n",
      "fiddle | 0.92\n",
      "stretch | 0.91\n",
      "drew | 0.90\n",
      "1 :\n",
      "autism | 0.80\n",
      "ich | 0.75\n",
      "advertise | 0.73\n",
      "trap | 0.72\n",
      "duro | 0.71\n"
     ]
    },
    {
     "name": "stderr",
     "output_type": "stream",
     "text": [
      "/Users/Matt/anaconda3/lib/python3.7/site-packages/ipykernel_launcher.py:14: SettingWithCopyWarning: \n",
      "A value is trying to be set on a copy of a slice from a DataFrame.\n",
      "Try using .loc[row_indexer,col_indexer] = value instead\n",
      "\n",
      "See the caveats in the documentation: http://pandas.pydata.org/pandas-docs/stable/indexing.html#indexing-view-versus-copy\n",
      "  \n"
     ]
    },
    {
     "name": "stdout",
     "output_type": "stream",
     "text": [
      "THE WORD IS art\n",
      "0 :\n",
      "unlocked | 0.94\n",
      "sketchbook | 0.92\n",
      "pin | 0.91\n",
      "enamel | 0.90\n",
      "clutch | 0.89\n",
      "1 :\n",
      "mir | 0.74\n",
      "karate | 0.74\n",
      "ich | 0.74\n",
      "bless | 0.73\n",
      "ist | 0.73\n"
     ]
    },
    {
     "name": "stderr",
     "output_type": "stream",
     "text": [
      "/Users/Matt/anaconda3/lib/python3.7/site-packages/ipykernel_launcher.py:14: SettingWithCopyWarning: \n",
      "A value is trying to be set on a copy of a slice from a DataFrame.\n",
      "Try using .loc[row_indexer,col_indexer] = value instead\n",
      "\n",
      "See the caveats in the documentation: http://pandas.pydata.org/pandas-docs/stable/indexing.html#indexing-view-versus-copy\n",
      "  \n"
     ]
    },
    {
     "name": "stdout",
     "output_type": "stream",
     "text": [
      "THE WORD IS fashion\n",
      "0 :\n",
      "unlocked | 0.89\n",
      "wallet | 0.87\n",
      "scarf | 0.86\n",
      "sticker | 0.86\n",
      "pin | 0.85\n",
      "1 :\n",
      "gown | 0.78\n",
      "jewel | 0.78\n",
      "advertise | 0.76\n",
      "jewelry | 0.76\n",
      "bead | 0.75\n"
     ]
    },
    {
     "name": "stderr",
     "output_type": "stream",
     "text": [
      "/Users/Matt/anaconda3/lib/python3.7/site-packages/ipykernel_launcher.py:14: SettingWithCopyWarning: \n",
      "A value is trying to be set on a copy of a slice from a DataFrame.\n",
      "Try using .loc[row_indexer,col_indexer] = value instead\n",
      "\n",
      "See the caveats in the documentation: http://pandas.pydata.org/pandas-docs/stable/indexing.html#indexing-view-versus-copy\n",
      "  \n"
     ]
    },
    {
     "name": "stdout",
     "output_type": "stream",
     "text": [
      "THE WORD IS theater\n",
      "0 :\n",
      "queer | 0.86\n",
      "rose | 0.85\n",
      "pleasance | 0.85\n",
      "fringe | 0.84\n",
      "collective | 0.84\n",
      "1 :\n",
      "gospel | 0.73\n",
      "spiritual | 0.73\n",
      "fright | 0.70\n",
      "domino | 0.67\n",
      "inspirational | 0.67\n"
     ]
    },
    {
     "name": "stderr",
     "output_type": "stream",
     "text": [
      "/Users/Matt/anaconda3/lib/python3.7/site-packages/ipykernel_launcher.py:14: SettingWithCopyWarning: \n",
      "A value is trying to be set on a copy of a slice from a DataFrame.\n",
      "Try using .loc[row_indexer,col_indexer] = value instead\n",
      "\n",
      "See the caveats in the documentation: http://pandas.pydata.org/pandas-docs/stable/indexing.html#indexing-view-versus-copy\n",
      "  \n"
     ]
    },
    {
     "name": "stdout",
     "output_type": "stream",
     "text": [
      "THE WORD IS journalism\n",
      "0 :\n",
      "eve | 0.65\n",
      "dispatch | 0.61\n",
      "occupy | 0.61\n",
      "narrative | 0.61\n",
      "stretch | 0.61\n",
      "1 :\n",
      "ich | 0.92\n",
      "die | 0.89\n",
      "fitness | 0.89\n",
      "user | 0.87\n",
      "sports | 0.87\n"
     ]
    },
    {
     "name": "stderr",
     "output_type": "stream",
     "text": [
      "/Users/Matt/anaconda3/lib/python3.7/site-packages/ipykernel_launcher.py:14: SettingWithCopyWarning: \n",
      "A value is trying to be set on a copy of a slice from a DataFrame.\n",
      "Try using .loc[row_indexer,col_indexer] = value instead\n",
      "\n",
      "See the caveats in the documentation: http://pandas.pydata.org/pandas-docs/stable/indexing.html#indexing-view-versus-copy\n",
      "  \n"
     ]
    },
    {
     "name": "stdout",
     "output_type": "stream",
     "text": [
      "THE WORD IS technology\n",
      "0 :\n",
      "nixie | 0.78\n",
      "stabilizer | 0.73\n",
      "pinhole | 0.72\n",
      "poplar | 0.72\n",
      "kiwi | 0.72\n",
      "1 :\n",
      "dating | 0.95\n",
      "di | 0.91\n",
      "booking | 0.91\n",
      "ich | 0.90\n",
      "che | 0.89\n"
     ]
    },
    {
     "name": "stderr",
     "output_type": "stream",
     "text": [
      "/Users/Matt/anaconda3/lib/python3.7/site-packages/ipykernel_launcher.py:14: SettingWithCopyWarning: \n",
      "A value is trying to be set on a copy of a slice from a DataFrame.\n",
      "Try using .loc[row_indexer,col_indexer] = value instead\n",
      "\n",
      "See the caveats in the documentation: http://pandas.pydata.org/pandas-docs/stable/indexing.html#indexing-view-versus-copy\n",
      "  \n"
     ]
    },
    {
     "name": "stdout",
     "output_type": "stream",
     "text": [
      "THE WORD IS games\n",
      "0 :\n",
      "miniature | 0.92\n",
      "resin | 0.91\n",
      "unlocked | 0.91\n",
      "steam | 0.91\n",
      "28mm | 0.90\n",
      "1 :\n",
      "application | 0.78\n",
      "golf | 0.77\n",
      "dart | 0.76\n",
      "mobile | 0.75\n",
      "clicker | 0.74\n"
     ]
    },
    {
     "name": "stderr",
     "output_type": "stream",
     "text": [
      "/Users/Matt/anaconda3/lib/python3.7/site-packages/ipykernel_launcher.py:14: SettingWithCopyWarning: \n",
      "A value is trying to be set on a copy of a slice from a DataFrame.\n",
      "Try using .loc[row_indexer,col_indexer] = value instead\n",
      "\n",
      "See the caveats in the documentation: http://pandas.pydata.org/pandas-docs/stable/indexing.html#indexing-view-versus-copy\n",
      "  \n"
     ]
    },
    {
     "name": "stdout",
     "output_type": "stream",
     "text": [
      "THE WORD IS comics\n",
      "0 :\n",
      "unlocked | 0.96\n",
      "variant | 0.95\n",
      "stretch | 0.95\n",
      "issue | 0.94\n",
      "add | 0.94\n",
      "1 :\n",
      "famine | 0.52\n",
      "hive | 0.51\n",
      "hatch | 0.51\n",
      "unapologetic | 0.50\n",
      "khan | 0.50\n"
     ]
    },
    {
     "name": "stderr",
     "output_type": "stream",
     "text": [
      "/Users/Matt/anaconda3/lib/python3.7/site-packages/ipykernel_launcher.py:14: SettingWithCopyWarning: \n",
      "A value is trying to be set on a copy of a slice from a DataFrame.\n",
      "Try using .loc[row_indexer,col_indexer] = value instead\n",
      "\n",
      "See the caveats in the documentation: http://pandas.pydata.org/pandas-docs/stable/indexing.html#indexing-view-versus-copy\n",
      "  \n"
     ]
    },
    {
     "name": "stdout",
     "output_type": "stream",
     "text": [
      "THE WORD IS dance\n",
      "0 :\n",
      "designer | 0.95\n",
      "choreographer | 0.94\n",
      "2012 | 0.94\n",
      "concert | 0.94\n",
      "collaborator | 0.94\n",
      "1 :\n",
      "cheer | 0.59\n",
      "cheerleader | 0.51\n",
      "yo | 0.50\n",
      "football | 0.49\n",
      "rented | 0.48\n"
     ]
    },
    {
     "name": "stderr",
     "output_type": "stream",
     "text": [
      "/Users/Matt/anaconda3/lib/python3.7/site-packages/ipykernel_launcher.py:14: SettingWithCopyWarning: \n",
      "A value is trying to be set on a copy of a slice from a DataFrame.\n",
      "Try using .loc[row_indexer,col_indexer] = value instead\n",
      "\n",
      "See the caveats in the documentation: http://pandas.pydata.org/pandas-docs/stable/indexing.html#indexing-view-versus-copy\n",
      "  \n"
     ]
    },
    {
     "name": "stdout",
     "output_type": "stream",
     "text": [
      "THE WORD IS design\n",
      "0 :\n",
      "knife | 0.96\n",
      "strap | 0.96\n",
      "leather | 0.96\n",
      "bag | 0.94\n",
      "blade | 0.94\n",
      "1 :\n",
      "barn | 0.82\n",
      "cabin | 0.78\n",
      "skate | 0.71\n",
      "land | 0.71\n",
      "housing | 0.70\n"
     ]
    }
   ],
   "source": [
    "for c in cats:\n",
    "    data = stored[c]\n",
    "    y = data['failed'].values\n",
    "    \n",
    "    vectorizer = TfidfVectorizer(min_df = 10, stop_words='english')\n",
    "    X = vectorizer.fit_transform(data['desc_fix'])\n",
    "\n",
    "    X_train, X_test, y_train, y_test = train_test_split(X, y, \n",
    "                                                   test_size = 0.4, random_state = 42)\n",
    "\n",
    "    clf = MultinomialNB()\n",
    "    clf.fit(X_train, y_train)\n",
    "\n",
    "    stored[c]['MNB_cat_Desc'] = clf.predict_proba(X)[:,1]>.4\n",
    "    \n",
    "    print(\"THE WORD IS {}\".format(c))\n",
    "    words = np.array(vectorizer.get_feature_names())\n",
    "    classes = clf.classes_\n",
    "    x = np.eye(X.shape[1])\n",
    "    probs = clf.predict_log_proba(x)\n",
    "    for i, c in enumerate(classes):\n",
    "        prob = probs[:,i]\n",
    "        ind = np.argsort(prob)[::-1]\n",
    "    \n",
    "        good_words = words[ind[:5]]\n",
    "    \n",
    "        good_prob = prob[ind[:5]]\n",
    "    \n",
    "    #print(\"Associated words\\t     P({} | word)\".format(c))\n",
    "    #for w, p in zip(good_words, good_prob):\n",
    "    #    print(\"{:>35}\".format(w), \"{:.2f}\".format(np.exp(p)))\n",
    "        \n",
    "        print(c,\":\")\n",
    "        for w, p in zip(good_words, good_prob):\n",
    "            print(\"{} | {:.2f}\".format(w, np.exp(p)))"
   ]
  },
  {
   "cell_type": "code",
   "execution_count": 26,
   "metadata": {},
   "outputs": [],
   "source": [
    "alldesc = list()\n",
    "for c in cats:\n",
    "    alldesc.append(stored[c])\n",
    "    \n",
    "alldesc = pd.concat(alldesc)"
   ]
  },
  {
   "cell_type": "code",
   "execution_count": 27,
   "metadata": {},
   "outputs": [
    {
     "data": {
      "text/html": [
       "<div>\n",
       "<style scoped>\n",
       "    .dataframe tbody tr th:only-of-type {\n",
       "        vertical-align: middle;\n",
       "    }\n",
       "\n",
       "    .dataframe tbody tr th {\n",
       "        vertical-align: top;\n",
       "    }\n",
       "\n",
       "    .dataframe thead th {\n",
       "        text-align: right;\n",
       "    }\n",
       "</style>\n",
       "<table border=\"1\" class=\"dataframe\">\n",
       "  <thead>\n",
       "    <tr style=\"text-align: right;\">\n",
       "      <th></th>\n",
       "      <th>blurb</th>\n",
       "      <th>country</th>\n",
       "      <th>created_at</th>\n",
       "      <th>currency</th>\n",
       "      <th>deadline</th>\n",
       "      <th>launched_at</th>\n",
       "      <th>slug</th>\n",
       "      <th>spotlight</th>\n",
       "      <th>staff_pick</th>\n",
       "      <th>state</th>\n",
       "      <th>...</th>\n",
       "      <th>created_month</th>\n",
       "      <th>created_weekday</th>\n",
       "      <th>deadline_month</th>\n",
       "      <th>deadline_weekday</th>\n",
       "      <th>length_of_project</th>\n",
       "      <th>blurb_fix</th>\n",
       "      <th>MNB_cat</th>\n",
       "      <th>desc_fix</th>\n",
       "      <th>MNB_All_Desc</th>\n",
       "      <th>MNB_cat_Desc</th>\n",
       "    </tr>\n",
       "  </thead>\n",
       "  <tbody>\n",
       "    <tr>\n",
       "      <th>0</th>\n",
       "      <td>Ginger KICK! is back for the holidays with ama...</td>\n",
       "      <td>US</td>\n",
       "      <td>2017-11-05 12:05:03</td>\n",
       "      <td>USD</td>\n",
       "      <td>2017-11-12 20:33:24</td>\n",
       "      <td>2017-11-05 20:33:24</td>\n",
       "      <td>ginger-kick-holiday-cheer</td>\n",
       "      <td>1</td>\n",
       "      <td>0</td>\n",
       "      <td>successful</td>\n",
       "      <td>...</td>\n",
       "      <td>Nov</td>\n",
       "      <td>Sun</td>\n",
       "      <td>Nov</td>\n",
       "      <td>Sun</td>\n",
       "      <td>7</td>\n",
       "      <td>ginger kick  is back for the holiday with amaz...</td>\n",
       "      <td>True</td>\n",
       "      <td>for those visiting for the first time  here  s...</td>\n",
       "      <td>0</td>\n",
       "      <td>False</td>\n",
       "    </tr>\n",
       "    <tr>\n",
       "      <th>11</th>\n",
       "      <td>More than just a farm.</td>\n",
       "      <td>CA</td>\n",
       "      <td>2015-06-29 03:23:38</td>\n",
       "      <td>CAD</td>\n",
       "      <td>2015-12-05 06:00:00</td>\n",
       "      <td>2015-11-05 15:02:36</td>\n",
       "      <td>flavourful-farms</td>\n",
       "      <td>1</td>\n",
       "      <td>1</td>\n",
       "      <td>successful</td>\n",
       "      <td>...</td>\n",
       "      <td>Jun</td>\n",
       "      <td>Mon</td>\n",
       "      <td>Dec</td>\n",
       "      <td>Sat</td>\n",
       "      <td>159</td>\n",
       "      <td>more than just a farm</td>\n",
       "      <td>True</td>\n",
       "      <td>built to serve you farm wa after year of resea...</td>\n",
       "      <td>1</td>\n",
       "      <td>True</td>\n",
       "    </tr>\n",
       "    <tr>\n",
       "      <th>13</th>\n",
       "      <td>I'm on a mission to make the best, most sinful...</td>\n",
       "      <td>US</td>\n",
       "      <td>2014-07-07 21:05:23</td>\n",
       "      <td>USD</td>\n",
       "      <td>2014-09-09 03:44:57</td>\n",
       "      <td>2014-07-11 03:44:57</td>\n",
       "      <td>creating-a-perfect-mac-and-cheese</td>\n",
       "      <td>0</td>\n",
       "      <td>0</td>\n",
       "      <td>failed</td>\n",
       "      <td>...</td>\n",
       "      <td>Jul</td>\n",
       "      <td>Mon</td>\n",
       "      <td>Sep</td>\n",
       "      <td>Tue</td>\n",
       "      <td>63</td>\n",
       "      <td>i  m on a mission to make the best  most sinfu...</td>\n",
       "      <td>True</td>\n",
       "      <td>my goal is to create ultra gourmet mac and che...</td>\n",
       "      <td>1</td>\n",
       "      <td>True</td>\n",
       "    </tr>\n",
       "    <tr>\n",
       "      <th>14</th>\n",
       "      <td>I want to open a neighborhood bakery so I can ...</td>\n",
       "      <td>US</td>\n",
       "      <td>2015-08-14 00:29:00</td>\n",
       "      <td>USD</td>\n",
       "      <td>2015-09-14 11:21:58</td>\n",
       "      <td>2015-08-15 11:21:58</td>\n",
       "      <td>old-irish-bakery</td>\n",
       "      <td>0</td>\n",
       "      <td>0</td>\n",
       "      <td>failed</td>\n",
       "      <td>...</td>\n",
       "      <td>Aug</td>\n",
       "      <td>Fri</td>\n",
       "      <td>Sep</td>\n",
       "      <td>Mon</td>\n",
       "      <td>31</td>\n",
       "      <td>i want to open a neighborhood bakery so i can ...</td>\n",
       "      <td>True</td>\n",
       "      <td>every one of my happy childhood memory involve...</td>\n",
       "      <td>1</td>\n",
       "      <td>True</td>\n",
       "    </tr>\n",
       "    <tr>\n",
       "      <th>18</th>\n",
       "      <td>A wine lounge that educates the mind and the p...</td>\n",
       "      <td>US</td>\n",
       "      <td>2018-02-02 02:26:14</td>\n",
       "      <td>USD</td>\n",
       "      <td>2018-05-20 03:59:00</td>\n",
       "      <td>2018-04-19 17:32:16</td>\n",
       "      <td>blacksburg-wine-lab</td>\n",
       "      <td>1</td>\n",
       "      <td>0</td>\n",
       "      <td>successful</td>\n",
       "      <td>...</td>\n",
       "      <td>Feb</td>\n",
       "      <td>Fri</td>\n",
       "      <td>May</td>\n",
       "      <td>Sun</td>\n",
       "      <td>107</td>\n",
       "      <td>a wine lounge that the mind and the palate  in...</td>\n",
       "      <td>True</td>\n",
       "      <td>overview  wine lab is so because it will be de...</td>\n",
       "      <td>1</td>\n",
       "      <td>True</td>\n",
       "    </tr>\n",
       "  </tbody>\n",
       "</table>\n",
       "<p>5 rows × 40 columns</p>\n",
       "</div>"
      ],
      "text/plain": [
       "                                                blurb country  \\\n",
       "0   Ginger KICK! is back for the holidays with ama...      US   \n",
       "11                             More than just a farm.      CA   \n",
       "13  I'm on a mission to make the best, most sinful...      US   \n",
       "14  I want to open a neighborhood bakery so I can ...      US   \n",
       "18  A wine lounge that educates the mind and the p...      US   \n",
       "\n",
       "            created_at currency            deadline         launched_at  \\\n",
       "0  2017-11-05 12:05:03      USD 2017-11-12 20:33:24 2017-11-05 20:33:24   \n",
       "11 2015-06-29 03:23:38      CAD 2015-12-05 06:00:00 2015-11-05 15:02:36   \n",
       "13 2014-07-07 21:05:23      USD 2014-09-09 03:44:57 2014-07-11 03:44:57   \n",
       "14 2015-08-14 00:29:00      USD 2015-09-14 11:21:58 2015-08-15 11:21:58   \n",
       "18 2018-02-02 02:26:14      USD 2018-05-20 03:59:00 2018-04-19 17:32:16   \n",
       "\n",
       "                                 slug  spotlight  staff_pick       state  ...  \\\n",
       "0           ginger-kick-holiday-cheer          1           0  successful  ...   \n",
       "11                   flavourful-farms          1           1  successful  ...   \n",
       "13  creating-a-perfect-mac-and-cheese          0           0      failed  ...   \n",
       "14                   old-irish-bakery          0           0      failed  ...   \n",
       "18                blacksburg-wine-lab          1           0  successful  ...   \n",
       "\n",
       "    created_month created_weekday deadline_month deadline_weekday  \\\n",
       "0             Nov             Sun            Nov              Sun   \n",
       "11            Jun             Mon            Dec              Sat   \n",
       "13            Jul             Mon            Sep              Tue   \n",
       "14            Aug             Fri            Sep              Mon   \n",
       "18            Feb             Fri            May              Sun   \n",
       "\n",
       "   length_of_project                                          blurb_fix  \\\n",
       "0                  7  ginger kick  is back for the holiday with amaz...   \n",
       "11               159                             more than just a farm    \n",
       "13                63  i  m on a mission to make the best  most sinfu...   \n",
       "14                31  i want to open a neighborhood bakery so i can ...   \n",
       "18               107  a wine lounge that the mind and the palate  in...   \n",
       "\n",
       "    MNB_cat                                           desc_fix MNB_All_Desc  \\\n",
       "0      True  for those visiting for the first time  here  s...            0   \n",
       "11     True  built to serve you farm wa after year of resea...            1   \n",
       "13     True  my goal is to create ultra gourmet mac and che...            1   \n",
       "14     True  every one of my happy childhood memory involve...            1   \n",
       "18     True  overview  wine lab is so because it will be de...            1   \n",
       "\n",
       "    MNB_cat_Desc  \n",
       "0          False  \n",
       "11          True  \n",
       "13          True  \n",
       "14          True  \n",
       "18          True  \n",
       "\n",
       "[5 rows x 40 columns]"
      ]
     },
     "execution_count": 27,
     "metadata": {},
     "output_type": "execute_result"
    }
   ],
   "source": [
    "alldesc.head()"
   ]
  },
  {
   "cell_type": "code",
   "execution_count": 28,
   "metadata": {},
   "outputs": [],
   "source": [
    "alldesc.to_pickle('kickstarter_NB.pkl')"
   ]
  },
  {
   "cell_type": "code",
   "execution_count": null,
   "metadata": {},
   "outputs": [],
   "source": []
  },
  {
   "cell_type": "code",
   "execution_count": null,
   "metadata": {},
   "outputs": [],
   "source": []
  },
  {
   "cell_type": "code",
   "execution_count": null,
   "metadata": {},
   "outputs": [],
   "source": []
  },
  {
   "cell_type": "markdown",
   "metadata": {},
   "source": [
    "# Predicting Fails"
   ]
  },
  {
   "cell_type": "code",
   "execution_count": 95,
   "metadata": {},
   "outputs": [],
   "source": [
    "fy = df['failed'].values"
   ]
  },
  {
   "cell_type": "code",
   "execution_count": 60,
   "metadata": {},
   "outputs": [],
   "source": [
    "vectorizer = CountVectorizer(min_df = 10)\n",
    "fX = vectorizer.fit_transform(df['blurb_fix'].values)"
   ]
  },
  {
   "cell_type": "code",
   "execution_count": 62,
   "metadata": {},
   "outputs": [],
   "source": [
    "clf = MultinomialNB()\n",
    "clf.fit(fX, y)\n",
    "words = np.array(vectorizer.get_feature_names())\n",
    "classes = clf.classes_"
   ]
  },
  {
   "cell_type": "code",
   "execution_count": 63,
   "metadata": {},
   "outputs": [
    {
     "ename": "ValueError",
     "evalue": "shapes (7109,7109) and (7315,2) not aligned: 7109 (dim 1) != 7315 (dim 0)",
     "output_type": "error",
     "traceback": [
      "\u001b[0;31m---------------------------------------------------------------------------\u001b[0m",
      "\u001b[0;31mValueError\u001b[0m                                Traceback (most recent call last)",
      "\u001b[0;32m<ipython-input-63-80e0b91ca547>\u001b[0m in \u001b[0;36m<module>\u001b[0;34m\u001b[0m\n\u001b[1;32m      1\u001b[0m \u001b[0mx\u001b[0m \u001b[0;34m=\u001b[0m \u001b[0mnp\u001b[0m\u001b[0;34m.\u001b[0m\u001b[0meye\u001b[0m\u001b[0;34m(\u001b[0m\u001b[0mX\u001b[0m\u001b[0;34m.\u001b[0m\u001b[0mshape\u001b[0m\u001b[0;34m[\u001b[0m\u001b[0;36m1\u001b[0m\u001b[0;34m]\u001b[0m\u001b[0;34m)\u001b[0m\u001b[0;34m\u001b[0m\u001b[0;34m\u001b[0m\u001b[0m\n\u001b[0;32m----> 2\u001b[0;31m \u001b[0mprobs\u001b[0m \u001b[0;34m=\u001b[0m \u001b[0mclf\u001b[0m\u001b[0;34m.\u001b[0m\u001b[0mpredict_log_proba\u001b[0m\u001b[0;34m(\u001b[0m\u001b[0mx\u001b[0m\u001b[0;34m)\u001b[0m\u001b[0;34m[\u001b[0m\u001b[0;34m:\u001b[0m\u001b[0;34m,\u001b[0m \u001b[0;36m0\u001b[0m\u001b[0;34m]\u001b[0m\u001b[0;34m\u001b[0m\u001b[0;34m\u001b[0m\u001b[0m\n\u001b[0m\u001b[1;32m      3\u001b[0m \u001b[0mind\u001b[0m \u001b[0;34m=\u001b[0m \u001b[0mnp\u001b[0m\u001b[0;34m.\u001b[0m\u001b[0margsort\u001b[0m\u001b[0;34m(\u001b[0m\u001b[0mprobs\u001b[0m\u001b[0;34m)\u001b[0m\u001b[0;34m\u001b[0m\u001b[0;34m\u001b[0m\u001b[0m\n\u001b[1;32m      4\u001b[0m \u001b[0;34m\u001b[0m\u001b[0m\n\u001b[1;32m      5\u001b[0m \u001b[0mgood_words\u001b[0m \u001b[0;34m=\u001b[0m \u001b[0mwords\u001b[0m\u001b[0;34m[\u001b[0m\u001b[0mind\u001b[0m\u001b[0;34m[\u001b[0m\u001b[0;34m:\u001b[0m\u001b[0;36m10\u001b[0m\u001b[0;34m]\u001b[0m\u001b[0;34m]\u001b[0m\u001b[0;34m\u001b[0m\u001b[0;34m\u001b[0m\u001b[0m\n",
      "\u001b[0;32m~/anaconda3/lib/python3.7/site-packages/sklearn/naive_bayes.py\u001b[0m in \u001b[0;36mpredict_log_proba\u001b[0;34m(self, X)\u001b[0m\n\u001b[1;32m     82\u001b[0m             \u001b[0morder\u001b[0m\u001b[0;34m,\u001b[0m \u001b[0;32mas\u001b[0m \u001b[0mthey\u001b[0m \u001b[0mappear\u001b[0m \u001b[0;32min\u001b[0m \u001b[0mthe\u001b[0m \u001b[0mattribute\u001b[0m\u001b[0;31m \u001b[0m\u001b[0;31m`\u001b[0m\u001b[0mclasses_\u001b[0m\u001b[0;31m`\u001b[0m\u001b[0;34m.\u001b[0m\u001b[0;34m\u001b[0m\u001b[0;34m\u001b[0m\u001b[0m\n\u001b[1;32m     83\u001b[0m         \"\"\"\n\u001b[0;32m---> 84\u001b[0;31m         \u001b[0mjll\u001b[0m \u001b[0;34m=\u001b[0m \u001b[0mself\u001b[0m\u001b[0;34m.\u001b[0m\u001b[0m_joint_log_likelihood\u001b[0m\u001b[0;34m(\u001b[0m\u001b[0mX\u001b[0m\u001b[0;34m)\u001b[0m\u001b[0;34m\u001b[0m\u001b[0;34m\u001b[0m\u001b[0m\n\u001b[0m\u001b[1;32m     85\u001b[0m         \u001b[0;31m# normalize by P(x) = P(f_1, ..., f_n)\u001b[0m\u001b[0;34m\u001b[0m\u001b[0;34m\u001b[0m\u001b[0;34m\u001b[0m\u001b[0m\n\u001b[1;32m     86\u001b[0m         \u001b[0mlog_prob_x\u001b[0m \u001b[0;34m=\u001b[0m \u001b[0mlogsumexp\u001b[0m\u001b[0;34m(\u001b[0m\u001b[0mjll\u001b[0m\u001b[0;34m,\u001b[0m \u001b[0maxis\u001b[0m\u001b[0;34m=\u001b[0m\u001b[0;36m1\u001b[0m\u001b[0;34m)\u001b[0m\u001b[0;34m\u001b[0m\u001b[0;34m\u001b[0m\u001b[0m\n",
      "\u001b[0;32m~/anaconda3/lib/python3.7/site-packages/sklearn/naive_bayes.py\u001b[0m in \u001b[0;36m_joint_log_likelihood\u001b[0;34m(self, X)\u001b[0m\n\u001b[1;32m    729\u001b[0m \u001b[0;34m\u001b[0m\u001b[0m\n\u001b[1;32m    730\u001b[0m         \u001b[0mX\u001b[0m \u001b[0;34m=\u001b[0m \u001b[0mcheck_array\u001b[0m\u001b[0;34m(\u001b[0m\u001b[0mX\u001b[0m\u001b[0;34m,\u001b[0m \u001b[0maccept_sparse\u001b[0m\u001b[0;34m=\u001b[0m\u001b[0;34m'csr'\u001b[0m\u001b[0;34m)\u001b[0m\u001b[0;34m\u001b[0m\u001b[0;34m\u001b[0m\u001b[0m\n\u001b[0;32m--> 731\u001b[0;31m         return (safe_sparse_dot(X, self.feature_log_prob_.T) +\n\u001b[0m\u001b[1;32m    732\u001b[0m                 self.class_log_prior_)\n\u001b[1;32m    733\u001b[0m \u001b[0;34m\u001b[0m\u001b[0m\n",
      "\u001b[0;32m~/anaconda3/lib/python3.7/site-packages/sklearn/utils/extmath.py\u001b[0m in \u001b[0;36msafe_sparse_dot\u001b[0;34m(a, b, dense_output)\u001b[0m\n\u001b[1;32m    171\u001b[0m         \u001b[0;32mreturn\u001b[0m \u001b[0mret\u001b[0m\u001b[0;34m\u001b[0m\u001b[0;34m\u001b[0m\u001b[0m\n\u001b[1;32m    172\u001b[0m     \u001b[0;32melse\u001b[0m\u001b[0;34m:\u001b[0m\u001b[0;34m\u001b[0m\u001b[0;34m\u001b[0m\u001b[0m\n\u001b[0;32m--> 173\u001b[0;31m         \u001b[0;32mreturn\u001b[0m \u001b[0mnp\u001b[0m\u001b[0;34m.\u001b[0m\u001b[0mdot\u001b[0m\u001b[0;34m(\u001b[0m\u001b[0ma\u001b[0m\u001b[0;34m,\u001b[0m \u001b[0mb\u001b[0m\u001b[0;34m)\u001b[0m\u001b[0;34m\u001b[0m\u001b[0;34m\u001b[0m\u001b[0m\n\u001b[0m\u001b[1;32m    174\u001b[0m \u001b[0;34m\u001b[0m\u001b[0m\n\u001b[1;32m    175\u001b[0m \u001b[0;34m\u001b[0m\u001b[0m\n",
      "\u001b[0;31mValueError\u001b[0m: shapes (7109,7109) and (7315,2) not aligned: 7109 (dim 1) != 7315 (dim 0)"
     ]
    }
   ],
   "source": [
    "x = np.eye(X.shape[1])\n",
    "probs = clf.predict_log_proba(x)[:, 0]\n",
    "ind = np.argsort(probs)\n",
    "\n",
    "good_words = words[ind[:10]]\n",
    "bad_words = words[ind[-10:]]\n",
    "\n",
    "good_prob = probs[ind[:10]]\n",
    "bad_prob = probs[ind[-10:]]\n",
    "\n",
    "print(\"Failed words\\t     P(1 | word)\")\n",
    "for w, p in zip(good_words, good_prob):\n",
    "    print(\"{:>20}\".format(w), \"{:.2f}\".format(1 - np.exp(p)))\n",
    "    \n",
    "print(\"Successful words\\t     P(1 | word)\")\n",
    "for w, p in zip(bad_words, bad_prob):\n",
    "    print(\"{:>20}\".format(w), \"{:.2f}\".format(1 - np.exp(p)))"
   ]
  },
  {
   "cell_type": "code",
   "execution_count": null,
   "metadata": {},
   "outputs": [],
   "source": []
  }
 ],
 "metadata": {
  "kernelspec": {
   "display_name": "Python 3",
   "language": "python",
   "name": "python3"
  },
  "language_info": {
   "codemirror_mode": {
    "name": "ipython",
    "version": 3
   },
   "file_extension": ".py",
   "mimetype": "text/x-python",
   "name": "python",
   "nbconvert_exporter": "python",
   "pygments_lexer": "ipython3",
   "version": "3.7.3"
  }
 },
 "nbformat": 4,
 "nbformat_minor": 2
}
