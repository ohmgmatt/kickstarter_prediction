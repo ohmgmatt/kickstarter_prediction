{
 "cells": [
  {
   "cell_type": "code",
   "execution_count": 1,
   "metadata": {},
   "outputs": [],
   "source": [
    "import pandas as pd\n",
    "import numpy as np\n",
    "import matplotlib.pyplot as plt\n",
    "\n",
    "from sklearn.model_selection import train_test_split\n",
    "\n",
    "from sklearn.metrics import accuracy_score, confusion_matrix, fbeta_score, precision_recall_curve\n",
    "\n",
    "from sklearn.feature_extraction.text import CountVectorizer, TfidfVectorizer\n",
    "\n",
    "from sklearn.naive_bayes import MultinomialNB\n",
    "\n",
    "import nltk\n",
    "from nltk.stem.snowball import SnowballStemmer\n",
    "from nltk.stem import WordNetLemmatizer"
   ]
  },
  {
   "cell_type": "code",
   "execution_count": 2,
   "metadata": {},
   "outputs": [],
   "source": [
    "df = pd.read_pickle('kickstarter_analysis.pkl')\n",
    "df = df.dropna()"
   ]
  },
  {
   "cell_type": "markdown",
   "metadata": {},
   "source": [
    "# Blurbs"
   ]
  },
  {
   "cell_type": "code",
   "execution_count": 3,
   "metadata": {},
   "outputs": [],
   "source": [
    "y = df['failed'].values\n",
    "words = set(nltk.corpus.words.words())"
   ]
  },
  {
   "cell_type": "code",
   "execution_count": 4,
   "metadata": {},
   "outputs": [],
   "source": [
    "def non_eng(string):\n",
    "    phrase = \" \".join(w for w in nltk.wordpunct_tokenize(string) if w.lower() in words or not w.isalpha())\n",
    "    return phrase"
   ]
  },
  {
   "cell_type": "code",
   "execution_count": 5,
   "metadata": {},
   "outputs": [],
   "source": [
    "## PROCESSESING USING LEMMATIZATION\n",
    "lemmatizer = WordNetLemmatizer() \n",
    "df['blurb_fix'] = df['blurb'].str.lower() ##lowercase\n",
    "df['blurb_fix'] = df['blurb_fix'].apply(lambda x: [lemmatizer.lemmatize(y) for y in x.split()]) ##get lemma\n",
    "df['blurb_fix'] = df['blurb_fix'].apply(lambda x: ' '.join(x)) ##put into one string\n",
    "df['blurb_fix'] = df['blurb_fix'].apply(non_eng) ##remove non-english words\n",
    "df['blurb_fix'] = df['blurb_fix'].str.replace(r'[^\\w\\s]+', '') ## remove punctuation"
   ]
  },
  {
   "cell_type": "code",
   "execution_count": 6,
   "metadata": {},
   "outputs": [],
   "source": [
    "vectorizer = TfidfVectorizer(min_df = 10, stop_words='english')\n",
    "Xt = vectorizer.fit_transform(df['blurb_fix'])"
   ]
  },
  {
   "cell_type": "code",
   "execution_count": 7,
   "metadata": {},
   "outputs": [],
   "source": [
    "Xt_train, Xt_test, yt_train, yt_test = train_test_split(Xt, y, \n",
    "                                                   test_size = 0.4, random_state = 42)"
   ]
  },
  {
   "cell_type": "code",
   "execution_count": 8,
   "metadata": {},
   "outputs": [
    {
     "name": "stdout",
     "output_type": "stream",
     "text": [
      "MNB Training Score: 62.199790% \n",
      "MNB Testing Score: 58.29%\n"
     ]
    },
    {
     "data": {
      "text/html": [
       "<div>\n",
       "<style scoped>\n",
       "    .dataframe tbody tr th:only-of-type {\n",
       "        vertical-align: middle;\n",
       "    }\n",
       "\n",
       "    .dataframe tbody tr th {\n",
       "        vertical-align: top;\n",
       "    }\n",
       "\n",
       "    .dataframe thead th {\n",
       "        text-align: right;\n",
       "    }\n",
       "</style>\n",
       "<table border=\"1\" class=\"dataframe\">\n",
       "  <thead>\n",
       "    <tr style=\"text-align: right;\">\n",
       "      <th>Predicted</th>\n",
       "      <th>0</th>\n",
       "      <th>1</th>\n",
       "      <th>All</th>\n",
       "    </tr>\n",
       "    <tr>\n",
       "      <th>True</th>\n",
       "      <th></th>\n",
       "      <th></th>\n",
       "      <th></th>\n",
       "    </tr>\n",
       "  </thead>\n",
       "  <tbody>\n",
       "    <tr>\n",
       "      <th>0</th>\n",
       "      <td>30053</td>\n",
       "      <td>8095</td>\n",
       "      <td>38148</td>\n",
       "    </tr>\n",
       "    <tr>\n",
       "      <th>1</th>\n",
       "      <td>13894</td>\n",
       "      <td>15751</td>\n",
       "      <td>29645</td>\n",
       "    </tr>\n",
       "    <tr>\n",
       "      <th>All</th>\n",
       "      <td>43947</td>\n",
       "      <td>23846</td>\n",
       "      <td>67793</td>\n",
       "    </tr>\n",
       "  </tbody>\n",
       "</table>\n",
       "</div>"
      ],
      "text/plain": [
       "Predicted      0      1    All\n",
       "True                          \n",
       "0          30053   8095  38148\n",
       "1          13894  15751  29645\n",
       "All        43947  23846  67793"
      ]
     },
     "execution_count": 8,
     "metadata": {},
     "output_type": "execute_result"
    }
   ],
   "source": [
    "clf = MultinomialNB()\n",
    "clf.fit(Xt_train, yt_train)\n",
    "\n",
    "trnt = clf.predict(Xt_train)\n",
    "tst = clf.predict(Xt_test)\n",
    "\n",
    "train_score = fbeta_score(yt_train, trnt, beta = 1.1)\n",
    "score = fbeta_score(yt_test, tst, beta = 1.1)\n",
    "\n",
    "print(\"MNB Training Score: {:2f}% \\nMNB Testing Score: {:.2f}%\".format(train_score*100, score*100))\n",
    "\n",
    "pd.crosstab(yt_test, tst, rownames=['True'], colnames=['Predicted'], margins=True)"
   ]
  },
  {
   "cell_type": "code",
   "execution_count": 9,
   "metadata": {},
   "outputs": [],
   "source": [
    "df['MNB_Blurb_All'] = clf.predict_proba(Xt)[:,1]"
   ]
  },
  {
   "cell_type": "markdown",
   "metadata": {},
   "source": [
    "# Blurb Categories"
   ]
  },
  {
   "cell_type": "code",
   "execution_count": 10,
   "metadata": {},
   "outputs": [],
   "source": [
    "cats = list(df['category_core'].unique())"
   ]
  },
  {
   "cell_type": "code",
   "execution_count": 11,
   "metadata": {},
   "outputs": [],
   "source": [
    "stored = {}"
   ]
  },
  {
   "cell_type": "code",
   "execution_count": 12,
   "metadata": {},
   "outputs": [],
   "source": [
    "stored = {}\n",
    "for c in cats:\n",
    "     stored[c] = df[df['category_core'] == c]"
   ]
  },
  {
   "cell_type": "code",
   "execution_count": 13,
   "metadata": {},
   "outputs": [
    {
     "name": "stderr",
     "output_type": "stream",
     "text": [
      "/Users/Matt/anaconda3/lib/python3.7/site-packages/ipykernel_launcher.py:14: SettingWithCopyWarning: \n",
      "A value is trying to be set on a copy of a slice from a DataFrame.\n",
      "Try using .loc[row_indexer,col_indexer] = value instead\n",
      "\n",
      "See the caveats in the documentation: http://pandas.pydata.org/pandas-docs/stable/indexing.html#indexing-view-versus-copy\n",
      "  \n"
     ]
    },
    {
     "name": "stdout",
     "output_type": "stream",
     "text": [
      "THE WORD IS food\n",
      "0 :\n",
      "keto | 0.75\n",
      "bitter | 0.72\n",
      "knife | 0.71\n",
      "butcher | 0.70\n",
      "iconic | 0.69\n",
      "1 :\n",
      "smile | 0.92\n",
      "wonderful | 0.91\n",
      "al | 0.91\n",
      "trying | 0.91\n",
      "pork | 0.90\n"
     ]
    },
    {
     "name": "stderr",
     "output_type": "stream",
     "text": [
      "/Users/Matt/anaconda3/lib/python3.7/site-packages/ipykernel_launcher.py:14: SettingWithCopyWarning: \n",
      "A value is trying to be set on a copy of a slice from a DataFrame.\n",
      "Try using .loc[row_indexer,col_indexer] = value instead\n",
      "\n",
      "See the caveats in the documentation: http://pandas.pydata.org/pandas-docs/stable/indexing.html#indexing-view-versus-copy\n",
      "  \n"
     ]
    },
    {
     "name": "stdout",
     "output_type": "stream",
     "text": [
      "THE WORD IS film & video\n",
      "0 :\n",
      "portrait | 0.93\n",
      "documentary | 0.93\n",
      "stretch | 0.92\n",
      "funeral | 0.88\n",
      "refugee | 0.88\n",
      "1 :\n",
      "healthy | 0.86\n",
      "hey | 0.85\n",
      "cartoon | 0.82\n",
      "screenplay | 0.82\n",
      "wanting | 0.81\n"
     ]
    },
    {
     "name": "stderr",
     "output_type": "stream",
     "text": [
      "/Users/Matt/anaconda3/lib/python3.7/site-packages/ipykernel_launcher.py:14: SettingWithCopyWarning: \n",
      "A value is trying to be set on a copy of a slice from a DataFrame.\n",
      "Try using .loc[row_indexer,col_indexer] = value instead\n",
      "\n",
      "See the caveats in the documentation: http://pandas.pydata.org/pandas-docs/stable/indexing.html#indexing-view-versus-copy\n",
      "  \n"
     ]
    },
    {
     "name": "stdout",
     "output_type": "stream",
     "text": [
      "THE WORD IS publishing\n",
      "0 :\n",
      "letterpress | 0.93\n",
      "mountain | 0.92\n",
      "ocean | 0.91\n",
      "coast | 0.91\n",
      "picture | 0.91\n",
      "1 :\n",
      "outlet | 0.79\n",
      "finance | 0.75\n",
      "proven | 0.73\n",
      "condition | 0.72\n",
      "exposure | 0.71\n"
     ]
    },
    {
     "name": "stderr",
     "output_type": "stream",
     "text": [
      "/Users/Matt/anaconda3/lib/python3.7/site-packages/ipykernel_launcher.py:14: SettingWithCopyWarning: \n",
      "A value is trying to be set on a copy of a slice from a DataFrame.\n",
      "Try using .loc[row_indexer,col_indexer] = value instead\n",
      "\n",
      "See the caveats in the documentation: http://pandas.pydata.org/pandas-docs/stable/indexing.html#indexing-view-versus-copy\n",
      "  \n",
      "/Users/Matt/anaconda3/lib/python3.7/site-packages/ipykernel_launcher.py:14: SettingWithCopyWarning: \n",
      "A value is trying to be set on a copy of a slice from a DataFrame.\n",
      "Try using .loc[row_indexer,col_indexer] = value instead\n",
      "\n",
      "See the caveats in the documentation: http://pandas.pydata.org/pandas-docs/stable/indexing.html#indexing-view-versus-copy\n",
      "  \n"
     ]
    },
    {
     "name": "stdout",
     "output_type": "stream",
     "text": [
      "THE WORD IS photography\n",
      "0 :\n",
      "muse | 0.88\n",
      "audience | 0.88\n",
      "mature | 0.88\n",
      "monograph | 0.86\n",
      "contain | 0.84\n",
      "1 :\n",
      "visit | 0.90\n",
      "able | 0.90\n",
      "ich | 0.89\n",
      "drone | 0.89\n",
      "wedding | 0.88\n",
      "THE WORD IS crafts\n",
      "0 :\n",
      "plush | 0.91\n",
      "enamel | 0.88\n",
      "timeless | 0.84\n",
      "giant | 0.82\n",
      "orphan | 0.82\n",
      "1 :\n",
      "furniture | 0.86\n",
      "picture | 0.86\n",
      "open | 0.86\n",
      "led | 0.86\n",
      "soy | 0.86\n"
     ]
    },
    {
     "name": "stderr",
     "output_type": "stream",
     "text": [
      "/Users/Matt/anaconda3/lib/python3.7/site-packages/ipykernel_launcher.py:14: SettingWithCopyWarning: \n",
      "A value is trying to be set on a copy of a slice from a DataFrame.\n",
      "Try using .loc[row_indexer,col_indexer] = value instead\n",
      "\n",
      "See the caveats in the documentation: http://pandas.pydata.org/pandas-docs/stable/indexing.html#indexing-view-versus-copy\n",
      "  \n"
     ]
    },
    {
     "name": "stdout",
     "output_type": "stream",
     "text": [
      "THE WORD IS music\n",
      "0 :\n",
      "folk | 0.94\n",
      "heading | 0.94\n",
      "alt | 0.93\n",
      "printing | 0.93\n",
      "roll | 0.92\n",
      "1 :\n",
      "viral | 0.85\n",
      "skill | 0.84\n",
      "speech | 0.82\n",
      "ist | 0.82\n",
      "aspiring | 0.79\n"
     ]
    },
    {
     "name": "stderr",
     "output_type": "stream",
     "text": [
      "/Users/Matt/anaconda3/lib/python3.7/site-packages/ipykernel_launcher.py:14: SettingWithCopyWarning: \n",
      "A value is trying to be set on a copy of a slice from a DataFrame.\n",
      "Try using .loc[row_indexer,col_indexer] = value instead\n",
      "\n",
      "See the caveats in the documentation: http://pandas.pydata.org/pandas-docs/stable/indexing.html#indexing-view-versus-copy\n",
      "  \n"
     ]
    },
    {
     "name": "stdout",
     "output_type": "stream",
     "text": [
      "THE WORD IS art\n",
      "0 :\n",
      "enamel | 0.93\n",
      "pin | 0.92\n",
      "sketchbook | 0.92\n",
      "coloring | 0.91\n",
      "78 | 0.90\n",
      "1 :\n",
      "passionate | 0.85\n",
      "candle | 0.82\n",
      "active | 0.82\n",
      "geared | 0.81\n",
      "sand | 0.80\n"
     ]
    },
    {
     "name": "stderr",
     "output_type": "stream",
     "text": [
      "/Users/Matt/anaconda3/lib/python3.7/site-packages/ipykernel_launcher.py:14: SettingWithCopyWarning: \n",
      "A value is trying to be set on a copy of a slice from a DataFrame.\n",
      "Try using .loc[row_indexer,col_indexer] = value instead\n",
      "\n",
      "See the caveats in the documentation: http://pandas.pydata.org/pandas-docs/stable/indexing.html#indexing-view-versus-copy\n",
      "  \n"
     ]
    },
    {
     "name": "stdout",
     "output_type": "stream",
     "text": [
      "THE WORD IS fashion\n",
      "0 :\n",
      "adventure | 0.90\n",
      "wallet | 0.88\n",
      "tote | 0.87\n",
      "enamel | 0.87\n",
      "anti | 0.86\n",
      "1 :\n",
      "semi | 0.82\n",
      "precious | 0.81\n",
      "lace | 0.80\n",
      "headband | 0.80\n",
      "user | 0.79\n"
     ]
    },
    {
     "name": "stderr",
     "output_type": "stream",
     "text": [
      "/Users/Matt/anaconda3/lib/python3.7/site-packages/ipykernel_launcher.py:14: SettingWithCopyWarning: \n",
      "A value is trying to be set on a copy of a slice from a DataFrame.\n",
      "Try using .loc[row_indexer,col_indexer] = value instead\n",
      "\n",
      "See the caveats in the documentation: http://pandas.pydata.org/pandas-docs/stable/indexing.html#indexing-view-versus-copy\n",
      "  \n"
     ]
    },
    {
     "name": "stdout",
     "output_type": "stream",
     "text": [
      "THE WORD IS theater\n",
      "0 :\n",
      "identity | 0.88\n",
      "installation | 0.87\n",
      "produced | 0.87\n",
      "satire | 0.87\n",
      "cycle | 0.86\n",
      "1 :\n",
      "gospel | 0.82\n",
      "brother | 0.79\n",
      "message | 0.79\n",
      "pirate | 0.78\n",
      "workout | 0.77\n"
     ]
    },
    {
     "name": "stderr",
     "output_type": "stream",
     "text": [
      "/Users/Matt/anaconda3/lib/python3.7/site-packages/ipykernel_launcher.py:14: SettingWithCopyWarning: \n",
      "A value is trying to be set on a copy of a slice from a DataFrame.\n",
      "Try using .loc[row_indexer,col_indexer] = value instead\n",
      "\n",
      "See the caveats in the documentation: http://pandas.pydata.org/pandas-docs/stable/indexing.html#indexing-view-versus-copy\n",
      "  \n"
     ]
    },
    {
     "name": "stdout",
     "output_type": "stream",
     "text": [
      "THE WORD IS journalism\n",
      "0 :\n",
      "winning | 0.77\n",
      "annual | 0.76\n",
      "och | 0.76\n",
      "award | 0.75\n",
      "edition | 0.72\n",
      "1 :\n",
      "die | 0.92\n",
      "sport | 0.90\n",
      "helping | 0.90\n",
      "latest | 0.88\n",
      "portal | 0.86\n"
     ]
    },
    {
     "name": "stderr",
     "output_type": "stream",
     "text": [
      "/Users/Matt/anaconda3/lib/python3.7/site-packages/ipykernel_launcher.py:14: SettingWithCopyWarning: \n",
      "A value is trying to be set on a copy of a slice from a DataFrame.\n",
      "Try using .loc[row_indexer,col_indexer] = value instead\n",
      "\n",
      "See the caveats in the documentation: http://pandas.pydata.org/pandas-docs/stable/indexing.html#indexing-view-versus-copy\n",
      "  \n"
     ]
    },
    {
     "name": "stdout",
     "output_type": "stream",
     "text": [
      "THE WORD IS technology\n",
      "0 :\n",
      "oscilloscope | 0.85\n",
      "cortex | 0.82\n",
      "toothbrush | 0.79\n",
      "ruler | 0.79\n",
      "nixie | 0.77\n",
      "1 :\n",
      "pour | 0.95\n",
      "para | 0.93\n",
      "dating | 0.93\n",
      "job | 0.93\n",
      "rent | 0.92\n"
     ]
    },
    {
     "name": "stderr",
     "output_type": "stream",
     "text": [
      "/Users/Matt/anaconda3/lib/python3.7/site-packages/ipykernel_launcher.py:14: SettingWithCopyWarning: \n",
      "A value is trying to be set on a copy of a slice from a DataFrame.\n",
      "Try using .loc[row_indexer,col_indexer] = value instead\n",
      "\n",
      "See the caveats in the documentation: http://pandas.pydata.org/pandas-docs/stable/indexing.html#indexing-view-versus-copy\n",
      "  \n"
     ]
    },
    {
     "name": "stdout",
     "output_type": "stream",
     "text": [
      "THE WORD IS games\n",
      "0 :\n",
      "28mm | 0.97\n",
      "novel | 0.95\n",
      "miniature | 0.94\n",
      "5e | 0.94\n",
      "visual | 0.93\n",
      "1 :\n",
      "ball | 0.85\n",
      "rush | 0.83\n",
      "tag | 0.82\n",
      "flag | 0.82\n",
      "golf | 0.81\n"
     ]
    },
    {
     "name": "stderr",
     "output_type": "stream",
     "text": [
      "/Users/Matt/anaconda3/lib/python3.7/site-packages/ipykernel_launcher.py:14: SettingWithCopyWarning: \n",
      "A value is trying to be set on a copy of a slice from a DataFrame.\n",
      "Try using .loc[row_indexer,col_indexer] = value instead\n",
      "\n",
      "See the caveats in the documentation: http://pandas.pydata.org/pandas-docs/stable/indexing.html#indexing-view-versus-copy\n",
      "  \n",
      "/Users/Matt/anaconda3/lib/python3.7/site-packages/ipykernel_launcher.py:14: SettingWithCopyWarning: \n",
      "A value is trying to be set on a copy of a slice from a DataFrame.\n",
      "Try using .loc[row_indexer,col_indexer] = value instead\n",
      "\n",
      "See the caveats in the documentation: http://pandas.pydata.org/pandas-docs/stable/indexing.html#indexing-view-versus-copy\n",
      "  \n"
     ]
    },
    {
     "name": "stdout",
     "output_type": "stream",
     "text": [
      "THE WORD IS comics\n",
      "0 :\n",
      "issue | 0.96\n",
      "collected | 0.95\n",
      "collection | 0.93\n",
      "high | 0.93\n",
      "face | 0.93\n",
      "1 :\n",
      "writing | 0.67\n",
      "martial | 0.59\n",
      "web | 0.58\n",
      "purpose | 0.57\n",
      "store | 0.54\n",
      "THE WORD IS dance\n",
      "0 :\n",
      "work | 0.96\n",
      "collaboration | 0.96\n",
      "concert | 0.96\n",
      "length | 0.95\n",
      "premiere | 0.95\n",
      "1 :\n",
      "confidence | 0.77\n",
      "adult | 0.65\n",
      "fit | 0.62\n",
      "purpose | 0.60\n",
      "para | 0.60\n",
      "THE WORD IS design\n",
      "0 :\n",
      "watch | 0.95\n",
      "leather | 0.95\n",
      "pen | 0.95\n",
      "pocket | 0.95\n",
      "bag | 0.94\n",
      "1 :\n",
      "barn | 0.84\n",
      "healing | 0.82\n",
      "related | 0.79\n",
      "retreat | 0.79\n",
      "local | 0.78\n"
     ]
    },
    {
     "name": "stderr",
     "output_type": "stream",
     "text": [
      "/Users/Matt/anaconda3/lib/python3.7/site-packages/ipykernel_launcher.py:14: SettingWithCopyWarning: \n",
      "A value is trying to be set on a copy of a slice from a DataFrame.\n",
      "Try using .loc[row_indexer,col_indexer] = value instead\n",
      "\n",
      "See the caveats in the documentation: http://pandas.pydata.org/pandas-docs/stable/indexing.html#indexing-view-versus-copy\n",
      "  \n"
     ]
    }
   ],
   "source": [
    "for c in cats:\n",
    "    data = stored[c]\n",
    "    y = data['failed'].values\n",
    "    \n",
    "    vectorizer = TfidfVectorizer(min_df = 10, stop_words='english')\n",
    "    X = vectorizer.fit_transform(data['blurb_fix'])\n",
    "\n",
    "    X_train, X_test, y_train, y_test = train_test_split(X, y, \n",
    "                                                   test_size = 0.4, random_state = 42)\n",
    "\n",
    "    clf = MultinomialNB()\n",
    "    clf.fit(X_train, y_train)\n",
    "\n",
    "    stored[c]['MNB_Blurb_Cat'] = clf.predict_proba(X)[:,1]\n",
    "    \n",
    "    print(\"THE WORD IS {}\".format(c))\n",
    "    words = np.array(vectorizer.get_feature_names())\n",
    "    classes = clf.classes_\n",
    "    x = np.eye(X.shape[1])\n",
    "    probs = clf.predict_log_proba(x)\n",
    "    for i, c in enumerate(classes):\n",
    "        prob = probs[:,i]\n",
    "        ind = np.argsort(prob)[::-1]\n",
    "    \n",
    "        good_words = words[ind[:5]]\n",
    "    \n",
    "        good_prob = prob[ind[:5]]\n",
    "        \n",
    "        print(c,\":\")\n",
    "        for w, p in zip(good_words, good_prob):\n",
    "            print(\"{} | {:.2f}\".format(w, np.exp(p)))"
   ]
  },
  {
   "cell_type": "code",
   "execution_count": 14,
   "metadata": {},
   "outputs": [],
   "source": [
    "final = list()\n",
    "for c in cats:\n",
    "    final.append(stored[c])"
   ]
  },
  {
   "cell_type": "code",
   "execution_count": 15,
   "metadata": {},
   "outputs": [],
   "source": [
    "final_all = pd.concat(final)"
   ]
  },
  {
   "cell_type": "code",
   "execution_count": null,
   "metadata": {},
   "outputs": [],
   "source": []
  },
  {
   "cell_type": "code",
   "execution_count": null,
   "metadata": {},
   "outputs": [],
   "source": []
  },
  {
   "cell_type": "code",
   "execution_count": null,
   "metadata": {},
   "outputs": [],
   "source": []
  },
  {
   "cell_type": "markdown",
   "metadata": {},
   "source": [
    "# Description"
   ]
  },
  {
   "cell_type": "code",
   "execution_count": 16,
   "metadata": {},
   "outputs": [],
   "source": [
    "df = final_all"
   ]
  },
  {
   "cell_type": "code",
   "execution_count": 17,
   "metadata": {},
   "outputs": [],
   "source": [
    "y = df['failed'].values\n",
    "words = set(nltk.corpus.words.words())"
   ]
  },
  {
   "cell_type": "code",
   "execution_count": 18,
   "metadata": {},
   "outputs": [],
   "source": [
    "## PROCESSESING USING LEMMATIZATION\n",
    "lemmatizer = WordNetLemmatizer() \n",
    "df['desc_fix'] = df['description'].str.lower() ##lowercase\n",
    "df['desc_fix'] = df['desc_fix'].apply(lambda x: [lemmatizer.lemmatize(y) for y in x.split()]) ##get lemma\n",
    "df['desc_fix'] = df['desc_fix'].apply(lambda x: ' '.join(x)) ##put into one string\n",
    "df['desc_fix'] = df['desc_fix'].apply(non_eng) ##remove non-english words\n",
    "df['desc_fix'] = df['desc_fix'].str.replace(r'[^\\w\\s]+', '') ## remove punctuation"
   ]
  },
  {
   "cell_type": "code",
   "execution_count": 19,
   "metadata": {},
   "outputs": [],
   "source": [
    "vectorizer = TfidfVectorizer(min_df = 10, stop_words='english')\n",
    "Xt = vectorizer.fit_transform(df['desc_fix'])"
   ]
  },
  {
   "cell_type": "code",
   "execution_count": 20,
   "metadata": {},
   "outputs": [],
   "source": [
    "Xt_train, Xt_test, yt_train, yt_test = train_test_split(Xt, y, \n",
    "                                                   test_size = 0.4, random_state = 42)"
   ]
  },
  {
   "cell_type": "code",
   "execution_count": 21,
   "metadata": {},
   "outputs": [
    {
     "name": "stdout",
     "output_type": "stream",
     "text": [
      "MNB Training Score: 64.203981% \n",
      "MNB Testing Score: 61.68%\n"
     ]
    }
   ],
   "source": [
    "clf = MultinomialNB()\n",
    "clf.fit(Xt_train, yt_train)\n",
    "\n",
    "trnt = clf.predict(Xt_train)\n",
    "tst = clf.predict(Xt_test)\n",
    "\n",
    "train_score = fbeta_score(yt_train, trnt, beta = 1.1)\n",
    "score = fbeta_score(yt_test, tst, beta = 1.1)\n",
    "\n",
    "print(\"MNB Training Score: {:2f}% \\nMNB Testing Score: {:.2f}%\".format(train_score*100, score*100))"
   ]
  },
  {
   "cell_type": "code",
   "execution_count": 22,
   "metadata": {},
   "outputs": [],
   "source": [
    "df['MNB_Desc_All'] = clf.predict_proba(Xt)[:,1]"
   ]
  },
  {
   "cell_type": "markdown",
   "metadata": {},
   "source": [
    "## Description Categories"
   ]
  },
  {
   "cell_type": "code",
   "execution_count": 23,
   "metadata": {},
   "outputs": [],
   "source": [
    "cats = list(df['category_core'].unique())"
   ]
  },
  {
   "cell_type": "code",
   "execution_count": 24,
   "metadata": {},
   "outputs": [],
   "source": [
    "stored = {}\n",
    "for c in cats:\n",
    "     stored[c] = df[df['category_core'] == c]"
   ]
  },
  {
   "cell_type": "code",
   "execution_count": null,
   "metadata": {},
   "outputs": [
    {
     "name": "stderr",
     "output_type": "stream",
     "text": [
      "/Users/Matt/anaconda3/lib/python3.7/site-packages/ipykernel_launcher.py:14: SettingWithCopyWarning: \n",
      "A value is trying to be set on a copy of a slice from a DataFrame.\n",
      "Try using .loc[row_indexer,col_indexer] = value instead\n",
      "\n",
      "See the caveats in the documentation: http://pandas.pydata.org/pandas-docs/stable/indexing.html#indexing-view-versus-copy\n",
      "  \n"
     ]
    },
    {
     "name": "stdout",
     "output_type": "stream",
     "text": [
      "THE WORD IS food\n",
      "0 :\n",
      "unlocked | 0.66\n",
      "birch | 0.65\n",
      "keto | 0.64\n",
      "bitters | 0.64\n",
      "ketogenic | 0.63\n",
      "1 :\n",
      "ich | 0.94\n",
      "franchise | 0.89\n",
      "ist | 0.89\n",
      "homeless | 0.89\n",
      "da | 0.88\n"
     ]
    },
    {
     "name": "stderr",
     "output_type": "stream",
     "text": [
      "/Users/Matt/anaconda3/lib/python3.7/site-packages/ipykernel_launcher.py:14: SettingWithCopyWarning: \n",
      "A value is trying to be set on a copy of a slice from a DataFrame.\n",
      "Try using .loc[row_indexer,col_indexer] = value instead\n",
      "\n",
      "See the caveats in the documentation: http://pandas.pydata.org/pandas-docs/stable/indexing.html#indexing-view-versus-copy\n",
      "  \n"
     ]
    },
    {
     "name": "stdout",
     "output_type": "stream",
     "text": [
      "THE WORD IS film & video\n",
      "0 :\n",
      "archival | 0.87\n",
      "documentary | 0.87\n",
      "refugee | 0.85\n",
      "deductible | 0.85\n",
      "correction | 0.85\n",
      "1 :\n",
      "marshal | 0.77\n",
      "twitch | 0.75\n",
      "ich | 0.75\n",
      "cartoon | 0.75\n",
      "ruler | 0.74\n"
     ]
    }
   ],
   "source": [
    "for c in cats:\n",
    "    data = stored[c]\n",
    "    y = data['failed'].values\n",
    "    \n",
    "    vectorizer = TfidfVectorizer(min_df = 10, stop_words='english')\n",
    "    X = vectorizer.fit_transform(data['desc_fix'])\n",
    "\n",
    "    X_train, X_test, y_train, y_test = train_test_split(X, y, \n",
    "                                                   test_size = 0.4, random_state = 42)\n",
    "\n",
    "    clf = MultinomialNB()\n",
    "    clf.fit(X_train, y_train)\n",
    "\n",
    "    stored[c]['MNB_Desc_Cat'] = clf.predict_proba(X)[:,1]\n",
    "    \n",
    "    print(\"THE WORD IS {}\".format(c))\n",
    "    words = np.array(vectorizer.get_feature_names())\n",
    "    classes = clf.classes_\n",
    "    x = np.eye(X.shape[1])\n",
    "    probs = clf.predict_log_proba(x)\n",
    "    for i, c in enumerate(classes):\n",
    "        prob = probs[:,i]\n",
    "        ind = np.argsort(prob)[::-1]\n",
    "    \n",
    "        good_words = words[ind[:5]]\n",
    "    \n",
    "        good_prob = prob[ind[:5]]\n",
    "        \n",
    "        print(c,\":\")\n",
    "        for w, p in zip(good_words, good_prob):\n",
    "            print(\"{} | {:.2f}\".format(w, np.exp(p)))"
   ]
  },
  {
   "cell_type": "code",
   "execution_count": 47,
   "metadata": {},
   "outputs": [],
   "source": [
    "alldesc = list()\n",
    "for c in cats:\n",
    "    alldesc.append(stored[c])\n",
    "    \n",
    "alldesc = pd.concat(alldesc)"
   ]
  },
  {
   "cell_type": "code",
   "execution_count": 48,
   "metadata": {},
   "outputs": [
    {
     "data": {
      "text/html": [
       "<div>\n",
       "<style scoped>\n",
       "    .dataframe tbody tr th:only-of-type {\n",
       "        vertical-align: middle;\n",
       "    }\n",
       "\n",
       "    .dataframe tbody tr th {\n",
       "        vertical-align: top;\n",
       "    }\n",
       "\n",
       "    .dataframe thead th {\n",
       "        text-align: right;\n",
       "    }\n",
       "</style>\n",
       "<table border=\"1\" class=\"dataframe\">\n",
       "  <thead>\n",
       "    <tr style=\"text-align: right;\">\n",
       "      <th></th>\n",
       "      <th>blurb</th>\n",
       "      <th>country</th>\n",
       "      <th>created_at</th>\n",
       "      <th>currency</th>\n",
       "      <th>deadline</th>\n",
       "      <th>launched_at</th>\n",
       "      <th>slug</th>\n",
       "      <th>spotlight</th>\n",
       "      <th>staff_pick</th>\n",
       "      <th>state</th>\n",
       "      <th>...</th>\n",
       "      <th>created_weekday</th>\n",
       "      <th>deadline_month</th>\n",
       "      <th>deadline_weekday</th>\n",
       "      <th>length_of_project</th>\n",
       "      <th>blurb_fix</th>\n",
       "      <th>MNB_Blurb_All</th>\n",
       "      <th>MNB_Blurb_Cat</th>\n",
       "      <th>desc_fix</th>\n",
       "      <th>MNB_Desc_All</th>\n",
       "      <th>MNB_Desc_Cat</th>\n",
       "    </tr>\n",
       "  </thead>\n",
       "  <tbody>\n",
       "    <tr>\n",
       "      <th>0</th>\n",
       "      <td>Ginger KICK! is back for the holidays with ama...</td>\n",
       "      <td>US</td>\n",
       "      <td>2017-11-05 12:05:03</td>\n",
       "      <td>USD</td>\n",
       "      <td>2017-11-12 20:33:24</td>\n",
       "      <td>2017-11-05 20:33:24</td>\n",
       "      <td>ginger-kick-holiday-cheer</td>\n",
       "      <td>1</td>\n",
       "      <td>0</td>\n",
       "      <td>successful</td>\n",
       "      <td>...</td>\n",
       "      <td>Sun</td>\n",
       "      <td>Nov</td>\n",
       "      <td>Sun</td>\n",
       "      <td>7</td>\n",
       "      <td>ginger kick  is back for the holiday with amaz...</td>\n",
       "      <td>1</td>\n",
       "      <td>0</td>\n",
       "      <td>for those visiting for the first time  here  s...</td>\n",
       "      <td>0</td>\n",
       "      <td>0</td>\n",
       "    </tr>\n",
       "    <tr>\n",
       "      <th>11</th>\n",
       "      <td>More than just a farm.</td>\n",
       "      <td>CA</td>\n",
       "      <td>2015-06-29 03:23:38</td>\n",
       "      <td>CAD</td>\n",
       "      <td>2015-12-05 06:00:00</td>\n",
       "      <td>2015-11-05 15:02:36</td>\n",
       "      <td>flavourful-farms</td>\n",
       "      <td>1</td>\n",
       "      <td>1</td>\n",
       "      <td>successful</td>\n",
       "      <td>...</td>\n",
       "      <td>Mon</td>\n",
       "      <td>Dec</td>\n",
       "      <td>Sat</td>\n",
       "      <td>159</td>\n",
       "      <td>more than just a farm</td>\n",
       "      <td>1</td>\n",
       "      <td>1</td>\n",
       "      <td>built to serve you farm wa after year of resea...</td>\n",
       "      <td>1</td>\n",
       "      <td>1</td>\n",
       "    </tr>\n",
       "    <tr>\n",
       "      <th>13</th>\n",
       "      <td>I'm on a mission to make the best, most sinful...</td>\n",
       "      <td>US</td>\n",
       "      <td>2014-07-07 21:05:23</td>\n",
       "      <td>USD</td>\n",
       "      <td>2014-09-09 03:44:57</td>\n",
       "      <td>2014-07-11 03:44:57</td>\n",
       "      <td>creating-a-perfect-mac-and-cheese</td>\n",
       "      <td>0</td>\n",
       "      <td>0</td>\n",
       "      <td>failed</td>\n",
       "      <td>...</td>\n",
       "      <td>Mon</td>\n",
       "      <td>Sep</td>\n",
       "      <td>Tue</td>\n",
       "      <td>63</td>\n",
       "      <td>i  m on a mission to make the best  most sinfu...</td>\n",
       "      <td>0</td>\n",
       "      <td>1</td>\n",
       "      <td>my goal is to create ultra gourmet mac and che...</td>\n",
       "      <td>1</td>\n",
       "      <td>1</td>\n",
       "    </tr>\n",
       "    <tr>\n",
       "      <th>14</th>\n",
       "      <td>I want to open a neighborhood bakery so I can ...</td>\n",
       "      <td>US</td>\n",
       "      <td>2015-08-14 00:29:00</td>\n",
       "      <td>USD</td>\n",
       "      <td>2015-09-14 11:21:58</td>\n",
       "      <td>2015-08-15 11:21:58</td>\n",
       "      <td>old-irish-bakery</td>\n",
       "      <td>0</td>\n",
       "      <td>0</td>\n",
       "      <td>failed</td>\n",
       "      <td>...</td>\n",
       "      <td>Fri</td>\n",
       "      <td>Sep</td>\n",
       "      <td>Mon</td>\n",
       "      <td>31</td>\n",
       "      <td>i want to open a neighborhood bakery so i can ...</td>\n",
       "      <td>1</td>\n",
       "      <td>1</td>\n",
       "      <td>every one of my happy childhood memory involve...</td>\n",
       "      <td>1</td>\n",
       "      <td>1</td>\n",
       "    </tr>\n",
       "    <tr>\n",
       "      <th>18</th>\n",
       "      <td>A wine lounge that educates the mind and the p...</td>\n",
       "      <td>US</td>\n",
       "      <td>2018-02-02 02:26:14</td>\n",
       "      <td>USD</td>\n",
       "      <td>2018-05-20 03:59:00</td>\n",
       "      <td>2018-04-19 17:32:16</td>\n",
       "      <td>blacksburg-wine-lab</td>\n",
       "      <td>1</td>\n",
       "      <td>0</td>\n",
       "      <td>successful</td>\n",
       "      <td>...</td>\n",
       "      <td>Fri</td>\n",
       "      <td>May</td>\n",
       "      <td>Sun</td>\n",
       "      <td>107</td>\n",
       "      <td>a wine lounge that the mind and the palate  in...</td>\n",
       "      <td>1</td>\n",
       "      <td>1</td>\n",
       "      <td>overview  wine lab is so because it will be de...</td>\n",
       "      <td>1</td>\n",
       "      <td>1</td>\n",
       "    </tr>\n",
       "  </tbody>\n",
       "</table>\n",
       "<p>5 rows × 41 columns</p>\n",
       "</div>"
      ],
      "text/plain": [
       "                                                blurb country  \\\n",
       "0   Ginger KICK! is back for the holidays with ama...      US   \n",
       "11                             More than just a farm.      CA   \n",
       "13  I'm on a mission to make the best, most sinful...      US   \n",
       "14  I want to open a neighborhood bakery so I can ...      US   \n",
       "18  A wine lounge that educates the mind and the p...      US   \n",
       "\n",
       "            created_at currency            deadline         launched_at  \\\n",
       "0  2017-11-05 12:05:03      USD 2017-11-12 20:33:24 2017-11-05 20:33:24   \n",
       "11 2015-06-29 03:23:38      CAD 2015-12-05 06:00:00 2015-11-05 15:02:36   \n",
       "13 2014-07-07 21:05:23      USD 2014-09-09 03:44:57 2014-07-11 03:44:57   \n",
       "14 2015-08-14 00:29:00      USD 2015-09-14 11:21:58 2015-08-15 11:21:58   \n",
       "18 2018-02-02 02:26:14      USD 2018-05-20 03:59:00 2018-04-19 17:32:16   \n",
       "\n",
       "                                 slug  spotlight  staff_pick       state  ...  \\\n",
       "0           ginger-kick-holiday-cheer          1           0  successful  ...   \n",
       "11                   flavourful-farms          1           1  successful  ...   \n",
       "13  creating-a-perfect-mac-and-cheese          0           0      failed  ...   \n",
       "14                   old-irish-bakery          0           0      failed  ...   \n",
       "18                blacksburg-wine-lab          1           0  successful  ...   \n",
       "\n",
       "    created_weekday deadline_month deadline_weekday length_of_project  \\\n",
       "0               Sun            Nov              Sun                 7   \n",
       "11              Mon            Dec              Sat               159   \n",
       "13              Mon            Sep              Tue                63   \n",
       "14              Fri            Sep              Mon                31   \n",
       "18              Fri            May              Sun               107   \n",
       "\n",
       "                                            blurb_fix MNB_Blurb_All  \\\n",
       "0   ginger kick  is back for the holiday with amaz...             1   \n",
       "11                             more than just a farm              1   \n",
       "13  i  m on a mission to make the best  most sinfu...             0   \n",
       "14  i want to open a neighborhood bakery so i can ...             1   \n",
       "18  a wine lounge that the mind and the palate  in...             1   \n",
       "\n",
       "    MNB_Blurb_Cat                                           desc_fix  \\\n",
       "0               0  for those visiting for the first time  here  s...   \n",
       "11              1  built to serve you farm wa after year of resea...   \n",
       "13              1  my goal is to create ultra gourmet mac and che...   \n",
       "14              1  every one of my happy childhood memory involve...   \n",
       "18              1  overview  wine lab is so because it will be de...   \n",
       "\n",
       "   MNB_Desc_All  MNB_Desc_Cat  \n",
       "0             0             0  \n",
       "11            1             1  \n",
       "13            1             1  \n",
       "14            1             1  \n",
       "18            1             1  \n",
       "\n",
       "[5 rows x 41 columns]"
      ]
     },
     "execution_count": 48,
     "metadata": {},
     "output_type": "execute_result"
    }
   ],
   "source": [
    "alldesc.head()"
   ]
  },
  {
   "cell_type": "code",
   "execution_count": 49,
   "metadata": {},
   "outputs": [],
   "source": [
    "alldesc.to_pickle('kickstarter_NB.pkl')"
   ]
  },
  {
   "cell_type": "code",
   "execution_count": null,
   "metadata": {},
   "outputs": [],
   "source": []
  },
  {
   "cell_type": "code",
   "execution_count": null,
   "metadata": {},
   "outputs": [],
   "source": []
  },
  {
   "cell_type": "code",
   "execution_count": null,
   "metadata": {},
   "outputs": [],
   "source": []
  },
  {
   "cell_type": "code",
   "execution_count": null,
   "metadata": {},
   "outputs": [],
   "source": []
  }
 ],
 "metadata": {
  "kernelspec": {
   "display_name": "Python 3",
   "language": "python",
   "name": "python3"
  },
  "language_info": {
   "codemirror_mode": {
    "name": "ipython",
    "version": 3
   },
   "file_extension": ".py",
   "mimetype": "text/x-python",
   "name": "python",
   "nbconvert_exporter": "python",
   "pygments_lexer": "ipython3",
   "version": "3.7.3"
  }
 },
 "nbformat": 4,
 "nbformat_minor": 2
}
